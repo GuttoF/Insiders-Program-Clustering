{
 "cells": [
  {
   "cell_type": "markdown",
   "id": "7733433a-1448-4aa3-b733-04c03a8e424f",
   "metadata": {
    "execution": {
     "iopub.execute_input": "2021-04-20T17:22:50.649552Z",
     "iopub.status.busy": "2021-04-20T17:22:50.649237Z",
     "iopub.status.idle": "2021-04-20T17:22:50.656562Z",
     "shell.execute_reply": "2021-04-20T17:22:50.655254Z",
     "shell.execute_reply.started": "2021-04-20T17:22:50.649474Z"
    },
    "tags": []
   },
   "source": [
    "# All In One Place\n",
    "---\n",
    "    All In One Place Co. is a multi-brand company that seeks to sell various products at a competitive price and quality assurance. Recently, the marketing team discovered in database that some customers were buying more expensive products frequently. \n",
    "    Knowing this, the All In One Place team create a plan to develop a loyalty program for customers, the idea of the Insiders was created. Even with that information, the team isn't sure which customers will be assigned to the program, so the data team was called to cooperate. \n",
    "    It is up to the data team to answer the following questions: \n",
    "   - Who are the elegible people to participate in the “Insiders Program”?\n",
    "   - How many clients will be part of the group?\n",
    "   - Which are the main caracteristics for the group?\n",
    "   - What is the revenue percentage that comes from the group?\n",
    "   - Which are the guarantees that the “Insiders Program” is better than the rest of the base?"
   ]
  },
  {
   "cell_type": "markdown",
   "id": "a83af9aa-1739-4208-b66b-cb5d4c82095e",
   "metadata": {
    "heading_collapsed": "true",
    "tags": []
   },
   "source": [
    "## PLANNING"
   ]
  },
  {
   "cell_type": "markdown",
   "id": "61f96d44-4098-4373-bf4d-2bef5521a155",
   "metadata": {
    "execution": {
     "iopub.execute_input": "2021-04-20T17:23:23.458576Z",
     "iopub.status.busy": "2021-04-20T17:23:23.458186Z",
     "iopub.status.idle": "2021-04-20T17:23:23.520077Z",
     "shell.execute_reply": "2021-04-20T17:23:23.519123Z",
     "shell.execute_reply.started": "2021-04-20T17:23:23.458530Z"
    }
   },
   "source": [
    "1. Identify elegible costumers for Insiders?\n",
    "    - How can a costumer become eligible? What is a High-Value costumer?\n",
    "        - **Revenue**:\n",
    "            - High ticket\n",
    "            - High LT revenue\n",
    "            - Low recency\n",
    "            - High bascket size\n",
    "            - Low churn probability\n",
    "            - High revenue forecast\n",
    "            - High probabilty of pruchase\n",
    "\n",
    "        - **Cost**:\n",
    "            - Low return rate\n",
    "\n",
    "        - **Costumer experience**:\n",
    "            - High rating\n",
    "    \n",
    "2. How many costumers will be included into Insiders?\n",
    "    - Total customers\n",
    "    - Rate (%) of members to include in Insiders\n",
    "        \n",
    "3. Which are the main characteristics of those costumers?\n",
    "    - Describe the customers attributes:\n",
    "        - Age\n",
    "        - Localization\n",
    "     \n",
    "    - Consumption behavior:\n",
    "        - Same attributes for clustering\n",
    "        \n",
    "4. Which is the revenue of Insiders?\n",
    "    - Total revenue\n",
    "    - Revenue of Insiders members\n",
    "\n",
    "5. Which is the revenue forecast for next months of Insiders?\n",
    "    - LT revenue of Insiders members\n",
    "    - Cohort analysis\n",
    "\n",
    "6. What are the conditions to be included in Insiders?\n",
    "    - Define the period of evualation (1 month, 3 months,...)\n",
    "    - New members must have similar attributes of current members\n",
    "\n",
    "7. What are the conditions to be removed in Insiders?\n",
    "    - Define the period of evualation (1 month, 3 months,...)\n",
    "    - Members to be removed must have different attributes of group\n",
    "\n",
    "8. How can we garantee the Insiders program is better than others costumers?\n",
    "    - A/B Test\n",
    "    - A/B Bayesian\n",
    "    - Hypothesis test\n",
    "\n",
    "9. How can Marketing Dept. increase the revenue?\n",
    "    - Discount\n",
    "    - Purchase preference\n",
    "    - Free freight\n",
    "    - Company tour"
   ]
  },
  {
   "cell_type": "markdown",
   "id": "714c2a33-8310-4428-a529-5fc4a39ec859",
   "metadata": {
    "tags": []
   },
   "source": [
    "## IMPORTS"
   ]
  },
  {
   "cell_type": "code",
   "execution_count": 1,
   "id": "b2d9df22-6b44-499b-a07e-91dd37ae492e",
   "metadata": {
    "execution": {
     "iopub.execute_input": "2021-04-30T19:16:04.151633Z",
     "iopub.status.busy": "2021-04-30T19:16:04.151374Z",
     "iopub.status.idle": "2021-04-30T19:16:05.344428Z",
     "shell.execute_reply": "2021-04-30T19:16:05.343851Z",
     "shell.execute_reply.started": "2021-04-30T19:16:04.151558Z"
    },
    "tags": []
   },
   "outputs": [],
   "source": [
    "# loading packages\n",
    "from IPython.core.display import HTML\n",
    "from IPython.core.display import Image\n",
    "import inflection\n",
    "import warnings\n",
    "import pickle\n",
    "\n",
    "# data manipulation\n",
    "import numpy as np\n",
    "import pandas as pd\n",
    "from datetime import timedelta\n",
    "\n",
    "# data visualization\n",
    "import matplotlib.pyplot as plt\n",
    "import seaborn as sns\n",
    "import matplotlib.ticker as ticker\n",
    "from plotly import express as px\n",
    "\n",
    "# data preprocessing\n",
    "from sklearn.preprocessing import StandardScaler\n",
    "\n",
    "\n",
    "\n",
    "from yellowbrick.cluster import KElbowVisualizer\n",
    "from yellowbrick.cluster import SilhouetteVisualizer\n",
    "from sklearn import cluster as c\n",
    "from sklearn import metrics as m"
   ]
  },
  {
   "cell_type": "markdown",
   "id": "391f4936-7e8d-4b08-b501-7ffc5591b20e",
   "metadata": {
    "tags": []
   },
   "source": [
    "## HELPER FUNCTIONS"
   ]
  },
  {
   "cell_type": "markdown",
   "id": "b3e754e7-8793-45ec-a9ab-32d3a87221de",
   "metadata": {},
   "source": [
    "Numerical"
   ]
  },
  {
   "cell_type": "code",
   "execution_count": 2,
   "id": "b49fb526-20c3-4938-82c2-d9722f932f1f",
   "metadata": {
    "execution": {
     "iopub.execute_input": "2021-04-30T19:16:05.345770Z",
     "iopub.status.busy": "2021-04-30T19:16:05.345597Z",
     "iopub.status.idle": "2021-04-30T19:16:05.353263Z",
     "shell.execute_reply": "2021-04-30T19:16:05.352303Z",
     "shell.execute_reply.started": "2021-04-30T19:16:05.345748Z"
    },
    "tags": []
   },
   "outputs": [],
   "source": [
    "def numerical_metrics(numerical_attributes):\n",
    "    data_mean = pd.DataFrame(numerical_attributes.apply(np.mean)).T\n",
    "    data_median = pd.DataFrame(numerical_attributes.apply(np.median)).T\n",
    "    data_std = pd.DataFrame(numerical_attributes.apply(np.std)).T\n",
    "    data_min = pd.DataFrame(numerical_attributes.apply(min)).T\n",
    "    data_max = pd.DataFrame(numerical_attributes.apply(max)).T\n",
    "    data_range = pd.DataFrame(numerical_attributes.apply(lambda x: x.max() - x.min())).T\n",
    "    data_q1 = pd.DataFrame(numerical_attributes.apply(lambda x: np.quantile(x, .25) )).T\n",
    "    data_q3 = pd.DataFrame(numerical_attributes.apply(lambda x: np.quantile(x, .75) )).T\n",
    "    data_skew = pd.DataFrame(numerical_attributes.apply(lambda x: x.skew())).T\n",
    "    data_kurtosis = pd.DataFrame(numerical_attributes.apply(lambda x: x.kurtosis())).T\n",
    "\n",
    "    num_attributes = pd.concat([data_min,data_max,data_range,data_mean,data_median, data_q1, data_q3,data_std,data_skew,data_kurtosis]).T.reset_index()\n",
    "    num_attributes.columns=['Attributes','Min','Max','Range','Mean','Median','Q1','Q3', 'St deviation','Skewness','Kurtosis']\n",
    "\n",
    "    return num_attributes"
   ]
  },
  {
   "cell_type": "markdown",
   "id": "f8f7baff-ea60-4786-845f-5760356b05b5",
   "metadata": {},
   "source": [
    "Graphic"
   ]
  },
  {
   "cell_type": "code",
   "execution_count": 3,
   "id": "03ce1d6e-72c0-4aa4-97b0-0f26022364dd",
   "metadata": {
    "execution": {
     "iopub.execute_input": "2021-04-30T19:16:05.355269Z",
     "iopub.status.busy": "2021-04-30T19:16:05.354951Z",
     "iopub.status.idle": "2021-04-30T19:16:05.383873Z",
     "shell.execute_reply": "2021-04-30T19:16:05.383099Z",
     "shell.execute_reply.started": "2021-04-30T19:16:05.355230Z"
    }
   },
   "outputs": [
    {
     "name": "stdout",
     "output_type": "stream",
     "text": [
      "Populating the interactive namespace from numpy and matplotlib\n"
     ]
    },
    {
     "data": {
      "text/html": [
       "<style>.container { width:100% !important; }</style>"
      ],
      "text/plain": [
       "<IPython.core.display.HTML object>"
      ]
     },
     "metadata": {},
     "output_type": "display_data"
    }
   ],
   "source": [
    "def jupyter_settings():\n",
    "    %matplotlib inline\n",
    "    %pylab inline\n",
    "    plt.style.use( 'seaborn-pastel' )\n",
    "    plt.rcParams['figure.figsize'] = [25, 12]\n",
    "    plt.rcParams['font.size'] = 24\n",
    "    display( HTML( '<style>.container { width:100% !important; }</style>') )\n",
    "    pd.options.display.max_columns = None\n",
    "    pd.options.display.max_rows = None\n",
    "    pd.set_option( 'display.expand_frame_repr', False )\n",
    "    sns.set()\n",
    "    \n",
    "jupyter_settings()"
   ]
  },
  {
   "cell_type": "markdown",
   "id": "82e3f9e1-2725-4465-8ed4-8cd630d920f2",
   "metadata": {},
   "source": [
    "Configuration"
   ]
  },
  {
   "cell_type": "code",
   "execution_count": 4,
   "id": "bafa1289-1c5b-45ff-930b-dabd578cb373",
   "metadata": {
    "execution": {
     "iopub.execute_input": "2021-04-30T19:16:05.385103Z",
     "iopub.status.busy": "2021-04-30T19:16:05.384858Z",
     "iopub.status.idle": "2021-04-30T19:16:05.392076Z",
     "shell.execute_reply": "2021-04-30T19:16:05.391018Z",
     "shell.execute_reply.started": "2021-04-30T19:16:05.385075Z"
    }
   },
   "outputs": [],
   "source": [
    "# snakecase\n",
    "def snakecase(cols):\n",
    "    change_snakecase = lambda x: inflection.underscore(x)\n",
    "    return list(map(change_snakecase, cols))\n",
    "\n",
    "\n",
    "def change_df(data):\n",
    "    return pd.DataFrame(data)\n",
    "\n",
    "\n",
    "# ignoring errors\n",
    "warnings.filterwarnings('ignore')\n",
    "\n",
    "# round\n",
    "pd.options.display.float_format = '{:.3f}'.format\n",
    "\n",
    "seed = 42"
   ]
  },
  {
   "cell_type": "markdown",
   "id": "a58b30db-318b-4c29-927c-a906be937959",
   "metadata": {
    "heading_collapsed": "true",
    "tags": []
   },
   "source": [
    "## DATA"
   ]
  },
  {
   "cell_type": "markdown",
   "id": "bff6d3c5-9c3a-4f82-8c70-c380f16b835b",
   "metadata": {
    "execution": {
     "iopub.execute_input": "2021-04-20T17:26:21.023646Z",
     "iopub.status.busy": "2021-04-20T17:26:21.023275Z",
     "iopub.status.idle": "2021-04-20T17:26:21.031121Z",
     "shell.execute_reply": "2021-04-20T17:26:21.029768Z",
     "shell.execute_reply.started": "2021-04-20T17:26:21.023603Z"
    }
   },
   "source": [
    "This dataset is avaliable in: https://www.kaggle.com/vik2012kvs/high-value-customers-identification\n",
    "\n",
    "- **Data fields**\n",
    "    - Invoice Number: Unique value from every transaction\n",
    "    - Stock Code Product: Product code\n",
    "    - Description: Product name\n",
    "    - Quantity: The quantities of each product per transaction\n",
    "    - Invoice Date: The day when the transaction was generated\n",
    "    - Unit Price: Product price per unit\n",
    "    - Customer ID: Unique ID to each customer\n",
    "    - Country: Country name"
   ]
  },
  {
   "cell_type": "code",
   "execution_count": 5,
   "id": "e4eb4b7e-a10e-4004-a28e-47bcc777429c",
   "metadata": {
    "execution": {
     "iopub.execute_input": "2021-04-30T19:16:05.394270Z",
     "iopub.status.busy": "2021-04-30T19:16:05.393801Z",
     "iopub.status.idle": "2021-04-30T19:16:05.401147Z",
     "shell.execute_reply": "2021-04-30T19:16:05.399838Z",
     "shell.execute_reply.started": "2021-04-30T19:16:05.394212Z"
    },
    "tags": []
   },
   "outputs": [],
   "source": [
    "homepath = '/home/gutto/projects/pa005_insiders_clustering/insiders_clustering/'"
   ]
  },
  {
   "cell_type": "code",
   "execution_count": 6,
   "id": "f54e0dd5-0195-4dd5-bc37-3f2536d8de84",
   "metadata": {
    "execution": {
     "iopub.execute_input": "2021-04-30T19:16:05.403260Z",
     "iopub.status.busy": "2021-04-30T19:16:05.402833Z",
     "iopub.status.idle": "2021-04-30T19:16:06.119293Z",
     "shell.execute_reply": "2021-04-30T19:16:06.118753Z",
     "shell.execute_reply.started": "2021-04-30T19:16:05.403207Z"
    }
   },
   "outputs": [],
   "source": [
    "df_raw = pd.read_csv(homepath + 'data/raw/Ecommerce.csv', low_memory = False)"
   ]
  },
  {
   "cell_type": "code",
   "execution_count": 7,
   "id": "e59071c5-324f-4928-bba3-3b6b299d9f4b",
   "metadata": {
    "execution": {
     "iopub.execute_input": "2021-04-30T19:16:06.120296Z",
     "iopub.status.busy": "2021-04-30T19:16:06.120105Z",
     "iopub.status.idle": "2021-04-30T19:16:06.293762Z",
     "shell.execute_reply": "2021-04-30T19:16:06.293112Z",
     "shell.execute_reply.started": "2021-04-30T19:16:06.120271Z"
    }
   },
   "outputs": [],
   "source": [
    "pickle.dump(df_raw, open(homepath + 'data/processed/df_raw.pkl', 'wb'))"
   ]
  },
  {
   "cell_type": "markdown",
   "id": "14dfba65-28de-4553-8c2c-7555deb525e4",
   "metadata": {
    "tags": []
   },
   "source": [
    "## 1.0 DATA DESCRIPTION"
   ]
  },
  {
   "cell_type": "markdown",
   "id": "a0665850-bd8b-4fd8-9360-d78f2d01095b",
   "metadata": {
    "execution": {
     "iopub.execute_input": "2021-04-20T17:29:04.751346Z",
     "iopub.status.busy": "2021-04-20T17:29:04.750992Z",
     "iopub.status.idle": "2021-04-20T17:29:04.758201Z",
     "shell.execute_reply": "2021-04-20T17:29:04.756725Z",
     "shell.execute_reply.started": "2021-04-20T17:29:04.751304Z"
    }
   },
   "source": [
    "- **Tasks**\n",
    "    - Dataset Checkpoint\n",
    "    - Check Data\n",
    "    - Rename Columns\n",
    "    - Data Dimensions\n",
    "    - Data Types\n",
    "    - Descriptive Statistical"
   ]
  },
  {
   "cell_type": "markdown",
   "id": "d19f9a9c-98d0-478d-8c5e-988dc44d6cca",
   "metadata": {
    "heading_collapsed": "true",
    "tags": []
   },
   "source": [
    "### 1.1 Dataset Checkpoint"
   ]
  },
  {
   "cell_type": "code",
   "execution_count": 8,
   "id": "d8153f63-c413-428a-8153-8a10c8fe818c",
   "metadata": {
    "execution": {
     "iopub.execute_input": "2021-04-30T19:16:06.295903Z",
     "iopub.status.busy": "2021-04-30T19:16:06.295705Z",
     "iopub.status.idle": "2021-04-30T19:16:06.404143Z",
     "shell.execute_reply": "2021-04-30T19:16:06.403388Z",
     "shell.execute_reply.started": "2021-04-30T19:16:06.295880Z"
    },
    "tags": []
   },
   "outputs": [],
   "source": [
    "df1 = pickle.load(open(homepath + 'data/processed/df_raw.pkl', 'rb'))"
   ]
  },
  {
   "cell_type": "code",
   "execution_count": 9,
   "id": "67056fb8-e637-48fc-a675-36cf6cce774f",
   "metadata": {
    "execution": {
     "iopub.execute_input": "2021-04-30T19:16:06.405754Z",
     "iopub.status.busy": "2021-04-30T19:16:06.405538Z",
     "iopub.status.idle": "2021-04-30T19:16:06.426808Z",
     "shell.execute_reply": "2021-04-30T19:16:06.425305Z",
     "shell.execute_reply.started": "2021-04-30T19:16:06.405728Z"
    }
   },
   "outputs": [
    {
     "data": {
      "text/html": [
       "<div>\n",
       "<style scoped>\n",
       "    .dataframe tbody tr th:only-of-type {\n",
       "        vertical-align: middle;\n",
       "    }\n",
       "\n",
       "    .dataframe tbody tr th {\n",
       "        vertical-align: top;\n",
       "    }\n",
       "\n",
       "    .dataframe thead th {\n",
       "        text-align: right;\n",
       "    }\n",
       "</style>\n",
       "<table border=\"1\" class=\"dataframe\">\n",
       "  <thead>\n",
       "    <tr style=\"text-align: right;\">\n",
       "      <th></th>\n",
       "      <th>0</th>\n",
       "      <th>1</th>\n",
       "      <th>2</th>\n",
       "      <th>3</th>\n",
       "      <th>4</th>\n",
       "    </tr>\n",
       "  </thead>\n",
       "  <tbody>\n",
       "    <tr>\n",
       "      <th>InvoiceNo</th>\n",
       "      <td>536365</td>\n",
       "      <td>536365</td>\n",
       "      <td>536365</td>\n",
       "      <td>536365</td>\n",
       "      <td>536365</td>\n",
       "    </tr>\n",
       "    <tr>\n",
       "      <th>StockCode</th>\n",
       "      <td>85123A</td>\n",
       "      <td>71053</td>\n",
       "      <td>84406B</td>\n",
       "      <td>84029G</td>\n",
       "      <td>84029E</td>\n",
       "    </tr>\n",
       "    <tr>\n",
       "      <th>Description</th>\n",
       "      <td>WHITE HANGING HEART T-LIGHT HOLDER</td>\n",
       "      <td>WHITE METAL LANTERN</td>\n",
       "      <td>CREAM CUPID HEARTS COAT HANGER</td>\n",
       "      <td>KNITTED UNION FLAG HOT WATER BOTTLE</td>\n",
       "      <td>RED WOOLLY HOTTIE WHITE HEART.</td>\n",
       "    </tr>\n",
       "    <tr>\n",
       "      <th>Quantity</th>\n",
       "      <td>6</td>\n",
       "      <td>6</td>\n",
       "      <td>8</td>\n",
       "      <td>6</td>\n",
       "      <td>6</td>\n",
       "    </tr>\n",
       "    <tr>\n",
       "      <th>InvoiceDate</th>\n",
       "      <td>29-Nov-16</td>\n",
       "      <td>29-Nov-16</td>\n",
       "      <td>29-Nov-16</td>\n",
       "      <td>29-Nov-16</td>\n",
       "      <td>29-Nov-16</td>\n",
       "    </tr>\n",
       "    <tr>\n",
       "      <th>UnitPrice</th>\n",
       "      <td>2.550</td>\n",
       "      <td>3.390</td>\n",
       "      <td>2.750</td>\n",
       "      <td>3.390</td>\n",
       "      <td>3.390</td>\n",
       "    </tr>\n",
       "    <tr>\n",
       "      <th>CustomerID</th>\n",
       "      <td>17850.000</td>\n",
       "      <td>17850.000</td>\n",
       "      <td>17850.000</td>\n",
       "      <td>17850.000</td>\n",
       "      <td>17850.000</td>\n",
       "    </tr>\n",
       "    <tr>\n",
       "      <th>Country</th>\n",
       "      <td>United Kingdom</td>\n",
       "      <td>United Kingdom</td>\n",
       "      <td>United Kingdom</td>\n",
       "      <td>United Kingdom</td>\n",
       "      <td>United Kingdom</td>\n",
       "    </tr>\n",
       "    <tr>\n",
       "      <th>Unnamed: 8</th>\n",
       "      <td>NaN</td>\n",
       "      <td>NaN</td>\n",
       "      <td>NaN</td>\n",
       "      <td>NaN</td>\n",
       "      <td>NaN</td>\n",
       "    </tr>\n",
       "  </tbody>\n",
       "</table>\n",
       "</div>"
      ],
      "text/plain": [
       "                                              0                    1                               2                                    3                               4\n",
       "InvoiceNo                                536365               536365                          536365                               536365                          536365\n",
       "StockCode                                85123A                71053                          84406B                               84029G                          84029E\n",
       "Description  WHITE HANGING HEART T-LIGHT HOLDER  WHITE METAL LANTERN  CREAM CUPID HEARTS COAT HANGER  KNITTED UNION FLAG HOT WATER BOTTLE  RED WOOLLY HOTTIE WHITE HEART.\n",
       "Quantity                                      6                    6                               8                                    6                               6\n",
       "InvoiceDate                           29-Nov-16            29-Nov-16                       29-Nov-16                            29-Nov-16                       29-Nov-16\n",
       "UnitPrice                                 2.550                3.390                           2.750                                3.390                           3.390\n",
       "CustomerID                            17850.000            17850.000                       17850.000                            17850.000                       17850.000\n",
       "Country                          United Kingdom       United Kingdom                  United Kingdom                       United Kingdom                  United Kingdom\n",
       "Unnamed: 8                                  NaN                  NaN                             NaN                                  NaN                             NaN"
      ]
     },
     "execution_count": 9,
     "metadata": {},
     "output_type": "execute_result"
    }
   ],
   "source": [
    "df1.head().T"
   ]
  },
  {
   "cell_type": "markdown",
   "id": "1eb20f76-33de-49a8-baaa-c8521a993942",
   "metadata": {
    "heading_collapsed": "true",
    "tags": []
   },
   "source": [
    "### 1.2 Organizing Columns"
   ]
  },
  {
   "cell_type": "code",
   "execution_count": 10,
   "id": "bf870883-bcbe-4b26-a1ab-87a939e2f5cb",
   "metadata": {
    "execution": {
     "iopub.execute_input": "2021-04-30T19:16:06.429349Z",
     "iopub.status.busy": "2021-04-30T19:16:06.428492Z",
     "iopub.status.idle": "2021-04-30T19:16:06.438745Z",
     "shell.execute_reply": "2021-04-30T19:16:06.437908Z",
     "shell.execute_reply.started": "2021-04-30T19:16:06.429294Z"
    }
   },
   "outputs": [],
   "source": [
    "# changing to snakecase type\n",
    "cols_old = df1.columns\n",
    "cols_new = snakecase(cols_old)\n",
    "df1.columns = cols_new"
   ]
  },
  {
   "cell_type": "code",
   "execution_count": 11,
   "id": "5bc353aa-73e7-4ca2-aea4-f8b42db77949",
   "metadata": {
    "execution": {
     "iopub.execute_input": "2021-04-30T19:16:06.440117Z",
     "iopub.status.busy": "2021-04-30T19:16:06.439843Z",
     "iopub.status.idle": "2021-04-30T19:16:06.465254Z",
     "shell.execute_reply": "2021-04-30T19:16:06.464296Z",
     "shell.execute_reply.started": "2021-04-30T19:16:06.440080Z"
    }
   },
   "outputs": [
    {
     "data": {
      "text/html": [
       "<div>\n",
       "<style scoped>\n",
       "    .dataframe tbody tr th:only-of-type {\n",
       "        vertical-align: middle;\n",
       "    }\n",
       "\n",
       "    .dataframe tbody tr th {\n",
       "        vertical-align: top;\n",
       "    }\n",
       "\n",
       "    .dataframe thead th {\n",
       "        text-align: right;\n",
       "    }\n",
       "</style>\n",
       "<table border=\"1\" class=\"dataframe\">\n",
       "  <thead>\n",
       "    <tr style=\"text-align: right;\">\n",
       "      <th></th>\n",
       "      <th>0</th>\n",
       "      <th>1</th>\n",
       "      <th>2</th>\n",
       "      <th>3</th>\n",
       "      <th>4</th>\n",
       "    </tr>\n",
       "  </thead>\n",
       "  <tbody>\n",
       "    <tr>\n",
       "      <th>invoice_no</th>\n",
       "      <td>536365</td>\n",
       "      <td>536365</td>\n",
       "      <td>536365</td>\n",
       "      <td>536365</td>\n",
       "      <td>536365</td>\n",
       "    </tr>\n",
       "    <tr>\n",
       "      <th>stock_code</th>\n",
       "      <td>85123A</td>\n",
       "      <td>71053</td>\n",
       "      <td>84406B</td>\n",
       "      <td>84029G</td>\n",
       "      <td>84029E</td>\n",
       "    </tr>\n",
       "    <tr>\n",
       "      <th>description</th>\n",
       "      <td>WHITE HANGING HEART T-LIGHT HOLDER</td>\n",
       "      <td>WHITE METAL LANTERN</td>\n",
       "      <td>CREAM CUPID HEARTS COAT HANGER</td>\n",
       "      <td>KNITTED UNION FLAG HOT WATER BOTTLE</td>\n",
       "      <td>RED WOOLLY HOTTIE WHITE HEART.</td>\n",
       "    </tr>\n",
       "    <tr>\n",
       "      <th>quantity</th>\n",
       "      <td>6</td>\n",
       "      <td>6</td>\n",
       "      <td>8</td>\n",
       "      <td>6</td>\n",
       "      <td>6</td>\n",
       "    </tr>\n",
       "    <tr>\n",
       "      <th>invoice_date</th>\n",
       "      <td>29-Nov-16</td>\n",
       "      <td>29-Nov-16</td>\n",
       "      <td>29-Nov-16</td>\n",
       "      <td>29-Nov-16</td>\n",
       "      <td>29-Nov-16</td>\n",
       "    </tr>\n",
       "    <tr>\n",
       "      <th>unit_price</th>\n",
       "      <td>2.550</td>\n",
       "      <td>3.390</td>\n",
       "      <td>2.750</td>\n",
       "      <td>3.390</td>\n",
       "      <td>3.390</td>\n",
       "    </tr>\n",
       "    <tr>\n",
       "      <th>customer_id</th>\n",
       "      <td>17850.000</td>\n",
       "      <td>17850.000</td>\n",
       "      <td>17850.000</td>\n",
       "      <td>17850.000</td>\n",
       "      <td>17850.000</td>\n",
       "    </tr>\n",
       "    <tr>\n",
       "      <th>country</th>\n",
       "      <td>United Kingdom</td>\n",
       "      <td>United Kingdom</td>\n",
       "      <td>United Kingdom</td>\n",
       "      <td>United Kingdom</td>\n",
       "      <td>United Kingdom</td>\n",
       "    </tr>\n",
       "    <tr>\n",
       "      <th>unnamed: 8</th>\n",
       "      <td>NaN</td>\n",
       "      <td>NaN</td>\n",
       "      <td>NaN</td>\n",
       "      <td>NaN</td>\n",
       "      <td>NaN</td>\n",
       "    </tr>\n",
       "  </tbody>\n",
       "</table>\n",
       "</div>"
      ],
      "text/plain": [
       "                                               0                    1                               2                                    3                               4\n",
       "invoice_no                                536365               536365                          536365                               536365                          536365\n",
       "stock_code                                85123A                71053                          84406B                               84029G                          84029E\n",
       "description   WHITE HANGING HEART T-LIGHT HOLDER  WHITE METAL LANTERN  CREAM CUPID HEARTS COAT HANGER  KNITTED UNION FLAG HOT WATER BOTTLE  RED WOOLLY HOTTIE WHITE HEART.\n",
       "quantity                                       6                    6                               8                                    6                               6\n",
       "invoice_date                           29-Nov-16            29-Nov-16                       29-Nov-16                            29-Nov-16                       29-Nov-16\n",
       "unit_price                                 2.550                3.390                           2.750                                3.390                           3.390\n",
       "customer_id                            17850.000            17850.000                       17850.000                            17850.000                       17850.000\n",
       "country                           United Kingdom       United Kingdom                  United Kingdom                       United Kingdom                  United Kingdom\n",
       "unnamed: 8                                   NaN                  NaN                             NaN                                  NaN                             NaN"
      ]
     },
     "execution_count": 11,
     "metadata": {},
     "output_type": "execute_result"
    }
   ],
   "source": [
    "df1.head().T"
   ]
  },
  {
   "cell_type": "code",
   "execution_count": 12,
   "id": "b0491651-be01-4f59-a6ce-850c1ff7323c",
   "metadata": {
    "execution": {
     "iopub.execute_input": "2021-04-30T19:16:06.467242Z",
     "iopub.status.busy": "2021-04-30T19:16:06.466839Z",
     "iopub.status.idle": "2021-04-30T19:16:06.514185Z",
     "shell.execute_reply": "2021-04-30T19:16:06.513126Z",
     "shell.execute_reply.started": "2021-04-30T19:16:06.467191Z"
    },
    "tags": []
   },
   "outputs": [],
   "source": [
    "df1 = df1[['customer_id', 'country', 'invoice_date', 'invoice_no','stock_code', 'description', 'unit_price', 'quantity', 'unnamed: 8']]"
   ]
  },
  {
   "cell_type": "markdown",
   "id": "4a9893c1-8245-4685-8370-14365fcd2bb6",
   "metadata": {
    "heading_collapsed": "true",
    "tags": []
   },
   "source": [
    "### 1.3 Data Dimensions"
   ]
  },
  {
   "cell_type": "code",
   "execution_count": 13,
   "id": "5b2f3fdd-e3d0-4c4f-934f-0da0915cecf7",
   "metadata": {
    "execution": {
     "iopub.execute_input": "2021-04-30T19:16:06.515701Z",
     "iopub.status.busy": "2021-04-30T19:16:06.515400Z",
     "iopub.status.idle": "2021-04-30T19:16:06.525233Z",
     "shell.execute_reply": "2021-04-30T19:16:06.520140Z",
     "shell.execute_reply.started": "2021-04-30T19:16:06.515655Z"
    },
    "tags": []
   },
   "outputs": [
    {
     "name": "stdout",
     "output_type": "stream",
     "text": [
      "Number of rows: 541909 \n",
      "Number of columns: 9\n"
     ]
    }
   ],
   "source": [
    "print(f'Number of rows: {df1.shape[0]} \\nNumber of columns: {df1.shape[1]}')"
   ]
  },
  {
   "cell_type": "markdown",
   "id": "07ab092d-7061-41eb-abef-052a438a2741",
   "metadata": {
    "tags": []
   },
   "source": [
    "### 1.4 Check Data"
   ]
  },
  {
   "cell_type": "code",
   "execution_count": 14,
   "id": "0bfad7e3-e3f7-4557-9327-bc5974ee6c04",
   "metadata": {
    "execution": {
     "iopub.execute_input": "2021-04-30T19:16:06.528946Z",
     "iopub.status.busy": "2021-04-30T19:16:06.528245Z",
     "iopub.status.idle": "2021-04-30T19:16:06.712171Z",
     "shell.execute_reply": "2021-04-30T19:16:06.711562Z",
     "shell.execute_reply.started": "2021-04-30T19:16:06.528874Z"
    },
    "tags": []
   },
   "outputs": [
    {
     "name": "stdout",
     "output_type": "stream",
     "text": [
      "<class 'pandas.core.frame.DataFrame'>\n",
      "RangeIndex: 541909 entries, 0 to 541908\n",
      "Data columns (total 9 columns):\n",
      " #   Column        Non-Null Count   Dtype  \n",
      "---  ------        --------------   -----  \n",
      " 0   customer_id   406829 non-null  float64\n",
      " 1   country       541909 non-null  object \n",
      " 2   invoice_date  541909 non-null  object \n",
      " 3   invoice_no    541909 non-null  object \n",
      " 4   stock_code    541909 non-null  object \n",
      " 5   description   540455 non-null  object \n",
      " 6   unit_price    541909 non-null  float64\n",
      " 7   quantity      541909 non-null  int64  \n",
      " 8   unnamed: 8    0 non-null       float64\n",
      "dtypes: float64(3), int64(1), object(5)\n",
      "memory usage: 37.2+ MB\n"
     ]
    }
   ],
   "source": [
    "df1.info()"
   ]
  },
  {
   "cell_type": "code",
   "execution_count": 15,
   "id": "95d5df50-08d1-4b7d-a0d8-7a8e25d37b6c",
   "metadata": {
    "execution": {
     "iopub.execute_input": "2021-04-30T19:16:06.713177Z",
     "iopub.status.busy": "2021-04-30T19:16:06.712980Z",
     "iopub.status.idle": "2021-04-30T19:16:06.988476Z",
     "shell.execute_reply": "2021-04-30T19:16:06.987646Z",
     "shell.execute_reply.started": "2021-04-30T19:16:06.713150Z"
    },
    "tags": []
   },
   "outputs": [
    {
     "data": {
      "text/html": [
       "<div>\n",
       "<style scoped>\n",
       "    .dataframe tbody tr th:only-of-type {\n",
       "        vertical-align: middle;\n",
       "    }\n",
       "\n",
       "    .dataframe tbody tr th {\n",
       "        vertical-align: top;\n",
       "    }\n",
       "\n",
       "    .dataframe thead th {\n",
       "        text-align: right;\n",
       "    }\n",
       "</style>\n",
       "<table border=\"1\" class=\"dataframe\">\n",
       "  <thead>\n",
       "    <tr style=\"text-align: right;\">\n",
       "      <th></th>\n",
       "      <th>Sum of NA</th>\n",
       "      <th>% NA</th>\n",
       "    </tr>\n",
       "  </thead>\n",
       "  <tbody>\n",
       "    <tr>\n",
       "      <th>customer_id</th>\n",
       "      <td>135080</td>\n",
       "      <td>0.249</td>\n",
       "    </tr>\n",
       "    <tr>\n",
       "      <th>country</th>\n",
       "      <td>0</td>\n",
       "      <td>0.000</td>\n",
       "    </tr>\n",
       "    <tr>\n",
       "      <th>invoice_date</th>\n",
       "      <td>0</td>\n",
       "      <td>0.000</td>\n",
       "    </tr>\n",
       "    <tr>\n",
       "      <th>invoice_no</th>\n",
       "      <td>0</td>\n",
       "      <td>0.000</td>\n",
       "    </tr>\n",
       "    <tr>\n",
       "      <th>stock_code</th>\n",
       "      <td>0</td>\n",
       "      <td>0.000</td>\n",
       "    </tr>\n",
       "    <tr>\n",
       "      <th>description</th>\n",
       "      <td>1454</td>\n",
       "      <td>0.003</td>\n",
       "    </tr>\n",
       "    <tr>\n",
       "      <th>unit_price</th>\n",
       "      <td>0</td>\n",
       "      <td>0.000</td>\n",
       "    </tr>\n",
       "    <tr>\n",
       "      <th>quantity</th>\n",
       "      <td>0</td>\n",
       "      <td>0.000</td>\n",
       "    </tr>\n",
       "    <tr>\n",
       "      <th>unnamed: 8</th>\n",
       "      <td>541909</td>\n",
       "      <td>1.000</td>\n",
       "    </tr>\n",
       "  </tbody>\n",
       "</table>\n",
       "</div>"
      ],
      "text/plain": [
       "              Sum of NA  % NA\n",
       "customer_id      135080 0.249\n",
       "country               0 0.000\n",
       "invoice_date          0 0.000\n",
       "invoice_no            0 0.000\n",
       "stock_code            0 0.000\n",
       "description        1454 0.003\n",
       "unit_price            0 0.000\n",
       "quantity              0 0.000\n",
       "unnamed: 8       541909 1.000"
      ]
     },
     "execution_count": 15,
     "metadata": {},
     "output_type": "execute_result"
    }
   ],
   "source": [
    "change_df({'Sum of NA': df1.isna().sum(), '% NA': df1.isna().sum()/df1.shape[0]})"
   ]
  },
  {
   "cell_type": "markdown",
   "id": "4fe17eb3-cb91-4b3b-8cb5-348188340fb6",
   "metadata": {},
   "source": [
    "The unnamed: 8 is empty in all rows, so I will drop that"
   ]
  },
  {
   "cell_type": "markdown",
   "id": "6055c918-c59d-409c-a9a8-4186cd9237d7",
   "metadata": {
    "tags": []
   },
   "source": [
    "### 1.5 Deal with NA"
   ]
  },
  {
   "cell_type": "code",
   "execution_count": 16,
   "id": "c0138976-06c1-4f22-9c61-34c55ca26c83",
   "metadata": {
    "execution": {
     "iopub.execute_input": "2021-04-30T19:16:06.989647Z",
     "iopub.status.busy": "2021-04-30T19:16:06.989444Z",
     "iopub.status.idle": "2021-04-30T19:16:07.023761Z",
     "shell.execute_reply": "2021-04-30T19:16:07.022790Z",
     "shell.execute_reply.started": "2021-04-30T19:16:06.989625Z"
    },
    "tags": []
   },
   "outputs": [],
   "source": [
    "df1.drop(['unnamed: 8'], axis = 1, inplace = True)"
   ]
  },
  {
   "cell_type": "markdown",
   "id": "d142ad50-a986-498b-833c-292f7aceb010",
   "metadata": {},
   "source": [
    "In this cycle, I'll drop the rows with NA and see the impact."
   ]
  },
  {
   "cell_type": "code",
   "execution_count": 17,
   "id": "ccf6df5a-4522-4de6-bca8-226137cd2c00",
   "metadata": {
    "execution": {
     "iopub.execute_input": "2021-04-30T19:16:07.024775Z",
     "iopub.status.busy": "2021-04-30T19:16:07.024588Z",
     "iopub.status.idle": "2021-04-30T19:16:07.326661Z",
     "shell.execute_reply": "2021-04-30T19:16:07.325836Z",
     "shell.execute_reply.started": "2021-04-30T19:16:07.024753Z"
    },
    "tags": []
   },
   "outputs": [
    {
     "name": "stdout",
     "output_type": "stream",
     "text": [
      "Removed data: 0.24926694334288602\n"
     ]
    },
    {
     "data": {
      "text/html": [
       "<div>\n",
       "<style scoped>\n",
       "    .dataframe tbody tr th:only-of-type {\n",
       "        vertical-align: middle;\n",
       "    }\n",
       "\n",
       "    .dataframe tbody tr th {\n",
       "        vertical-align: top;\n",
       "    }\n",
       "\n",
       "    .dataframe thead th {\n",
       "        text-align: right;\n",
       "    }\n",
       "</style>\n",
       "<table border=\"1\" class=\"dataframe\">\n",
       "  <thead>\n",
       "    <tr style=\"text-align: right;\">\n",
       "      <th></th>\n",
       "      <th>Sum of NA</th>\n",
       "      <th>% NA</th>\n",
       "    </tr>\n",
       "  </thead>\n",
       "  <tbody>\n",
       "    <tr>\n",
       "      <th>customer_id</th>\n",
       "      <td>0</td>\n",
       "      <td>0.000</td>\n",
       "    </tr>\n",
       "    <tr>\n",
       "      <th>country</th>\n",
       "      <td>0</td>\n",
       "      <td>0.000</td>\n",
       "    </tr>\n",
       "    <tr>\n",
       "      <th>invoice_date</th>\n",
       "      <td>0</td>\n",
       "      <td>0.000</td>\n",
       "    </tr>\n",
       "    <tr>\n",
       "      <th>invoice_no</th>\n",
       "      <td>0</td>\n",
       "      <td>0.000</td>\n",
       "    </tr>\n",
       "    <tr>\n",
       "      <th>stock_code</th>\n",
       "      <td>0</td>\n",
       "      <td>0.000</td>\n",
       "    </tr>\n",
       "    <tr>\n",
       "      <th>description</th>\n",
       "      <td>0</td>\n",
       "      <td>0.000</td>\n",
       "    </tr>\n",
       "    <tr>\n",
       "      <th>unit_price</th>\n",
       "      <td>0</td>\n",
       "      <td>0.000</td>\n",
       "    </tr>\n",
       "    <tr>\n",
       "      <th>quantity</th>\n",
       "      <td>0</td>\n",
       "      <td>0.000</td>\n",
       "    </tr>\n",
       "  </tbody>\n",
       "</table>\n",
       "</div>"
      ],
      "text/plain": [
       "              Sum of NA  % NA\n",
       "customer_id           0 0.000\n",
       "country               0 0.000\n",
       "invoice_date          0 0.000\n",
       "invoice_no            0 0.000\n",
       "stock_code            0 0.000\n",
       "description           0 0.000\n",
       "unit_price            0 0.000\n",
       "quantity              0 0.000"
      ]
     },
     "execution_count": 17,
     "metadata": {},
     "output_type": "execute_result"
    }
   ],
   "source": [
    "df1 = df1.dropna(subset = ['description', 'customer_id'])\n",
    "print(f'Removed data: {1 - df1.shape[0] / df_raw.shape[0]}')\n",
    "change_df({'Sum of NA': df1.isna().sum(), '% NA': df1.isna().sum()/df1.shape[0]})"
   ]
  },
  {
   "cell_type": "markdown",
   "id": "6f83ca6f-8d57-4cc3-a658-30b4b598f5d2",
   "metadata": {
    "heading_collapsed": "true",
    "tags": []
   },
   "source": [
    "### 1.6 Duplicated rows and Unique values"
   ]
  },
  {
   "cell_type": "code",
   "execution_count": 18,
   "id": "af1ba53f-4a0d-4fd6-bc96-4ea5f61a09eb",
   "metadata": {
    "execution": {
     "iopub.execute_input": "2021-04-30T19:16:07.328124Z",
     "iopub.status.busy": "2021-04-30T19:16:07.327841Z",
     "iopub.status.idle": "2021-04-30T19:16:07.437659Z",
     "shell.execute_reply": "2021-04-30T19:16:07.436851Z",
     "shell.execute_reply.started": "2021-04-30T19:16:07.328090Z"
    },
    "tags": []
   },
   "outputs": [
    {
     "name": "stdout",
     "output_type": "stream",
     "text": [
      "There are 22190 unique invoice numbers.\n",
      "There are 3684 diferent unique stock codes.\n",
      "There are 3896 unique products descriptions.\n",
      "There are 4372 unique customers.\n"
     ]
    }
   ],
   "source": [
    "print(f'There are {len(df1[\"invoice_no\"].unique())} unique invoice numbers.')\n",
    "print(f'There are {len(df1[\"stock_code\"].unique())} diferent unique stock codes.')\n",
    "print(f'There are {len(df1[\"description\"].unique())} unique products descriptions.')\n",
    "print(f'There are {len(df1[\"customer_id\"].unique())} unique customers.')"
   ]
  },
  {
   "cell_type": "code",
   "execution_count": 19,
   "id": "f786d6e1-d36a-4631-9c0c-028123861e60",
   "metadata": {
    "execution": {
     "iopub.execute_input": "2021-04-30T19:16:07.438801Z",
     "iopub.status.busy": "2021-04-30T19:16:07.438592Z",
     "iopub.status.idle": "2021-04-30T19:16:07.705867Z",
     "shell.execute_reply": "2021-04-30T19:16:07.705073Z",
     "shell.execute_reply.started": "2021-04-30T19:16:07.438776Z"
    },
    "tags": []
   },
   "outputs": [],
   "source": [
    "df1.drop_duplicates(inplace = True)"
   ]
  },
  {
   "cell_type": "markdown",
   "id": "463fa21f-9941-4aaf-8620-4e195de2056b",
   "metadata": {
    "tags": []
   },
   "source": [
    "### 1.7 Data Types"
   ]
  },
  {
   "cell_type": "code",
   "execution_count": 20,
   "id": "39c91346-05e8-45db-a9b9-68d97b52d95f",
   "metadata": {
    "execution": {
     "iopub.execute_input": "2021-04-30T19:16:07.706968Z",
     "iopub.status.busy": "2021-04-30T19:16:07.706745Z",
     "iopub.status.idle": "2021-04-30T19:16:07.713358Z",
     "shell.execute_reply": "2021-04-30T19:16:07.712445Z",
     "shell.execute_reply.started": "2021-04-30T19:16:07.706940Z"
    }
   },
   "outputs": [
    {
     "data": {
      "text/plain": [
       "customer_id     float64\n",
       "country          object\n",
       "invoice_date     object\n",
       "invoice_no       object\n",
       "stock_code       object\n",
       "description      object\n",
       "unit_price      float64\n",
       "quantity          int64\n",
       "dtype: object"
      ]
     },
     "execution_count": 20,
     "metadata": {},
     "output_type": "execute_result"
    }
   ],
   "source": [
    "df1.dtypes"
   ]
  },
  {
   "cell_type": "markdown",
   "id": "5c0c33a0-a07e-4d9b-8122-588ab3c135ba",
   "metadata": {},
   "source": [
    "I've found some weird values in invoice_no column, some rows has a letter, like: C536479"
   ]
  },
  {
   "cell_type": "markdown",
   "id": "f967e887-b91e-4a21-9665-19be6dfe8f60",
   "metadata": {},
   "source": [
    "1. `invoice_date`: Need to be converted from object to datetime64"
   ]
  },
  {
   "cell_type": "code",
   "execution_count": 21,
   "id": "8bbd161f-d7f9-4c6f-b211-82ab112b4ea0",
   "metadata": {
    "execution": {
     "iopub.execute_input": "2021-04-30T19:16:07.714892Z",
     "iopub.status.busy": "2021-04-30T19:16:07.714595Z",
     "iopub.status.idle": "2021-04-30T19:16:07.852359Z",
     "shell.execute_reply": "2021-04-30T19:16:07.851433Z",
     "shell.execute_reply.started": "2021-04-30T19:16:07.714862Z"
    }
   },
   "outputs": [],
   "source": [
    "df1['invoice_date'] = pd.to_datetime(df1['invoice_date'])"
   ]
  },
  {
   "cell_type": "markdown",
   "id": "6de1611e-13ae-44c6-bdff-6dae0ebd7324",
   "metadata": {},
   "source": [
    "2. `invoice_no`: Need to be converted from object to int64\n",
    "\n",
    "There are 6 numbers in the invoice_no and, sometimes, 1 letter, always before the numbers."
   ]
  },
  {
   "cell_type": "code",
   "execution_count": 22,
   "id": "7d58a3b7-5a25-4ba1-9263-0cb3de6ce6ee",
   "metadata": {
    "execution": {
     "iopub.execute_input": "2021-04-30T19:16:07.854009Z",
     "iopub.status.busy": "2021-04-30T19:16:07.853675Z",
     "iopub.status.idle": "2021-04-30T19:16:08.031233Z",
     "shell.execute_reply": "2021-04-30T19:16:08.030590Z",
     "shell.execute_reply.started": "2021-04-30T19:16:07.853967Z"
    }
   },
   "outputs": [],
   "source": [
    "df1['invoice_number'] = df1['invoice_no'].apply(lambda x: x if len(x) == 6\n",
    "                                                            else x[1:])\n",
    "\n",
    "df1['invoice_letter'] = df1['invoice_no'].apply(lambda x: 'no_letter' if len(x) == 6\n",
    "                                                            else x[0])\n"
   ]
  },
  {
   "cell_type": "code",
   "execution_count": 23,
   "id": "d5b97f49-441c-45ed-a7ef-a0b05ed07ff7",
   "metadata": {
    "execution": {
     "iopub.execute_input": "2021-04-30T19:16:08.032378Z",
     "iopub.status.busy": "2021-04-30T19:16:08.032186Z",
     "iopub.status.idle": "2021-04-30T19:16:08.104465Z",
     "shell.execute_reply": "2021-04-30T19:16:08.103653Z",
     "shell.execute_reply.started": "2021-04-30T19:16:08.032356Z"
    }
   },
   "outputs": [
    {
     "data": {
      "text/html": [
       "<div>\n",
       "<style scoped>\n",
       "    .dataframe tbody tr th:only-of-type {\n",
       "        vertical-align: middle;\n",
       "    }\n",
       "\n",
       "    .dataframe tbody tr th {\n",
       "        vertical-align: top;\n",
       "    }\n",
       "\n",
       "    .dataframe thead th {\n",
       "        text-align: right;\n",
       "    }\n",
       "</style>\n",
       "<table border=\"1\" class=\"dataframe\">\n",
       "  <thead>\n",
       "    <tr style=\"text-align: right;\">\n",
       "      <th></th>\n",
       "      <th>customer_id</th>\n",
       "      <th>country</th>\n",
       "      <th>invoice_date</th>\n",
       "      <th>invoice_no</th>\n",
       "      <th>stock_code</th>\n",
       "      <th>description</th>\n",
       "      <th>unit_price</th>\n",
       "      <th>quantity</th>\n",
       "      <th>invoice_number</th>\n",
       "      <th>invoice_letter</th>\n",
       "    </tr>\n",
       "  </thead>\n",
       "  <tbody>\n",
       "    <tr>\n",
       "      <th>489309</th>\n",
       "      <td>14657.000</td>\n",
       "      <td>United Kingdom</td>\n",
       "      <td>2017-11-20</td>\n",
       "      <td>578008</td>\n",
       "      <td>84997C</td>\n",
       "      <td>CHILDRENS CUTLERY POLKADOT BLUE</td>\n",
       "      <td>4.150</td>\n",
       "      <td>1</td>\n",
       "      <td>578008</td>\n",
       "      <td>no_letter</td>\n",
       "    </tr>\n",
       "    <tr>\n",
       "      <th>448847</th>\n",
       "      <td>13975.000</td>\n",
       "      <td>United Kingdom</td>\n",
       "      <td>2017-11-06</td>\n",
       "      <td>575073</td>\n",
       "      <td>22577</td>\n",
       "      <td>WOODEN HEART CHRISTMAS SCANDINAVIAN</td>\n",
       "      <td>0.290</td>\n",
       "      <td>10</td>\n",
       "      <td>575073</td>\n",
       "      <td>no_letter</td>\n",
       "    </tr>\n",
       "    <tr>\n",
       "      <th>482210</th>\n",
       "      <td>14881.000</td>\n",
       "      <td>United Kingdom</td>\n",
       "      <td>2017-11-18</td>\n",
       "      <td>577429</td>\n",
       "      <td>20973</td>\n",
       "      <td>12 PENCIL SMALL TUBE WOODLAND</td>\n",
       "      <td>0.650</td>\n",
       "      <td>24</td>\n",
       "      <td>577429</td>\n",
       "      <td>no_letter</td>\n",
       "    </tr>\n",
       "    <tr>\n",
       "      <th>101765</th>\n",
       "      <td>13501.000</td>\n",
       "      <td>Switzerland</td>\n",
       "      <td>2017-02-22</td>\n",
       "      <td>544931</td>\n",
       "      <td>37449</td>\n",
       "      <td>CERAMIC CAKE STAND + HANGING CAKES</td>\n",
       "      <td>9.950</td>\n",
       "      <td>2</td>\n",
       "      <td>544931</td>\n",
       "      <td>no_letter</td>\n",
       "    </tr>\n",
       "    <tr>\n",
       "      <th>518988</th>\n",
       "      <td>17426.000</td>\n",
       "      <td>United Kingdom</td>\n",
       "      <td>2017-11-29</td>\n",
       "      <td>580130</td>\n",
       "      <td>20973</td>\n",
       "      <td>12 PENCIL SMALL TUBE WOODLAND</td>\n",
       "      <td>0.650</td>\n",
       "      <td>24</td>\n",
       "      <td>580130</td>\n",
       "      <td>no_letter</td>\n",
       "    </tr>\n",
       "    <tr>\n",
       "      <th>252118</th>\n",
       "      <td>15673.000</td>\n",
       "      <td>United Kingdom</td>\n",
       "      <td>2017-07-04</td>\n",
       "      <td>559064</td>\n",
       "      <td>23235</td>\n",
       "      <td>STORAGE TIN VINTAGE LEAF</td>\n",
       "      <td>2.890</td>\n",
       "      <td>6</td>\n",
       "      <td>559064</td>\n",
       "      <td>no_letter</td>\n",
       "    </tr>\n",
       "    <tr>\n",
       "      <th>106847</th>\n",
       "      <td>12834.000</td>\n",
       "      <td>United Kingdom</td>\n",
       "      <td>2017-02-28</td>\n",
       "      <td>545346</td>\n",
       "      <td>20685</td>\n",
       "      <td>DOORMAT RED RETROSPOT</td>\n",
       "      <td>7.950</td>\n",
       "      <td>2</td>\n",
       "      <td>545346</td>\n",
       "      <td>no_letter</td>\n",
       "    </tr>\n",
       "    <tr>\n",
       "      <th>384860</th>\n",
       "      <td>14029.000</td>\n",
       "      <td>United Kingdom</td>\n",
       "      <td>2017-10-05</td>\n",
       "      <td>570184</td>\n",
       "      <td>23176</td>\n",
       "      <td>ABC TREASURE BOOK BOX</td>\n",
       "      <td>2.250</td>\n",
       "      <td>8</td>\n",
       "      <td>570184</td>\n",
       "      <td>no_letter</td>\n",
       "    </tr>\n",
       "    <tr>\n",
       "      <th>17596</th>\n",
       "      <td>15021.000</td>\n",
       "      <td>United Kingdom</td>\n",
       "      <td>2016-12-06</td>\n",
       "      <td>537769</td>\n",
       "      <td>71477</td>\n",
       "      <td>COLOUR GLASS. STAR T-LIGHT HOLDER</td>\n",
       "      <td>3.250</td>\n",
       "      <td>1</td>\n",
       "      <td>537769</td>\n",
       "      <td>no_letter</td>\n",
       "    </tr>\n",
       "    <tr>\n",
       "      <th>202899</th>\n",
       "      <td>17375.000</td>\n",
       "      <td>United Kingdom</td>\n",
       "      <td>2017-05-22</td>\n",
       "      <td>554509</td>\n",
       "      <td>23107</td>\n",
       "      <td>WHITE HEARTS WIRE PLANT POT HOLDER</td>\n",
       "      <td>2.890</td>\n",
       "      <td>1</td>\n",
       "      <td>554509</td>\n",
       "      <td>no_letter</td>\n",
       "    </tr>\n",
       "  </tbody>\n",
       "</table>\n",
       "</div>"
      ],
      "text/plain": [
       "        customer_id         country invoice_date invoice_no stock_code                          description  unit_price  quantity invoice_number invoice_letter\n",
       "489309    14657.000  United Kingdom   2017-11-20     578008     84997C      CHILDRENS CUTLERY POLKADOT BLUE       4.150         1         578008      no_letter\n",
       "448847    13975.000  United Kingdom   2017-11-06     575073      22577  WOODEN HEART CHRISTMAS SCANDINAVIAN       0.290        10         575073      no_letter\n",
       "482210    14881.000  United Kingdom   2017-11-18     577429      20973        12 PENCIL SMALL TUBE WOODLAND       0.650        24         577429      no_letter\n",
       "101765    13501.000     Switzerland   2017-02-22     544931      37449   CERAMIC CAKE STAND + HANGING CAKES       9.950         2         544931      no_letter\n",
       "518988    17426.000  United Kingdom   2017-11-29     580130      20973        12 PENCIL SMALL TUBE WOODLAND       0.650        24         580130      no_letter\n",
       "252118    15673.000  United Kingdom   2017-07-04     559064      23235             STORAGE TIN VINTAGE LEAF       2.890         6         559064      no_letter\n",
       "106847    12834.000  United Kingdom   2017-02-28     545346      20685                DOORMAT RED RETROSPOT       7.950         2         545346      no_letter\n",
       "384860    14029.000  United Kingdom   2017-10-05     570184      23176               ABC TREASURE BOOK BOX        2.250         8         570184      no_letter\n",
       "17596     15021.000  United Kingdom   2016-12-06     537769      71477    COLOUR GLASS. STAR T-LIGHT HOLDER       3.250         1         537769      no_letter\n",
       "202899    17375.000  United Kingdom   2017-05-22     554509      23107   WHITE HEARTS WIRE PLANT POT HOLDER       2.890         1         554509      no_letter"
      ]
     },
     "execution_count": 23,
     "metadata": {},
     "output_type": "execute_result"
    }
   ],
   "source": [
    "df1.sample(10)"
   ]
  },
  {
   "cell_type": "code",
   "execution_count": 24,
   "id": "d2315454-d8ce-4a0d-b7dd-dbef05125806",
   "metadata": {
    "execution": {
     "iopub.execute_input": "2021-04-30T19:16:08.105903Z",
     "iopub.status.busy": "2021-04-30T19:16:08.105556Z",
     "iopub.status.idle": "2021-04-30T19:16:08.193437Z",
     "shell.execute_reply": "2021-04-30T19:16:08.192534Z",
     "shell.execute_reply.started": "2021-04-30T19:16:08.105876Z"
    }
   },
   "outputs": [],
   "source": [
    "df1['invoice_number'] = df1['invoice_number'].astype(int64)\n",
    "df1.drop(['invoice_no'], axis = 1, inplace = True)"
   ]
  },
  {
   "cell_type": "code",
   "execution_count": 25,
   "id": "7fb23969-6806-45c3-9e27-54a3e86344d9",
   "metadata": {
    "execution": {
     "iopub.execute_input": "2021-04-30T19:16:08.194885Z",
     "iopub.status.busy": "2021-04-30T19:16:08.194626Z",
     "iopub.status.idle": "2021-04-30T19:16:08.203894Z",
     "shell.execute_reply": "2021-04-30T19:16:08.203020Z",
     "shell.execute_reply.started": "2021-04-30T19:16:08.194857Z"
    }
   },
   "outputs": [
    {
     "data": {
      "text/plain": [
       "customer_id              float64\n",
       "country                   object\n",
       "invoice_date      datetime64[ns]\n",
       "stock_code                object\n",
       "description               object\n",
       "unit_price               float64\n",
       "quantity                   int64\n",
       "invoice_number             int64\n",
       "invoice_letter            object\n",
       "dtype: object"
      ]
     },
     "execution_count": 25,
     "metadata": {},
     "output_type": "execute_result"
    }
   ],
   "source": [
    "df1.dtypes"
   ]
  },
  {
   "cell_type": "markdown",
   "id": "c165b5f7-7dfa-4288-aa5c-bccd2b9f7a87",
   "metadata": {
    "heading_collapsed": "true",
    "tags": []
   },
   "source": [
    "### 1.8 Descriptive Statistics"
   ]
  },
  {
   "cell_type": "markdown",
   "id": "e2265fb6-5ea3-4b9a-843f-cf1da6ddff01",
   "metadata": {
    "heading_collapsed": "true",
    "tags": []
   },
   "source": [
    "#### 1.8.1 Numerical Attributes"
   ]
  },
  {
   "cell_type": "code",
   "execution_count": 26,
   "id": "b3859713-22db-4f31-8216-e0ad1ca236cf",
   "metadata": {
    "execution": {
     "iopub.execute_input": "2021-04-30T19:16:08.210608Z",
     "iopub.status.busy": "2021-04-30T19:16:08.210231Z",
     "iopub.status.idle": "2021-04-30T19:16:08.229580Z",
     "shell.execute_reply": "2021-04-30T19:16:08.228626Z",
     "shell.execute_reply.started": "2021-04-30T19:16:08.210563Z"
    }
   },
   "outputs": [],
   "source": [
    "num_attributes = df1.select_dtypes(include=['int64', 'float64'])\n",
    "num_attributes = num_attributes.drop(columns=['customer_id', 'invoice_number'])\n",
    "num_cols = num_attributes.columns.tolist()"
   ]
  },
  {
   "cell_type": "code",
   "execution_count": 27,
   "id": "38d39e60-d153-4274-b16f-a3468b8734f7",
   "metadata": {
    "execution": {
     "iopub.execute_input": "2021-04-30T19:16:08.231688Z",
     "iopub.status.busy": "2021-04-30T19:16:08.231303Z",
     "iopub.status.idle": "2021-04-30T19:16:08.496533Z",
     "shell.execute_reply": "2021-04-30T19:16:08.495817Z",
     "shell.execute_reply.started": "2021-04-30T19:16:08.231657Z"
    }
   },
   "outputs": [
    {
     "data": {
      "text/html": [
       "<div>\n",
       "<style scoped>\n",
       "    .dataframe tbody tr th:only-of-type {\n",
       "        vertical-align: middle;\n",
       "    }\n",
       "\n",
       "    .dataframe tbody tr th {\n",
       "        vertical-align: top;\n",
       "    }\n",
       "\n",
       "    .dataframe thead th {\n",
       "        text-align: right;\n",
       "    }\n",
       "</style>\n",
       "<table border=\"1\" class=\"dataframe\">\n",
       "  <thead>\n",
       "    <tr style=\"text-align: right;\">\n",
       "      <th></th>\n",
       "      <th>Attributes</th>\n",
       "      <th>Min</th>\n",
       "      <th>Max</th>\n",
       "      <th>Range</th>\n",
       "      <th>Mean</th>\n",
       "      <th>Median</th>\n",
       "      <th>Q1</th>\n",
       "      <th>Q3</th>\n",
       "      <th>St deviation</th>\n",
       "      <th>Skewness</th>\n",
       "      <th>Kurtosis</th>\n",
       "    </tr>\n",
       "  </thead>\n",
       "  <tbody>\n",
       "    <tr>\n",
       "      <th>0</th>\n",
       "      <td>unit_price</td>\n",
       "      <td>0.000</td>\n",
       "      <td>38970.000</td>\n",
       "      <td>38970.000</td>\n",
       "      <td>3.474</td>\n",
       "      <td>1.950</td>\n",
       "      <td>1.250</td>\n",
       "      <td>3.750</td>\n",
       "      <td>69.764</td>\n",
       "      <td>449.316</td>\n",
       "      <td>243760.343</td>\n",
       "    </tr>\n",
       "    <tr>\n",
       "      <th>1</th>\n",
       "      <td>quantity</td>\n",
       "      <td>-80995.000</td>\n",
       "      <td>80995.000</td>\n",
       "      <td>161990.000</td>\n",
       "      <td>12.183</td>\n",
       "      <td>5.000</td>\n",
       "      <td>2.000</td>\n",
       "      <td>12.000</td>\n",
       "      <td>250.283</td>\n",
       "      <td>0.180</td>\n",
       "      <td>93140.043</td>\n",
       "    </tr>\n",
       "  </tbody>\n",
       "</table>\n",
       "</div>"
      ],
      "text/plain": [
       "   Attributes        Min       Max      Range   Mean  Median    Q1     Q3  St deviation  Skewness   Kurtosis\n",
       "0  unit_price      0.000 38970.000  38970.000  3.474   1.950 1.250  3.750        69.764   449.316 243760.343\n",
       "1    quantity -80995.000 80995.000 161990.000 12.183   5.000 2.000 12.000       250.283     0.180  93140.043"
      ]
     },
     "execution_count": 27,
     "metadata": {},
     "output_type": "execute_result"
    }
   ],
   "source": [
    "num_attributes_result = numerical_metrics(num_attributes[num_cols])\n",
    "num_attributes_result"
   ]
  },
  {
   "cell_type": "markdown",
   "id": "025598bf-b62e-4477-9ef4-b0900ed7ffb0",
   "metadata": {},
   "source": [
    "`Outliers in unit price and quantity`:"
   ]
  },
  {
   "cell_type": "code",
   "execution_count": 28,
   "id": "5f99c836-b377-48ac-a46a-5d4e88128a11",
   "metadata": {
    "execution": {
     "iopub.execute_input": "2021-04-30T19:16:08.497735Z",
     "iopub.status.busy": "2021-04-30T19:16:08.497528Z",
     "iopub.status.idle": "2021-04-30T19:16:09.295407Z",
     "shell.execute_reply": "2021-04-30T19:16:09.294824Z",
     "shell.execute_reply.started": "2021-04-30T19:16:08.497711Z"
    }
   },
   "outputs": [
    {
     "data": {
      "image/png": "[encoded data removed]",
      "text/plain": [
       "<Figure size 1800x864 with 2 Axes>"
      ]
     },
     "metadata": {},
     "output_type": "display_data"
    }
   ],
   "source": [
    "# creating subplots\n",
    "fig, (ax1, ax2) = plt.subplots(2, 1)\n",
    "\n",
    "ax = sns.boxplot(df1['unit_price'], ax = ax1);\n",
    "ax.set_xlabel('Unit Price', fontsize = 12);\n",
    "ax = sns.boxplot(df1['quantity'], ax = ax2);\n",
    "ax.set_xlabel('Quantity', fontsize = 12);\n",
    "\n",
    "#saving figure\n",
    "plt.savefig(homepath + 'reports/figures/num_attributes_outliers.png')"
   ]
  },
  {
   "cell_type": "markdown",
   "id": "993f148f-8dd1-4a4a-8def-cf7766567da6",
   "metadata": {
    "heading_collapsed": "true",
    "tags": []
   },
   "source": [
    "#### 1.8.2 Categorical Attributes"
   ]
  },
  {
   "cell_type": "code",
   "execution_count": 29,
   "id": "4afb88ad-a771-4085-b95b-f9832467f7e5",
   "metadata": {
    "execution": {
     "iopub.execute_input": "2021-04-30T19:16:09.296501Z",
     "iopub.status.busy": "2021-04-30T19:16:09.296311Z",
     "iopub.status.idle": "2021-04-30T19:16:09.322983Z",
     "shell.execute_reply": "2021-04-30T19:16:09.321802Z",
     "shell.execute_reply.started": "2021-04-30T19:16:09.296478Z"
    }
   },
   "outputs": [],
   "source": [
    "cat_attributes = df1.select_dtypes(include=['object'])\n",
    "cat_attributes = cat_attributes.drop(columns=['description'])\n",
    "cat_cols = cat_attributes.columns.tolist()"
   ]
  },
  {
   "cell_type": "markdown",
   "id": "0f12ff14-b2f1-4c9e-abbf-6d351aa964e1",
   "metadata": {},
   "source": [
    "`country`:"
   ]
  },
  {
   "cell_type": "code",
   "execution_count": 30,
   "id": "37c465d5-581e-4e1d-b011-e320b717ea39",
   "metadata": {
    "execution": {
     "iopub.execute_input": "2021-04-30T19:16:09.324985Z",
     "iopub.status.busy": "2021-04-30T19:16:09.324629Z",
     "iopub.status.idle": "2021-04-30T19:16:13.160737Z",
     "shell.execute_reply": "2021-04-30T19:16:13.160121Z",
     "shell.execute_reply.started": "2021-04-30T19:16:09.324946Z"
    }
   },
   "outputs": [
    {
     "data": {
      "image/png": "[encoded data removed]",
      "text/plain": [
       "<Figure size 1800x864 with 1 Axes>"
      ]
     },
     "metadata": {},
     "output_type": "display_data"
    }
   ],
   "source": [
    "ax = sns.countplot(x = 'country', data = cat_attributes, palette = 'pastel', order = cat_attributes['country'].value_counts().index)\n",
    "plt.xticks(rotation = 90);\n",
    "\n",
    "# saving figure\n",
    "plt.savefig(homepath + 'reports/figures/country_count_uk.png')"
   ]
  },
  {
   "cell_type": "code",
   "execution_count": 31,
   "id": "91b639b4-27db-49a4-ad7c-c8a5df23f775",
   "metadata": {
    "execution": {
     "iopub.execute_input": "2021-04-30T19:16:13.161609Z",
     "iopub.status.busy": "2021-04-30T19:16:13.161447Z",
     "iopub.status.idle": "2021-04-30T19:16:14.044302Z",
     "shell.execute_reply": "2021-04-30T19:16:14.043681Z",
     "shell.execute_reply.started": "2021-04-30T19:16:13.161589Z"
    }
   },
   "outputs": [
    {
     "data": {
      "image/png": "[encoded data removed]",
      "text/plain": [
       "<Figure size 1800x864 with 1 Axes>"
      ]
     },
     "metadata": {},
     "output_type": "display_data"
    }
   ],
   "source": [
    "aux1 = cat_attributes[cat_attributes['country'] != 'United Kingdom']\n",
    "aux2 = aux1[aux1['country'] != 'Unspecified']\n",
    "ax = sns.countplot(y = 'country', data = aux2, palette = 'Set2', order = aux2['country'].value_counts().index)\n",
    "\n",
    "# saving figure\n",
    "plt.savefig(homepath + 'reports/figures/country_count.png')"
   ]
  },
  {
   "cell_type": "markdown",
   "id": "5aea5f68-1353-414b-8b10-e27c1def0a54",
   "metadata": {
    "heading_collapsed": "true",
    "tags": []
   },
   "source": [
    "#### 1.8.3 Date Attributes"
   ]
  },
  {
   "cell_type": "code",
   "execution_count": 32,
   "id": "04864c7c-70e0-4f9a-b923-98435d664cb8",
   "metadata": {
    "execution": {
     "iopub.execute_input": "2021-04-30T19:16:14.045183Z",
     "iopub.status.busy": "2021-04-30T19:16:14.045017Z",
     "iopub.status.idle": "2021-04-30T19:16:14.771945Z",
     "shell.execute_reply": "2021-04-30T19:16:14.771388Z",
     "shell.execute_reply.started": "2021-04-30T19:16:14.045162Z"
    }
   },
   "outputs": [
    {
     "data": {
      "image/png": "[encoded data removed]",
      "text/plain": [
       "<Figure size 1800x864 with 1 Axes>"
      ]
     },
     "metadata": {},
     "output_type": "display_data"
    }
   ],
   "source": [
    "ax = sns.histplot(data = df1, x = 'invoice_date',bins = 30, alpha = 0.5);\n",
    "plt.xticks(rotation = 45)\n",
    "ax.xaxis.set_major_locator(ticker.LinearLocator(numticks = 30))\n",
    "\n",
    "# saving figure\n",
    "plt.savefig(homepath + 'reports/figures/countplot_date.png')"
   ]
  },
  {
   "cell_type": "markdown",
   "id": "97dc559c-13db-4fda-b0b7-e628db421a4d",
   "metadata": {
    "heading_collapsed": "true",
    "tags": []
   },
   "source": [
    "### 1.9 Save State"
   ]
  },
  {
   "cell_type": "code",
   "execution_count": 33,
   "id": "61a162df-88c1-43fa-9a68-d08c16c3c7f9",
   "metadata": {
    "execution": {
     "iopub.execute_input": "2021-04-30T19:16:14.772816Z",
     "iopub.status.busy": "2021-04-30T19:16:14.772651Z",
     "iopub.status.idle": "2021-04-30T19:16:14.888350Z",
     "shell.execute_reply": "2021-04-30T19:16:14.887638Z",
     "shell.execute_reply.started": "2021-04-30T19:16:14.772796Z"
    }
   },
   "outputs": [],
   "source": [
    "pickle.dump(df1, open(homepath + 'data/processed/df1.pkl', 'wb'))"
   ]
  },
  {
   "cell_type": "markdown",
   "id": "3d5d70a8-771f-4eb5-aa33-3430130b36fb",
   "metadata": {
    "heading_collapsed": "true",
    "tags": []
   },
   "source": [
    "## 2.0 VARIABLE FILTERING"
   ]
  },
  {
   "cell_type": "markdown",
   "id": "3670b6a1-7dbf-4ba2-abe2-bbf98b151a73",
   "metadata": {},
   "source": [
    "- **Tasks**\n",
    "    - Dataset Checkpoint\n",
    "    - Filtering Rows\n",
    "    - Save State"
   ]
  },
  {
   "cell_type": "markdown",
   "id": "0e4a1d59-67a2-4bea-8c6c-7faff3865ef0",
   "metadata": {
    "heading_collapsed": "true",
    "tags": []
   },
   "source": [
    "### 2.1 Dataset Checkpoint"
   ]
  },
  {
   "cell_type": "code",
   "execution_count": 34,
   "id": "1274dccc-6c7c-43a6-bca3-4406d511fd7d",
   "metadata": {
    "execution": {
     "iopub.execute_input": "2021-04-30T19:16:14.889671Z",
     "iopub.status.busy": "2021-04-30T19:16:14.889429Z",
     "iopub.status.idle": "2021-04-30T19:16:14.961610Z",
     "shell.execute_reply": "2021-04-30T19:16:14.960533Z",
     "shell.execute_reply.started": "2021-04-30T19:16:14.889648Z"
    }
   },
   "outputs": [],
   "source": [
    "df2 = pickle.load(open(homepath + 'data/processed/df1.pkl', 'rb'))"
   ]
  },
  {
   "cell_type": "markdown",
   "id": "67519729-58ae-4c9b-b900-4323fdeaa075",
   "metadata": {
    "heading_collapsed": "true",
    "tags": []
   },
   "source": [
    "### 2.2 Filtering Rows"
   ]
  },
  {
   "cell_type": "code",
   "execution_count": 35,
   "id": "004b9f95-d360-498d-828d-04ddfdf589d3",
   "metadata": {
    "execution": {
     "iopub.execute_input": "2021-04-30T19:16:14.963352Z",
     "iopub.status.busy": "2021-04-30T19:16:14.962965Z",
     "iopub.status.idle": "2021-04-30T19:16:14.974798Z",
     "shell.execute_reply": "2021-04-30T19:16:14.973880Z",
     "shell.execute_reply.started": "2021-04-30T19:16:14.963317Z"
    }
   },
   "outputs": [
    {
     "name": "stdout",
     "output_type": "stream",
     "text": [
      "There are 8872 rows with product quantities in the cart less than 1 and 40 rows with price equal or lower than 0\n"
     ]
    }
   ],
   "source": [
    "quantity_low = len(df2[df2['quantity'] < 1])\n",
    "unit_price_low = len(df2[df2['unit_price'] <= 0])\n",
    "print(f'There are {quantity_low} rows with product quantities in the cart less than 1 and {unit_price_low} rows with price equal or lower than 0')"
   ]
  },
  {
   "cell_type": "code",
   "execution_count": 36,
   "id": "ca0b9a62-7fff-4ab6-83a8-e50e7837f1fd",
   "metadata": {
    "execution": {
     "iopub.execute_input": "2021-04-30T19:16:14.976293Z",
     "iopub.status.busy": "2021-04-30T19:16:14.976055Z",
     "iopub.status.idle": "2021-04-30T19:16:15.022784Z",
     "shell.execute_reply": "2021-04-30T19:16:15.021627Z",
     "shell.execute_reply.started": "2021-04-30T19:16:14.976265Z"
    }
   },
   "outputs": [],
   "source": [
    "df2 = df2[(df2['quantity'] > 0) & (df2['unit_price'] > 0)]"
   ]
  },
  {
   "cell_type": "code",
   "execution_count": 37,
   "id": "84cfa393-05ac-4099-84a2-8db290e615f6",
   "metadata": {
    "execution": {
     "iopub.execute_input": "2021-04-30T19:16:15.024943Z",
     "iopub.status.busy": "2021-04-30T19:16:15.024579Z",
     "iopub.status.idle": "2021-04-30T19:16:15.033929Z",
     "shell.execute_reply": "2021-04-30T19:16:15.032693Z",
     "shell.execute_reply.started": "2021-04-30T19:16:15.024902Z"
    }
   },
   "outputs": [
    {
     "data": {
      "text/plain": [
       "0.001"
      ]
     },
     "execution_count": 37,
     "metadata": {},
     "output_type": "execute_result"
    }
   ],
   "source": [
    "df2['unit_price'].min()"
   ]
  },
  {
   "cell_type": "code",
   "execution_count": 38,
   "id": "37f77025-00b6-4e62-bf5f-e0486f941a87",
   "metadata": {
    "execution": {
     "iopub.execute_input": "2021-04-30T19:16:15.035846Z",
     "iopub.status.busy": "2021-04-30T19:16:15.035301Z",
     "iopub.status.idle": "2021-04-30T19:16:15.072974Z",
     "shell.execute_reply": "2021-04-30T19:16:15.071976Z",
     "shell.execute_reply.started": "2021-04-30T19:16:15.035789Z"
    }
   },
   "outputs": [],
   "source": [
    "df2 = df2[df2['unit_price'] > 0.001]"
   ]
  },
  {
   "cell_type": "markdown",
   "id": "8b21db75-3910-463a-91f2-e29942bdfd69",
   "metadata": {
    "heading_collapsed": "true",
    "tags": []
   },
   "source": [
    "### 2.3 Save State"
   ]
  },
  {
   "cell_type": "code",
   "execution_count": 39,
   "id": "de4e8341-dc1e-4a05-8902-f59b9208cbba",
   "metadata": {
    "execution": {
     "iopub.execute_input": "2021-04-30T19:16:15.077125Z",
     "iopub.status.busy": "2021-04-30T19:16:15.076774Z",
     "iopub.status.idle": "2021-04-30T19:16:15.207958Z",
     "shell.execute_reply": "2021-04-30T19:16:15.206905Z",
     "shell.execute_reply.started": "2021-04-30T19:16:15.077078Z"
    }
   },
   "outputs": [],
   "source": [
    "pickle.dump(df2, open(homepath + 'data/processed/df2.pkl', 'wb'))"
   ]
  },
  {
   "cell_type": "markdown",
   "id": "178e6020-2a01-4696-982a-bfd3b22af51e",
   "metadata": {
    "heading_collapsed": "true",
    "tags": []
   },
   "source": [
    "## 3.0 FEATURE ENGINEERING"
   ]
  },
  {
   "cell_type": "markdown",
   "id": "993e13e8-de29-44a2-91d0-6cc038b86b36",
   "metadata": {
    "execution": {
     "iopub.execute_input": "2021-04-26T00:37:59.364981Z",
     "iopub.status.busy": "2021-04-26T00:37:59.364635Z",
     "iopub.status.idle": "2021-04-26T00:37:59.372571Z",
     "shell.execute_reply": "2021-04-26T00:37:59.370669Z",
     "shell.execute_reply.started": "2021-04-26T00:37:59.364941Z"
    }
   },
   "source": [
    "- **Tasks**\n",
    "    - Dataset Checkpoint\n",
    "    - Features\n",
    "    - Save State"
   ]
  },
  {
   "cell_type": "markdown",
   "id": "59354319-b995-4793-ad58-1d7030cb82ba",
   "metadata": {
    "heading_collapsed": "true",
    "tags": []
   },
   "source": [
    "### 3.1 Dataset Checkpoint"
   ]
  },
  {
   "cell_type": "code",
   "execution_count": 40,
   "id": "44ed1dcb-2f51-4724-8cbb-705c6d99805c",
   "metadata": {
    "execution": {
     "iopub.execute_input": "2021-04-30T19:16:15.210097Z",
     "iopub.status.busy": "2021-04-30T19:16:15.209617Z",
     "iopub.status.idle": "2021-04-30T19:16:15.290975Z",
     "shell.execute_reply": "2021-04-30T19:16:15.290055Z",
     "shell.execute_reply.started": "2021-04-30T19:16:15.210038Z"
    }
   },
   "outputs": [],
   "source": [
    "df3 = pickle.load(open(homepath + 'data/processed/df2.pkl', 'rb'))"
   ]
  },
  {
   "cell_type": "markdown",
   "id": "6be07f19-63da-4042-9522-8a786503bf4e",
   "metadata": {
    "heading_collapsed": "true",
    "tags": []
   },
   "source": [
    "### 3.2 Features"
   ]
  },
  {
   "cell_type": "markdown",
   "id": "50970040-5add-4c27-b8c0-7562e789bb21",
   "metadata": {},
   "source": [
    "Creating `year`, `month` and `day`:"
   ]
  },
  {
   "cell_type": "code",
   "execution_count": 41,
   "id": "f3a4482f-e4d4-4471-bf48-0e63782c563e",
   "metadata": {
    "execution": {
     "iopub.execute_input": "2021-04-30T19:16:15.292154Z",
     "iopub.status.busy": "2021-04-30T19:16:15.291922Z",
     "iopub.status.idle": "2021-04-30T19:16:15.406046Z",
     "shell.execute_reply": "2021-04-30T19:16:15.405429Z",
     "shell.execute_reply.started": "2021-04-30T19:16:15.292126Z"
    }
   },
   "outputs": [],
   "source": [
    "# year\n",
    "df3['invoice_year'] = df3['invoice_date'].dt.year\n",
    "\n",
    "# month\n",
    "df3['invoice_month'] = df3['invoice_date'].dt.month\n",
    "\n",
    "# day\n",
    "df3['invoice_day'] = df3['invoice_date'].dt.dayofweek"
   ]
  },
  {
   "cell_type": "markdown",
   "id": "c5336c0e-fa29-45ef-a2ee-07808f5f68e3",
   "metadata": {},
   "source": [
    "Creating `total_purchase`, `monetary`, `recency` and `frequency`:"
   ]
  },
  {
   "cell_type": "code",
   "execution_count": 42,
   "id": "ba962ca4-4ad8-4a6e-bade-456dfe86d12e",
   "metadata": {
    "execution": {
     "iopub.execute_input": "2021-04-30T19:16:15.406969Z",
     "iopub.status.busy": "2021-04-30T19:16:15.406807Z",
     "iopub.status.idle": "2021-04-30T19:16:15.954690Z",
     "shell.execute_reply": "2021-04-30T19:16:15.954082Z",
     "shell.execute_reply.started": "2021-04-30T19:16:15.406948Z"
    },
    "tags": []
   },
   "outputs": [],
   "source": [
    "# total_purchase\n",
    "df3['total_purchase'] = df3['quantity'] * df3['unit_price']\n",
    "\n",
    "# monetary\n",
    "df_monetary = df3[['customer_id', 'total_purchase']].groupby('customer_id').sum().reset_index()\n",
    "df_monetary.columns = ['customer_id', 'monetary']\n",
    "df3 = pd.merge(df3, df_monetary, on='customer_id', how='left')\n",
    "\n",
    "# recency\n",
    "df_recency = df3[['customer_id', 'invoice_date']].groupby('customer_id').max().reset_index()\n",
    "df_recency['recency'] = (df3['invoice_date'].max() - df_recency['invoice_date']).dt.days\n",
    "df_recency.drop(['invoice_date'], axis = 1, inplace = True)\n",
    "df3 = pd.merge(df3, df_recency, on='customer_id', how='left')\n",
    "\n",
    "# frequency\n",
    "df_frequency = df3[['customer_id', 'invoice_number']].groupby( 'customer_id' ).count().reset_index()\n",
    "df_frequency.columns = ['customer_id', 'frequency']\n",
    "df3 = pd.merge( df3, df_frequency, on='customer_id', how='left' )"
   ]
  },
  {
   "cell_type": "markdown",
   "id": "26c0b265-3d63-46ef-ad8e-92c706e6143f",
   "metadata": {},
   "source": [
    "Creating `monetary score`, `recency score`, `frequency score`, `rfm score` and `rfm level`:"
   ]
  },
  {
   "cell_type": "code",
   "execution_count": 43,
   "id": "42ddec17-011e-4070-837e-55f0e880e0ea",
   "metadata": {
    "execution": {
     "iopub.execute_input": "2021-04-30T19:16:15.955726Z",
     "iopub.status.busy": "2021-04-30T19:16:15.955541Z",
     "iopub.status.idle": "2021-04-30T19:16:16.631197Z",
     "shell.execute_reply": "2021-04-30T19:16:16.630551Z",
     "shell.execute_reply.started": "2021-04-30T19:16:15.955703Z"
    }
   },
   "outputs": [],
   "source": [
    "# monetary score\n",
    "df3['monetary_score'] = df3['monetary'].apply(lambda x: 5 if x >= 8000 else\n",
    "                                   4 if x < 8000 and x >= 2000 else\n",
    "                                   3 if x < 2000 and x >= 1000 else\n",
    "                                   2 if x < 1000 and x >= 500 else 1)\n",
    "\n",
    "# recency score\n",
    "df3['recency_score'] = df3['recency'].apply(lambda x: 5 if x <= 30 else\n",
    "                                   4 if x > 30 and x <= 60 else\n",
    "                                   3 if x > 60 and x <= 90 else\n",
    "                                   2 if x > 90 and x <= 120 else 1)\n",
    "\n",
    "# frequency score\n",
    "df3['frequency_score'] = df3['frequency'].apply(lambda x: 5 if x >= 500 else\n",
    "                                   4 if x < 500 and x >= 125 else\n",
    "                                   3 if x < 125 and x >= 75 else\n",
    "                                   2 if x < 75 and x >= 50 else 1)\n",
    "\n",
    "# rfm score\n",
    "df3['rfm_score'] = (df3['monetary_score'] + df3['recency_score'] + df3['frequency_score'])/3\n",
    "\n",
    "# rfm level\n",
    "df3['rfm_level'] = df3['rfm_score'].apply(lambda x: 'Tier S' if x == 5 else\n",
    "                                   'Champions' if x < 5 and x >= 4 else\n",
    "                                   'Loyal' if x < 4 and x >= 3 else\n",
    "                                   'They have potential' if x < 3 and x >= 2 else 'Need a push')"
   ]
  },
  {
   "cell_type": "code",
   "execution_count": 44,
   "id": "91bbd8ea-d370-4c90-9c0f-df533dc3a25f",
   "metadata": {
    "execution": {
     "iopub.execute_input": "2021-04-30T19:16:16.632398Z",
     "iopub.status.busy": "2021-04-30T19:16:16.632220Z",
     "iopub.status.idle": "2021-04-30T19:16:16.730822Z",
     "shell.execute_reply": "2021-04-30T19:16:16.729985Z",
     "shell.execute_reply.started": "2021-04-30T19:16:16.632374Z"
    },
    "tags": []
   },
   "outputs": [
    {
     "data": {
      "text/html": [
       "<div>\n",
       "<style scoped>\n",
       "    .dataframe tbody tr th:only-of-type {\n",
       "        vertical-align: middle;\n",
       "    }\n",
       "\n",
       "    .dataframe tbody tr th {\n",
       "        vertical-align: top;\n",
       "    }\n",
       "\n",
       "    .dataframe thead th {\n",
       "        text-align: right;\n",
       "    }\n",
       "</style>\n",
       "<table border=\"1\" class=\"dataframe\">\n",
       "  <thead>\n",
       "    <tr style=\"text-align: right;\">\n",
       "      <th></th>\n",
       "      <th>customer_id</th>\n",
       "      <th>country</th>\n",
       "      <th>invoice_date</th>\n",
       "      <th>stock_code</th>\n",
       "      <th>description</th>\n",
       "      <th>unit_price</th>\n",
       "      <th>quantity</th>\n",
       "      <th>invoice_number</th>\n",
       "      <th>invoice_letter</th>\n",
       "      <th>invoice_year</th>\n",
       "      <th>invoice_month</th>\n",
       "      <th>invoice_day</th>\n",
       "      <th>total_purchase</th>\n",
       "      <th>monetary</th>\n",
       "      <th>recency</th>\n",
       "      <th>frequency</th>\n",
       "      <th>monetary_score</th>\n",
       "      <th>recency_score</th>\n",
       "      <th>frequency_score</th>\n",
       "      <th>rfm_score</th>\n",
       "      <th>rfm_level</th>\n",
       "    </tr>\n",
       "  </thead>\n",
       "  <tbody>\n",
       "    <tr>\n",
       "      <th>21961</th>\n",
       "      <td>16316.000</td>\n",
       "      <td>United Kingdom</td>\n",
       "      <td>2016-12-14</td>\n",
       "      <td>22629</td>\n",
       "      <td>SPACEBOY LUNCH BOX</td>\n",
       "      <td>1.950</td>\n",
       "      <td>12</td>\n",
       "      <td>539255</td>\n",
       "      <td>no_letter</td>\n",
       "      <td>2016</td>\n",
       "      <td>12</td>\n",
       "      <td>2</td>\n",
       "      <td>23.400</td>\n",
       "      <td>2938.910</td>\n",
       "      <td>64</td>\n",
       "      <td>151</td>\n",
       "      <td>4</td>\n",
       "      <td>3</td>\n",
       "      <td>4</td>\n",
       "      <td>3.667</td>\n",
       "      <td>Loyal</td>\n",
       "    </tr>\n",
       "    <tr>\n",
       "      <th>175586</th>\n",
       "      <td>13158.000</td>\n",
       "      <td>United Kingdom</td>\n",
       "      <td>2017-07-05</td>\n",
       "      <td>23207</td>\n",
       "      <td>LUNCH BAG ALPHABET DESIGN</td>\n",
       "      <td>1.650</td>\n",
       "      <td>10</td>\n",
       "      <td>559308</td>\n",
       "      <td>no_letter</td>\n",
       "      <td>2017</td>\n",
       "      <td>7</td>\n",
       "      <td>2</td>\n",
       "      <td>16.500</td>\n",
       "      <td>1201.060</td>\n",
       "      <td>94</td>\n",
       "      <td>79</td>\n",
       "      <td>3</td>\n",
       "      <td>2</td>\n",
       "      <td>3</td>\n",
       "      <td>2.667</td>\n",
       "      <td>They have potential</td>\n",
       "    </tr>\n",
       "    <tr>\n",
       "      <th>91549</th>\n",
       "      <td>15353.000</td>\n",
       "      <td>United Kingdom</td>\n",
       "      <td>2017-03-28</td>\n",
       "      <td>85014B</td>\n",
       "      <td>RED RETROSPOT UMBRELLA</td>\n",
       "      <td>5.950</td>\n",
       "      <td>2</td>\n",
       "      <td>548313</td>\n",
       "      <td>no_letter</td>\n",
       "      <td>2017</td>\n",
       "      <td>3</td>\n",
       "      <td>1</td>\n",
       "      <td>11.900</td>\n",
       "      <td>770.120</td>\n",
       "      <td>254</td>\n",
       "      <td>61</td>\n",
       "      <td>2</td>\n",
       "      <td>1</td>\n",
       "      <td>2</td>\n",
       "      <td>1.667</td>\n",
       "      <td>Need a push</td>\n",
       "    </tr>\n",
       "    <tr>\n",
       "      <th>18875</th>\n",
       "      <td>12370.000</td>\n",
       "      <td>Cyprus</td>\n",
       "      <td>2016-12-12</td>\n",
       "      <td>22087</td>\n",
       "      <td>PAPER BUNTING WHITE LACE</td>\n",
       "      <td>2.950</td>\n",
       "      <td>1</td>\n",
       "      <td>538826</td>\n",
       "      <td>no_letter</td>\n",
       "      <td>2016</td>\n",
       "      <td>12</td>\n",
       "      <td>0</td>\n",
       "      <td>2.950</td>\n",
       "      <td>3541.940</td>\n",
       "      <td>51</td>\n",
       "      <td>166</td>\n",
       "      <td>4</td>\n",
       "      <td>4</td>\n",
       "      <td>4</td>\n",
       "      <td>4.000</td>\n",
       "      <td>Champions</td>\n",
       "    </tr>\n",
       "    <tr>\n",
       "      <th>375735</th>\n",
       "      <td>13854.000</td>\n",
       "      <td>United Kingdom</td>\n",
       "      <td>2017-11-29</td>\n",
       "      <td>21386</td>\n",
       "      <td>IVORY HANGING DECORATION  EGG</td>\n",
       "      <td>0.190</td>\n",
       "      <td>72</td>\n",
       "      <td>579922</td>\n",
       "      <td>no_letter</td>\n",
       "      <td>2017</td>\n",
       "      <td>11</td>\n",
       "      <td>2</td>\n",
       "      <td>13.680</td>\n",
       "      <td>8109.520</td>\n",
       "      <td>8</td>\n",
       "      <td>110</td>\n",
       "      <td>5</td>\n",
       "      <td>5</td>\n",
       "      <td>3</td>\n",
       "      <td>4.333</td>\n",
       "      <td>Champions</td>\n",
       "    </tr>\n",
       "    <tr>\n",
       "      <th>5345</th>\n",
       "      <td>15351.000</td>\n",
       "      <td>United Kingdom</td>\n",
       "      <td>2016-12-03</td>\n",
       "      <td>84969</td>\n",
       "      <td>BOX OF 6 ASSORTED COLOUR TEASPOONS</td>\n",
       "      <td>4.250</td>\n",
       "      <td>1</td>\n",
       "      <td>537057</td>\n",
       "      <td>no_letter</td>\n",
       "      <td>2016</td>\n",
       "      <td>12</td>\n",
       "      <td>5</td>\n",
       "      <td>4.250</td>\n",
       "      <td>1934.660</td>\n",
       "      <td>12</td>\n",
       "      <td>219</td>\n",
       "      <td>3</td>\n",
       "      <td>5</td>\n",
       "      <td>4</td>\n",
       "      <td>4.000</td>\n",
       "      <td>Champions</td>\n",
       "    </tr>\n",
       "    <tr>\n",
       "      <th>381605</th>\n",
       "      <td>14075.000</td>\n",
       "      <td>United Kingdom</td>\n",
       "      <td>2017-12-03</td>\n",
       "      <td>23084</td>\n",
       "      <td>RABBIT NIGHT LIGHT</td>\n",
       "      <td>1.790</td>\n",
       "      <td>48</td>\n",
       "      <td>580538</td>\n",
       "      <td>no_letter</td>\n",
       "      <td>2017</td>\n",
       "      <td>12</td>\n",
       "      <td>6</td>\n",
       "      <td>85.920</td>\n",
       "      <td>942.260</td>\n",
       "      <td>4</td>\n",
       "      <td>43</td>\n",
       "      <td>2</td>\n",
       "      <td>5</td>\n",
       "      <td>1</td>\n",
       "      <td>2.667</td>\n",
       "      <td>They have potential</td>\n",
       "    </tr>\n",
       "    <tr>\n",
       "      <th>253234</th>\n",
       "      <td>16744.000</td>\n",
       "      <td>United Kingdom</td>\n",
       "      <td>2017-09-23</td>\n",
       "      <td>22630</td>\n",
       "      <td>DOLLY GIRL LUNCH BOX</td>\n",
       "      <td>1.950</td>\n",
       "      <td>2</td>\n",
       "      <td>568142</td>\n",
       "      <td>no_letter</td>\n",
       "      <td>2017</td>\n",
       "      <td>9</td>\n",
       "      <td>5</td>\n",
       "      <td>3.900</td>\n",
       "      <td>1291.910</td>\n",
       "      <td>11</td>\n",
       "      <td>236</td>\n",
       "      <td>3</td>\n",
       "      <td>5</td>\n",
       "      <td>4</td>\n",
       "      <td>4.000</td>\n",
       "      <td>Champions</td>\n",
       "    </tr>\n",
       "    <tr>\n",
       "      <th>203391</th>\n",
       "      <td>15518.000</td>\n",
       "      <td>United Kingdom</td>\n",
       "      <td>2017-08-05</td>\n",
       "      <td>85132C</td>\n",
       "      <td>CHARLIE AND LOLA FIGURES TINS</td>\n",
       "      <td>1.950</td>\n",
       "      <td>2</td>\n",
       "      <td>562576</td>\n",
       "      <td>no_letter</td>\n",
       "      <td>2017</td>\n",
       "      <td>8</td>\n",
       "      <td>5</td>\n",
       "      <td>3.900</td>\n",
       "      <td>1921.550</td>\n",
       "      <td>64</td>\n",
       "      <td>210</td>\n",
       "      <td>3</td>\n",
       "      <td>3</td>\n",
       "      <td>4</td>\n",
       "      <td>3.333</td>\n",
       "      <td>Loyal</td>\n",
       "    </tr>\n",
       "    <tr>\n",
       "      <th>54177</th>\n",
       "      <td>17085.000</td>\n",
       "      <td>United Kingdom</td>\n",
       "      <td>2017-02-11</td>\n",
       "      <td>22813</td>\n",
       "      <td>PACK 3 BOXES BIRD PANNETONE</td>\n",
       "      <td>1.950</td>\n",
       "      <td>4</td>\n",
       "      <td>543806</td>\n",
       "      <td>no_letter</td>\n",
       "      <td>2017</td>\n",
       "      <td>2</td>\n",
       "      <td>5</td>\n",
       "      <td>7.800</td>\n",
       "      <td>1562.400</td>\n",
       "      <td>123</td>\n",
       "      <td>186</td>\n",
       "      <td>3</td>\n",
       "      <td>1</td>\n",
       "      <td>4</td>\n",
       "      <td>2.667</td>\n",
       "      <td>They have potential</td>\n",
       "    </tr>\n",
       "    <tr>\n",
       "      <th>108885</th>\n",
       "      <td>16928.000</td>\n",
       "      <td>United Kingdom</td>\n",
       "      <td>2017-04-16</td>\n",
       "      <td>17091J</td>\n",
       "      <td>VANILLA INCENSE IN TIN</td>\n",
       "      <td>0.380</td>\n",
       "      <td>36</td>\n",
       "      <td>550513</td>\n",
       "      <td>no_letter</td>\n",
       "      <td>2017</td>\n",
       "      <td>4</td>\n",
       "      <td>6</td>\n",
       "      <td>13.680</td>\n",
       "      <td>2814.700</td>\n",
       "      <td>80</td>\n",
       "      <td>204</td>\n",
       "      <td>4</td>\n",
       "      <td>3</td>\n",
       "      <td>4</td>\n",
       "      <td>3.667</td>\n",
       "      <td>Loyal</td>\n",
       "    </tr>\n",
       "    <tr>\n",
       "      <th>233146</th>\n",
       "      <td>12787.000</td>\n",
       "      <td>Netherlands</td>\n",
       "      <td>2017-09-07</td>\n",
       "      <td>22341</td>\n",
       "      <td>LOVE GARLAND PAINTED ZINC</td>\n",
       "      <td>1.650</td>\n",
       "      <td>24</td>\n",
       "      <td>566173</td>\n",
       "      <td>no_letter</td>\n",
       "      <td>2017</td>\n",
       "      <td>9</td>\n",
       "      <td>3</td>\n",
       "      <td>39.600</td>\n",
       "      <td>463.660</td>\n",
       "      <td>9</td>\n",
       "      <td>20</td>\n",
       "      <td>1</td>\n",
       "      <td>5</td>\n",
       "      <td>1</td>\n",
       "      <td>2.333</td>\n",
       "      <td>They have potential</td>\n",
       "    </tr>\n",
       "    <tr>\n",
       "      <th>142088</th>\n",
       "      <td>14227.000</td>\n",
       "      <td>United Kingdom</td>\n",
       "      <td>2017-05-25</td>\n",
       "      <td>21907</td>\n",
       "      <td>I'M ON HOLIDAY METAL SIGN</td>\n",
       "      <td>2.100</td>\n",
       "      <td>12</td>\n",
       "      <td>554950</td>\n",
       "      <td>no_letter</td>\n",
       "      <td>2017</td>\n",
       "      <td>5</td>\n",
       "      <td>3</td>\n",
       "      <td>25.200</td>\n",
       "      <td>3350.960</td>\n",
       "      <td>26</td>\n",
       "      <td>175</td>\n",
       "      <td>4</td>\n",
       "      <td>5</td>\n",
       "      <td>4</td>\n",
       "      <td>4.333</td>\n",
       "      <td>Champions</td>\n",
       "    </tr>\n",
       "    <tr>\n",
       "      <th>76162</th>\n",
       "      <td>12681.000</td>\n",
       "      <td>France</td>\n",
       "      <td>2017-03-11</td>\n",
       "      <td>21206</td>\n",
       "      <td>STRAWBERRY HONEYCOMB  GARLAND</td>\n",
       "      <td>1.650</td>\n",
       "      <td>12</td>\n",
       "      <td>546428</td>\n",
       "      <td>no_letter</td>\n",
       "      <td>2017</td>\n",
       "      <td>3</td>\n",
       "      <td>5</td>\n",
       "      <td>19.800</td>\n",
       "      <td>13787.540</td>\n",
       "      <td>14</td>\n",
       "      <td>638</td>\n",
       "      <td>5</td>\n",
       "      <td>5</td>\n",
       "      <td>5</td>\n",
       "      <td>5.000</td>\n",
       "      <td>Tier S</td>\n",
       "    </tr>\n",
       "    <tr>\n",
       "      <th>75468</th>\n",
       "      <td>13654.000</td>\n",
       "      <td>United Kingdom</td>\n",
       "      <td>2017-03-09</td>\n",
       "      <td>21063</td>\n",
       "      <td>PARTY INVITES JAZZ HEARTS</td>\n",
       "      <td>0.850</td>\n",
       "      <td>12</td>\n",
       "      <td>546383</td>\n",
       "      <td>no_letter</td>\n",
       "      <td>2017</td>\n",
       "      <td>3</td>\n",
       "      <td>3</td>\n",
       "      <td>10.200</td>\n",
       "      <td>2707.330</td>\n",
       "      <td>43</td>\n",
       "      <td>166</td>\n",
       "      <td>4</td>\n",
       "      <td>4</td>\n",
       "      <td>4</td>\n",
       "      <td>4.000</td>\n",
       "      <td>Champions</td>\n",
       "    </tr>\n",
       "    <tr>\n",
       "      <th>288842</th>\n",
       "      <td>14911.000</td>\n",
       "      <td>EIRE</td>\n",
       "      <td>2017-10-15</td>\n",
       "      <td>84380</td>\n",
       "      <td>SET OF 3 BUTTERFLY COOKIE CUTTERS</td>\n",
       "      <td>1.450</td>\n",
       "      <td>48</td>\n",
       "      <td>571446</td>\n",
       "      <td>no_letter</td>\n",
       "      <td>2017</td>\n",
       "      <td>10</td>\n",
       "      <td>6</td>\n",
       "      <td>69.600</td>\n",
       "      <td>143711.170</td>\n",
       "      <td>1</td>\n",
       "      <td>5670</td>\n",
       "      <td>5</td>\n",
       "      <td>5</td>\n",
       "      <td>5</td>\n",
       "      <td>5.000</td>\n",
       "      <td>Tier S</td>\n",
       "    </tr>\n",
       "    <tr>\n",
       "      <th>142410</th>\n",
       "      <td>17152.000</td>\n",
       "      <td>United Kingdom</td>\n",
       "      <td>2017-05-27</td>\n",
       "      <td>47590B</td>\n",
       "      <td>PINK HAPPY BIRTHDAY BUNTING</td>\n",
       "      <td>4.650</td>\n",
       "      <td>120</td>\n",
       "      <td>554982</td>\n",
       "      <td>no_letter</td>\n",
       "      <td>2017</td>\n",
       "      <td>5</td>\n",
       "      <td>5</td>\n",
       "      <td>558.000</td>\n",
       "      <td>1689.500</td>\n",
       "      <td>194</td>\n",
       "      <td>14</td>\n",
       "      <td>3</td>\n",
       "      <td>1</td>\n",
       "      <td>1</td>\n",
       "      <td>1.667</td>\n",
       "      <td>Need a push</td>\n",
       "    </tr>\n",
       "    <tr>\n",
       "      <th>266470</th>\n",
       "      <td>14653.000</td>\n",
       "      <td>United Kingdom</td>\n",
       "      <td>2017-10-01</td>\n",
       "      <td>22666</td>\n",
       "      <td>RECIPE BOX PANTRY YELLOW DESIGN</td>\n",
       "      <td>2.950</td>\n",
       "      <td>2</td>\n",
       "      <td>569360</td>\n",
       "      <td>no_letter</td>\n",
       "      <td>2017</td>\n",
       "      <td>10</td>\n",
       "      <td>6</td>\n",
       "      <td>5.900</td>\n",
       "      <td>1926.650</td>\n",
       "      <td>1</td>\n",
       "      <td>234</td>\n",
       "      <td>3</td>\n",
       "      <td>5</td>\n",
       "      <td>4</td>\n",
       "      <td>4.000</td>\n",
       "      <td>Champions</td>\n",
       "    </tr>\n",
       "    <tr>\n",
       "      <th>310441</th>\n",
       "      <td>16190.000</td>\n",
       "      <td>United Kingdom</td>\n",
       "      <td>2017-10-28</td>\n",
       "      <td>23326</td>\n",
       "      <td>HANGING MINI COLOURED BOTTLES</td>\n",
       "      <td>0.630</td>\n",
       "      <td>48</td>\n",
       "      <td>573408</td>\n",
       "      <td>no_letter</td>\n",
       "      <td>2017</td>\n",
       "      <td>10</td>\n",
       "      <td>5</td>\n",
       "      <td>30.240</td>\n",
       "      <td>215.080</td>\n",
       "      <td>40</td>\n",
       "      <td>6</td>\n",
       "      <td>1</td>\n",
       "      <td>4</td>\n",
       "      <td>1</td>\n",
       "      <td>2.000</td>\n",
       "      <td>They have potential</td>\n",
       "    </tr>\n",
       "    <tr>\n",
       "      <th>58586</th>\n",
       "      <td>16393.000</td>\n",
       "      <td>United Kingdom</td>\n",
       "      <td>2017-02-16</td>\n",
       "      <td>22383</td>\n",
       "      <td>LUNCH BAG SUKI  DESIGN</td>\n",
       "      <td>1.650</td>\n",
       "      <td>5</td>\n",
       "      <td>544393</td>\n",
       "      <td>no_letter</td>\n",
       "      <td>2017</td>\n",
       "      <td>2</td>\n",
       "      <td>3</td>\n",
       "      <td>8.250</td>\n",
       "      <td>3040.960</td>\n",
       "      <td>2</td>\n",
       "      <td>327</td>\n",
       "      <td>4</td>\n",
       "      <td>5</td>\n",
       "      <td>4</td>\n",
       "      <td>4.333</td>\n",
       "      <td>Champions</td>\n",
       "    </tr>\n",
       "  </tbody>\n",
       "</table>\n",
       "</div>"
      ],
      "text/plain": [
       "        customer_id         country invoice_date stock_code                         description  unit_price  quantity  invoice_number invoice_letter  invoice_year  invoice_month  invoice_day  total_purchase   monetary  recency  frequency  monetary_score  recency_score  frequency_score  rfm_score            rfm_level\n",
       "21961     16316.000  United Kingdom   2016-12-14      22629                 SPACEBOY LUNCH BOX        1.950        12          539255      no_letter          2016             12            2          23.400   2938.910       64        151               4              3                4      3.667                Loyal\n",
       "175586    13158.000  United Kingdom   2017-07-05      23207           LUNCH BAG ALPHABET DESIGN       1.650        10          559308      no_letter          2017              7            2          16.500   1201.060       94         79               3              2                3      2.667  They have potential\n",
       "91549     15353.000  United Kingdom   2017-03-28     85014B              RED RETROSPOT UMBRELLA       5.950         2          548313      no_letter          2017              3            1          11.900    770.120      254         61               2              1                2      1.667          Need a push\n",
       "18875     12370.000          Cyprus   2016-12-12      22087            PAPER BUNTING WHITE LACE       2.950         1          538826      no_letter          2016             12            0           2.950   3541.940       51        166               4              4                4      4.000            Champions\n",
       "375735    13854.000  United Kingdom   2017-11-29      21386       IVORY HANGING DECORATION  EGG       0.190        72          579922      no_letter          2017             11            2          13.680   8109.520        8        110               5              5                3      4.333            Champions\n",
       "5345      15351.000  United Kingdom   2016-12-03      84969  BOX OF 6 ASSORTED COLOUR TEASPOONS       4.250         1          537057      no_letter          2016             12            5           4.250   1934.660       12        219               3              5                4      4.000            Champions\n",
       "381605    14075.000  United Kingdom   2017-12-03      23084                  RABBIT NIGHT LIGHT       1.790        48          580538      no_letter          2017             12            6          85.920    942.260        4         43               2              5                1      2.667  They have potential\n",
       "253234    16744.000  United Kingdom   2017-09-23      22630                DOLLY GIRL LUNCH BOX       1.950         2          568142      no_letter          2017              9            5           3.900   1291.910       11        236               3              5                4      4.000            Champions\n",
       "203391    15518.000  United Kingdom   2017-08-05     85132C       CHARLIE AND LOLA FIGURES TINS       1.950         2          562576      no_letter          2017              8            5           3.900   1921.550       64        210               3              3                4      3.333                Loyal\n",
       "54177     17085.000  United Kingdom   2017-02-11      22813        PACK 3 BOXES BIRD PANNETONE        1.950         4          543806      no_letter          2017              2            5           7.800   1562.400      123        186               3              1                4      2.667  They have potential\n",
       "108885    16928.000  United Kingdom   2017-04-16     17091J              VANILLA INCENSE IN TIN       0.380        36          550513      no_letter          2017              4            6          13.680   2814.700       80        204               4              3                4      3.667                Loyal\n",
       "233146    12787.000     Netherlands   2017-09-07      22341          LOVE GARLAND PAINTED ZINC        1.650        24          566173      no_letter          2017              9            3          39.600    463.660        9         20               1              5                1      2.333  They have potential\n",
       "142088    14227.000  United Kingdom   2017-05-25      21907           I'M ON HOLIDAY METAL SIGN       2.100        12          554950      no_letter          2017              5            3          25.200   3350.960       26        175               4              5                4      4.333            Champions\n",
       "76162     12681.000          France   2017-03-11      21206      STRAWBERRY HONEYCOMB  GARLAND        1.650        12          546428      no_letter          2017              3            5          19.800  13787.540       14        638               5              5                5      5.000               Tier S\n",
       "75468     13654.000  United Kingdom   2017-03-09      21063           PARTY INVITES JAZZ HEARTS       0.850        12          546383      no_letter          2017              3            3          10.200   2707.330       43        166               4              4                4      4.000            Champions\n",
       "288842    14911.000            EIRE   2017-10-15      84380   SET OF 3 BUTTERFLY COOKIE CUTTERS       1.450        48          571446      no_letter          2017             10            6          69.600 143711.170        1       5670               5              5                5      5.000               Tier S\n",
       "142410    17152.000  United Kingdom   2017-05-27     47590B         PINK HAPPY BIRTHDAY BUNTING       4.650       120          554982      no_letter          2017              5            5         558.000   1689.500      194         14               3              1                1      1.667          Need a push\n",
       "266470    14653.000  United Kingdom   2017-10-01      22666     RECIPE BOX PANTRY YELLOW DESIGN       2.950         2          569360      no_letter          2017             10            6           5.900   1926.650        1        234               3              5                4      4.000            Champions\n",
       "310441    16190.000  United Kingdom   2017-10-28      23326       HANGING MINI COLOURED BOTTLES       0.630        48          573408      no_letter          2017             10            5          30.240    215.080       40          6               1              4                1      2.000  They have potential\n",
       "58586     16393.000  United Kingdom   2017-02-16      22383             LUNCH BAG SUKI  DESIGN        1.650         5          544393      no_letter          2017              2            3           8.250   3040.960        2        327               4              5                4      4.333            Champions"
      ]
     },
     "execution_count": 44,
     "metadata": {},
     "output_type": "execute_result"
    }
   ],
   "source": [
    "df3.sample(20)"
   ]
  },
  {
   "cell_type": "markdown",
   "id": "ffb1665d-1e23-4909-b85e-8bbc3b993322",
   "metadata": {
    "execution": {
     "iopub.execute_input": "2021-04-26T00:58:23.622532Z",
     "iopub.status.busy": "2021-04-26T00:58:23.622172Z",
     "iopub.status.idle": "2021-04-26T00:58:23.626878Z",
     "shell.execute_reply": "2021-04-26T00:58:23.625781Z",
     "shell.execute_reply.started": "2021-04-26T00:58:23.622489Z"
    },
    "heading_collapsed": "true",
    "tags": []
   },
   "source": [
    "### 3.3 Save State"
   ]
  },
  {
   "cell_type": "code",
   "execution_count": 45,
   "id": "7b09fe81-8061-4c70-be97-dd4be71e1b41",
   "metadata": {
    "execution": {
     "iopub.execute_input": "2021-04-30T19:16:16.732090Z",
     "iopub.status.busy": "2021-04-30T19:16:16.731872Z",
     "iopub.status.idle": "2021-04-30T19:16:17.000771Z",
     "shell.execute_reply": "2021-04-30T19:16:17.000225Z",
     "shell.execute_reply.started": "2021-04-30T19:16:16.732064Z"
    }
   },
   "outputs": [],
   "source": [
    "pickle.dump(df3, open(homepath + 'data/processed/df3.pkl', 'wb'))"
   ]
  },
  {
   "cell_type": "markdown",
   "id": "57935b44-0a36-40ac-9433-13f9c9c4eaff",
   "metadata": {
    "heading_collapsed": "true",
    "tags": []
   },
   "source": [
    "## 4.0 EXPLORATORY DATA ANALYSIS"
   ]
  },
  {
   "cell_type": "markdown",
   "id": "4b19e751-a53a-472c-9410-09cebde64ed1",
   "metadata": {
    "heading_collapsed": "true",
    "tags": []
   },
   "source": [
    "### 4.1 Dataset Checkpoint\n"
   ]
  },
  {
   "cell_type": "code",
   "execution_count": 46,
   "id": "face1009-9d0c-4899-953f-d56bb3d206c2",
   "metadata": {
    "execution": {
     "iopub.execute_input": "2021-04-30T19:16:17.001686Z",
     "iopub.status.busy": "2021-04-30T19:16:17.001518Z",
     "iopub.status.idle": "2021-04-30T19:16:17.089823Z",
     "shell.execute_reply": "2021-04-30T19:16:17.089148Z",
     "shell.execute_reply.started": "2021-04-30T19:16:17.001664Z"
    }
   },
   "outputs": [],
   "source": [
    "df4 = pickle.load(open(homepath + 'data/processed/df3.pkl', 'rb'))"
   ]
  },
  {
   "cell_type": "markdown",
   "id": "03b95f7d-0504-4a0c-8e2d-8e75c05a502d",
   "metadata": {
    "heading_collapsed": "true",
    "tags": []
   },
   "source": [
    "### 4.1 Mind Map"
   ]
  },
  {
   "cell_type": "code",
   "execution_count": 47,
   "id": "9570e9bc-1e9d-4d56-bf71-c18361de5e1f",
   "metadata": {
    "execution": {
     "iopub.execute_input": "2021-04-30T19:16:17.090906Z",
     "iopub.status.busy": "2021-04-30T19:16:17.090714Z",
     "iopub.status.idle": "2021-04-30T19:16:17.113567Z",
     "shell.execute_reply": "2021-04-30T19:16:17.112613Z",
     "shell.execute_reply.started": "2021-04-30T19:16:17.090881Z"
    }
   },
   "outputs": [
    {
     "data": {
      "image/png": "[encoded data removed]",
      "text/plain": [
       "<IPython.core.display.Image object>"
      ]
     },
     "execution_count": 47,
     "metadata": {},
     "output_type": "execute_result"
    }
   ],
   "source": [
    "Image(homepath + 'reports/figures/mind_map.png')"
   ]
  },
  {
   "cell_type": "markdown",
   "id": "9641767f-939c-4b11-a393-f5e0dcd328a7",
   "metadata": {
    "heading_collapsed": "true",
    "tags": []
   },
   "source": [
    "### 4. Save State"
   ]
  },
  {
   "cell_type": "code",
   "execution_count": 48,
   "id": "0ec5bfe5-6d46-4198-ab1f-1276ee2b12dc",
   "metadata": {
    "execution": {
     "iopub.execute_input": "2021-04-30T19:16:17.114938Z",
     "iopub.status.busy": "2021-04-30T19:16:17.114634Z",
     "iopub.status.idle": "2021-04-30T19:16:17.544789Z",
     "shell.execute_reply": "2021-04-30T19:16:17.544169Z",
     "shell.execute_reply.started": "2021-04-30T19:16:17.114897Z"
    }
   },
   "outputs": [],
   "source": [
    "pickle.dump(df4, open(homepath + 'data/processed/df4.pkl', 'wb'))"
   ]
  },
  {
   "cell_type": "markdown",
   "id": "726dd061-368f-4665-aeeb-260f298055f8",
   "metadata": {
    "heading_collapsed": "true",
    "tags": []
   },
   "source": [
    "## 5.0 DATA PREPARATION"
   ]
  },
  {
   "cell_type": "markdown",
   "id": "94d3f9dd-395f-4401-9bcd-f846f537f885",
   "metadata": {
    "tags": []
   },
   "source": [
    "### 5.1 Dataset Checkpoint\n"
   ]
  },
  {
   "cell_type": "code",
   "execution_count": 49,
   "id": "7b1e8394-fd72-44c2-8b4d-04eb81064c8c",
   "metadata": {
    "execution": {
     "iopub.execute_input": "2021-04-30T19:16:17.545680Z",
     "iopub.status.busy": "2021-04-30T19:16:17.545524Z",
     "iopub.status.idle": "2021-04-30T19:16:17.633275Z",
     "shell.execute_reply": "2021-04-30T19:16:17.632540Z",
     "shell.execute_reply.started": "2021-04-30T19:16:17.545660Z"
    },
    "tags": []
   },
   "outputs": [],
   "source": [
    "df5 = pickle.load(open(homepath + 'data/processed/df4.pkl', 'rb'))"
   ]
  },
  {
   "cell_type": "markdown",
   "id": "a28fdc65-6c27-47be-8974-af7dbbf6313d",
   "metadata": {
    "tags": []
   },
   "source": [
    "### 5.2 RFM"
   ]
  },
  {
   "cell_type": "code",
   "execution_count": 50,
   "id": "097b7984-f982-42b0-b2fb-5be95116746f",
   "metadata": {
    "execution": {
     "iopub.execute_input": "2021-04-30T19:16:17.634349Z",
     "iopub.status.busy": "2021-04-30T19:16:17.634153Z",
     "iopub.status.idle": "2021-04-30T19:16:22.627778Z",
     "shell.execute_reply": "2021-04-30T19:16:22.627193Z",
     "shell.execute_reply.started": "2021-04-30T19:16:17.634324Z"
    },
    "tags": []
   },
   "outputs": [
    {
     "data": {
      "image/png": "[encoded data removed]",
      "text/plain": [
       "<Figure size 1800x864 with 3 Axes>"
      ]
     },
     "metadata": {},
     "output_type": "display_data"
    }
   ],
   "source": [
    "# creating subplots\n",
    "fig, (ax1, ax2, ax3) = plt.subplots(3, 1)\n",
    "fig.suptitle('RFM', fontsize=16)\n",
    "\n",
    "ax = sns.distplot(df5['recency'], ax = ax1)\n",
    "ax = sns.distplot(df5['frequency'], ax = ax2)\n",
    "ax = sns.distplot(df5['monetary'], ax = ax3)\n",
    "\n",
    "# saving figure\n",
    "plt.savefig(homepath + 'reports/figures/rfm.png')"
   ]
  },
  {
   "cell_type": "code",
   "execution_count": 51,
   "id": "d88cc0a2-65f9-4837-ac4d-023aedc7c543",
   "metadata": {
    "execution": {
     "iopub.execute_input": "2021-04-30T19:16:22.628695Z",
     "iopub.status.busy": "2021-04-30T19:16:22.628528Z",
     "iopub.status.idle": "2021-04-30T19:16:22.652885Z",
     "shell.execute_reply": "2021-04-30T19:16:22.651561Z",
     "shell.execute_reply.started": "2021-04-30T19:16:22.628673Z"
    },
    "tags": []
   },
   "outputs": [
    {
     "data": {
      "text/html": [
       "<div>\n",
       "<style scoped>\n",
       "    .dataframe tbody tr th:only-of-type {\n",
       "        vertical-align: middle;\n",
       "    }\n",
       "\n",
       "    .dataframe tbody tr th {\n",
       "        vertical-align: top;\n",
       "    }\n",
       "\n",
       "    .dataframe thead th {\n",
       "        text-align: right;\n",
       "    }\n",
       "</style>\n",
       "<table border=\"1\" class=\"dataframe\">\n",
       "  <thead>\n",
       "    <tr style=\"text-align: right;\">\n",
       "      <th></th>\n",
       "      <th>customer_id</th>\n",
       "      <th>monetary</th>\n",
       "      <th>recency</th>\n",
       "      <th>frequency</th>\n",
       "    </tr>\n",
       "  </thead>\n",
       "  <tbody>\n",
       "    <tr>\n",
       "      <th>15131</th>\n",
       "      <td>14107.000</td>\n",
       "      <td>2703.230</td>\n",
       "      <td>51</td>\n",
       "      <td>123</td>\n",
       "    </tr>\n",
       "    <tr>\n",
       "      <th>125388</th>\n",
       "      <td>14056.000</td>\n",
       "      <td>8152.710</td>\n",
       "      <td>1</td>\n",
       "      <td>1088</td>\n",
       "    </tr>\n",
       "    <tr>\n",
       "      <th>208969</th>\n",
       "      <td>15376.000</td>\n",
       "      <td>1221.560</td>\n",
       "      <td>40</td>\n",
       "      <td>116</td>\n",
       "    </tr>\n",
       "  </tbody>\n",
       "</table>\n",
       "</div>"
      ],
      "text/plain": [
       "        customer_id  monetary  recency  frequency\n",
       "15131     14107.000  2703.230       51        123\n",
       "125388    14056.000  8152.710        1       1088\n",
       "208969    15376.000  1221.560       40        116"
      ]
     },
     "execution_count": 51,
     "metadata": {},
     "output_type": "execute_result"
    }
   ],
   "source": [
    "df5_transf = df5[['customer_id', 'monetary', 'recency', 'frequency']]\n",
    "df5_transf.sample(3)"
   ]
  },
  {
   "cell_type": "markdown",
   "id": "2626909a-99f1-4675-9b94-6f7fda268a44",
   "metadata": {
    "tags": []
   },
   "source": [
    "### 5.3 Save State"
   ]
  },
  {
   "cell_type": "code",
   "execution_count": 52,
   "id": "2ff265d3-ad98-46e9-9a65-b67bac0a3fde",
   "metadata": {
    "execution": {
     "iopub.execute_input": "2021-04-30T19:16:22.654659Z",
     "iopub.status.busy": "2021-04-30T19:16:22.654275Z",
     "iopub.status.idle": "2021-04-30T19:16:22.760817Z",
     "shell.execute_reply": "2021-04-30T19:16:22.759770Z",
     "shell.execute_reply.started": "2021-04-30T19:16:22.654610Z"
    },
    "tags": []
   },
   "outputs": [],
   "source": [
    "pickle.dump(df5_transf, open(homepath + 'data/processed/df5.pkl', 'wb'))"
   ]
  },
  {
   "cell_type": "markdown",
   "id": "1e58dc3e-6b88-44f2-81f4-37659a5501f1",
   "metadata": {
    "heading_collapsed": "true",
    "tags": []
   },
   "source": [
    "## 6.0 FEATURE SELECTION"
   ]
  },
  {
   "cell_type": "markdown",
   "id": "1c5a92d0-fca3-4078-bc52-18b5b5f04d31",
   "metadata": {
    "tags": []
   },
   "source": [
    "### 6.1 Dataset Checkpoint\n"
   ]
  },
  {
   "cell_type": "code",
   "execution_count": 53,
   "id": "73bae981-cf44-4f4d-a30a-933cdf3f4392",
   "metadata": {
    "execution": {
     "iopub.execute_input": "2021-04-30T19:16:22.762035Z",
     "iopub.status.busy": "2021-04-30T19:16:22.761792Z",
     "iopub.status.idle": "2021-04-30T19:16:22.770742Z",
     "shell.execute_reply": "2021-04-30T19:16:22.769519Z",
     "shell.execute_reply.started": "2021-04-30T19:16:22.762005Z"
    },
    "tags": []
   },
   "outputs": [],
   "source": [
    "df6 = pickle.load(open(homepath + 'data/processed/df5.pkl', 'rb'))"
   ]
  },
  {
   "cell_type": "markdown",
   "id": "879f6476-12b8-4913-917f-189ca3219932",
   "metadata": {
    "tags": []
   },
   "source": [
    "## 7.0 HYPERPARAMETER FINE TUNING"
   ]
  },
  {
   "cell_type": "code",
   "execution_count": 54,
   "id": "e2ff6b08-4b16-4e1f-8b07-eb0aed247c89",
   "metadata": {
    "execution": {
     "iopub.execute_input": "2021-04-30T19:16:22.772960Z",
     "iopub.status.busy": "2021-04-30T19:16:22.772488Z",
     "iopub.status.idle": "2021-04-30T19:16:22.796462Z",
     "shell.execute_reply": "2021-04-30T19:16:22.795660Z",
     "shell.execute_reply.started": "2021-04-30T19:16:22.772901Z"
    },
    "tags": []
   },
   "outputs": [],
   "source": [
    "X = df6.drop(columns=['customer_id'])"
   ]
  },
  {
   "cell_type": "code",
   "execution_count": 55,
   "id": "ca7306ff-43fd-4386-9e32-cf416e92494a",
   "metadata": {
    "execution": {
     "iopub.execute_input": "2021-04-30T19:16:22.797659Z",
     "iopub.status.busy": "2021-04-30T19:16:22.797419Z",
     "iopub.status.idle": "2021-04-30T19:16:22.810490Z",
     "shell.execute_reply": "2021-04-30T19:16:22.809388Z",
     "shell.execute_reply.started": "2021-04-30T19:16:22.797631Z"
    },
    "tags": []
   },
   "outputs": [
    {
     "data": {
      "text/html": [
       "<div>\n",
       "<style scoped>\n",
       "    .dataframe tbody tr th:only-of-type {\n",
       "        vertical-align: middle;\n",
       "    }\n",
       "\n",
       "    .dataframe tbody tr th {\n",
       "        vertical-align: top;\n",
       "    }\n",
       "\n",
       "    .dataframe thead th {\n",
       "        text-align: right;\n",
       "    }\n",
       "</style>\n",
       "<table border=\"1\" class=\"dataframe\">\n",
       "  <thead>\n",
       "    <tr style=\"text-align: right;\">\n",
       "      <th></th>\n",
       "      <th>monetary</th>\n",
       "      <th>recency</th>\n",
       "      <th>frequency</th>\n",
       "    </tr>\n",
       "  </thead>\n",
       "  <tbody>\n",
       "    <tr>\n",
       "      <th>0</th>\n",
       "      <td>5391.210</td>\n",
       "      <td>372</td>\n",
       "      <td>297</td>\n",
       "    </tr>\n",
       "    <tr>\n",
       "      <th>1</th>\n",
       "      <td>5391.210</td>\n",
       "      <td>372</td>\n",
       "      <td>297</td>\n",
       "    </tr>\n",
       "    <tr>\n",
       "      <th>2</th>\n",
       "      <td>5391.210</td>\n",
       "      <td>372</td>\n",
       "      <td>297</td>\n",
       "    </tr>\n",
       "    <tr>\n",
       "      <th>3</th>\n",
       "      <td>5391.210</td>\n",
       "      <td>372</td>\n",
       "      <td>297</td>\n",
       "    </tr>\n",
       "    <tr>\n",
       "      <th>4</th>\n",
       "      <td>5391.210</td>\n",
       "      <td>372</td>\n",
       "      <td>297</td>\n",
       "    </tr>\n",
       "  </tbody>\n",
       "</table>\n",
       "</div>"
      ],
      "text/plain": [
       "   monetary  recency  frequency\n",
       "0  5391.210      372        297\n",
       "1  5391.210      372        297\n",
       "2  5391.210      372        297\n",
       "3  5391.210      372        297\n",
       "4  5391.210      372        297"
      ]
     },
     "execution_count": 55,
     "metadata": {},
     "output_type": "execute_result"
    }
   ],
   "source": [
    "X.head()"
   ]
  },
  {
   "cell_type": "code",
   "execution_count": 56,
   "id": "6e35292f-fcbb-45d9-a7ba-e8d8c8b64322",
   "metadata": {
    "execution": {
     "iopub.execute_input": "2021-04-30T19:16:22.812028Z",
     "iopub.status.busy": "2021-04-30T19:16:22.811711Z",
     "iopub.status.idle": "2021-04-30T19:16:22.817112Z",
     "shell.execute_reply": "2021-04-30T19:16:22.815652Z",
     "shell.execute_reply.started": "2021-04-30T19:16:22.811994Z"
    },
    "tags": []
   },
   "outputs": [],
   "source": [
    "clusters = [2, 3, 4]"
   ]
  },
  {
   "cell_type": "code",
   "execution_count": 57,
   "id": "20908a3f-11d3-490a-add2-18aef2adef63",
   "metadata": {
    "execution": {
     "iopub.execute_input": "2021-04-30T19:16:22.819299Z",
     "iopub.status.busy": "2021-04-30T19:16:22.818867Z",
     "iopub.status.idle": "2021-04-30T19:16:30.428036Z",
     "shell.execute_reply": "2021-04-30T19:16:30.427146Z",
     "shell.execute_reply.started": "2021-04-30T19:16:22.819245Z"
    },
    "tags": []
   },
   "outputs": [
    {
     "data": {
      "image/png": "[encoded data removed]",
      "text/plain": [
       "<Figure size 1800x864 with 1 Axes>"
      ]
     },
     "metadata": {},
     "output_type": "display_data"
    }
   ],
   "source": [
    "kmeans = KElbowVisualizer(c.KMeans(), k=clusters, timings=False)\n",
    "kmeans.fit(X)\n",
    "kmeans.show();"
   ]
  },
  {
   "cell_type": "code",
   "execution_count": null,
   "id": "938f280d-4fcf-4ed7-ada8-becd8b83f255",
   "metadata": {
    "execution": {
     "iopub.execute_input": "2021-04-30T19:16:30.429480Z",
     "iopub.status.busy": "2021-04-30T19:16:30.429129Z"
    },
    "tags": []
   },
   "outputs": [],
   "source": [
    "kmeans = KElbowVisualizer(c.KMeans(), k = clusters, metric = 'silhouette', timings = False)\n",
    "kmeans.fit(X)\n",
    "kmeans.show();"
   ]
  },
  {
   "cell_type": "markdown",
   "id": "6cad5c7a-fe5d-4ed1-bc2d-6133eadba1ae",
   "metadata": {
    "tags": []
   },
   "source": [
    "## 8.0 MACHINE LEARNING MODELS"
   ]
  },
  {
   "cell_type": "code",
   "execution_count": null,
   "id": "c1c1c270-1645-4631-b463-3a4b862345ed",
   "metadata": {
    "tags": []
   },
   "outputs": [],
   "source": [
    "# model definition\n",
    "k = 5\n",
    "kmeans = c.KMeans(init='random', n_clusters=k, n_init= 10, max_iter=300)\n",
    "\n",
    "# model training\n",
    "kmeans.fit(X)\n",
    "\n",
    "# clustering\n",
    "labels = kmeans.labels_"
   ]
  },
  {
   "cell_type": "code",
   "execution_count": null,
   "id": "f9bede41-73da-420f-867c-70ca2b2cde80",
   "metadata": {
    "tags": []
   },
   "outputs": [],
   "source": [
    "# WSS ( Within-cluster sum of square)\n",
    "#print(f'WSS value: {kmeans.inertia}')\n",
    "\n",
    "## SS ( Silhouette Score )\n",
    "#print(f'SS value: {m.silhouette_score(X, labels, metric='euclidean')}')"
   ]
  },
  {
   "cell_type": "markdown",
   "id": "c1fb7850-5860-4f67-9dfd-f5ca0b27fe29",
   "metadata": {
    "tags": []
   },
   "source": [
    "## 9.0 CLUSTER ANALYSIS"
   ]
  },
  {
   "cell_type": "code",
   "execution_count": null,
   "id": "be3fb0e5-89a8-40ab-b3be-9b251ecee0bb",
   "metadata": {
    "tags": []
   },
   "outputs": [],
   "source": [
    "df9 = df6.copy()\n",
    "df9['cluster'] = labels\n",
    "df9.head()"
   ]
  },
  {
   "cell_type": "code",
   "execution_count": null,
   "id": "0034d82e-878d-40d3-8a1e-4fb9e404ee89",
   "metadata": {
    "tags": []
   },
   "outputs": [],
   "source": [
    "fig = px.scatter_3d( df9, x='recency', y='frequency', z='monetary', color='cluster' )\n",
    "fig.show()"
   ]
  },
  {
   "cell_type": "code",
   "execution_count": null,
   "id": "beed7d26-d74f-4d6a-8111-9a1e61fe5b3c",
   "metadata": {},
   "outputs": [],
   "source": []
  },
  {
   "cell_type": "code",
   "execution_count": null,
   "id": "9b4718c5-dbba-4a84-afdf-46a285a2ca4c",
   "metadata": {},
   "outputs": [],
   "source": []
  },
  {
   "cell_type": "code",
   "execution_count": null,
   "id": "c0a542ec-ed8e-4b41-b651-d10b3da8b584",
   "metadata": {},
   "outputs": [],
   "source": []
  },
  {
   "cell_type": "code",
   "execution_count": null,
   "id": "a9f4b982-87de-428d-a115-11dfa32228f7",
   "metadata": {},
   "outputs": [],
   "source": []
  },
  {
   "cell_type": "markdown",
   "id": "82a69c4a-d1b7-485e-8731-5f3a400f22b6",
   "metadata": {
    "tags": []
   },
   "source": [
    "## 10.0 DEPLOY"
   ]
  },
  {
   "cell_type": "code",
   "execution_count": null,
   "id": "27e0ecc8-8ea0-4906-bd55-671d71b98a3b",
   "metadata": {},
   "outputs": [],
   "source": []
  },
  {
   "cell_type": "code",
   "execution_count": null,
   "id": "e5922d32-1394-44be-b1ed-6b720e35f29f",
   "metadata": {},
   "outputs": [],
   "source": []
  },
  {
   "cell_type": "code",
   "execution_count": null,
   "id": "5911a5cd-35ac-4f2a-aefd-4020490b9620",
   "metadata": {},
   "outputs": [],
   "source": []
  },
  {
   "cell_type": "code",
   "execution_count": null,
   "id": "9de0736c-8e0a-42fb-80f2-d4608a3d4186",
   "metadata": {},
   "outputs": [],
   "source": []
  },
  {
   "cell_type": "code",
   "execution_count": null,
   "id": "30ff834c-61b7-4510-82b0-e165c3959b00",
   "metadata": {},
   "outputs": [],
   "source": []
  },
  {
   "cell_type": "code",
   "execution_count": null,
   "id": "5a2e7802-7c08-42a4-af65-ce439ee334b1",
   "metadata": {},
   "outputs": [],
   "source": []
  }
 ],
 "metadata": {
  "kernelspec": {
   "display_name": "Python 3",
   "language": "python",
   "name": "python3"
  },
  "language_info": {
   "codemirror_mode": {
    "name": "ipython",
    "version": 3
   },
   "file_extension": ".py",
   "mimetype": "text/x-python",
   "name": "python",
   "nbconvert_exporter": "python",
   "pygments_lexer": "ipython3",
   "version": "3.9.2"
  }
 },
 "nbformat": 4,
 "nbformat_minor": 5
}
