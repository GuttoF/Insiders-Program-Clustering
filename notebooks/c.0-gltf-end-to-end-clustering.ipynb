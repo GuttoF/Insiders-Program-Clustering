{
 "cells": [
  {
   "cell_type": "markdown",
   "id": "aad06d58",
   "metadata": {
    "tags": []
   },
   "source": [
    "# All In One Place\n",
    "---\n",
    "    All In One Place Co. is a multi-brand company that seeks to sell various products at a competitive price and quality assurance. Recently, the marketing team discovered in database that some customers were buying more expensive products frequently. \n",
    "    Knowing this, the All In One Place team create a plan to develop a loyalty program for customers, the idea of the Insiders was created. Even with that information, the team isn't sure which customers will be assigned to the program, so the data team was called to cooperate. \n",
    "    It is up to the data team to answer the following questions: \n",
    "   - Who are the elegible people to participate in the “Insiders Program”?\n",
    "   - How many clients will be part of the group?\n",
    "   - Which are the main caracteristics for the group?\n",
    "   - Which is the revenues percentage that comes from the group?\n",
    "   - What is the expected revenue from this group for the next months?\n",
    "   - Which are the guarantees that the “Insiders Program” is better than the rest of the base?"
   ]
  },
  {
   "cell_type": "markdown",
   "id": "614c7ae2-88ef-4b93-907e-879b2320c8fe",
   "metadata": {
    "tags": []
   },
   "source": [
    "## PLANNING"
   ]
  },
  {
   "cell_type": "markdown",
   "id": "c778bd50-a6f3-44d2-9a8d-5eb32d32e3ab",
   "metadata": {},
   "source": [
    "1. Identify elegible costumers for Insiders?\n",
    "    - How can a costumer become eligible? What is a High-Value costumer?\n",
    "        - **Revenue**:\n",
    "            - High ticket\n",
    "            - High LT revenue\n",
    "            - Low recency\n",
    "            - High bascket size\n",
    "            - Low churn probability\n",
    "            - High revenue forecast\n",
    "            - High probabilty of pruchase\n",
    "\n",
    "        - **Cost**:\n",
    "            - Low return rate\n",
    "\n",
    "        - **Costumer experience**:\n",
    "            - High rating\n",
    "    \n",
    "2. How many costumers will be included into Insiders?\n",
    "    - Total customers\n",
    "    - Rate (%) of members to include in Insiders\n",
    "        \n",
    "3. Which are the main characteristics of those costumers?\n",
    "    - Describe the customers attributes:\n",
    "        - Age\n",
    "        - Localization\n",
    "     \n",
    "    - Consumption behavior:\n",
    "        - Same attributes for clustering\n",
    "        \n",
    "4. Which is the revenue of Insiders?\n",
    "    - Total revenue\n",
    "    - Revenue of Insiders members\n",
    "\n",
    "5. Which is the revenue forecast for next months of Insiders?\n",
    "    - LT revenue of Insiders members\n",
    "    - Cohort analysis\n",
    "\n",
    "6. What are the conditions to be included in Insiders?\n",
    "    - Define the period of evualation (1 month, 3 months,...)\n",
    "    - New members must have similar attributes of current members\n",
    "\n",
    "7. What are the conditions to be removed in Insiders?\n",
    "    - Define the period of evualation (1 month, 3 months,...)\n",
    "    - Members to be removed must have different attributes of group\n",
    "\n",
    "8. How can we garantee the Insiders program is better than others costumers?\n",
    "    - A/B Test\n",
    "    - A/B Bayesian\n",
    "    - Hypothesis test\n",
    "\n",
    "9. How can Marketing Dept. increase the revenue?\n",
    "    - Discount\n",
    "    - Purchase preference\n",
    "    - Free freight\n",
    "    - Company tour"
   ]
  },
  {
   "cell_type": "markdown",
   "id": "8ff0fb58",
   "metadata": {
    "tags": []
   },
   "source": [
    "## IMPORTS"
   ]
  },
  {
   "cell_type": "code",
   "execution_count": 1,
   "id": "04dac29d",
   "metadata": {
    "execution": {
     "iopub.execute_input": "2021-04-20T17:01:08.612390Z",
     "iopub.status.busy": "2021-04-20T17:01:08.612151Z",
     "iopub.status.idle": "2021-04-20T17:01:09.598117Z",
     "shell.execute_reply": "2021-04-20T17:01:09.597389Z",
     "shell.execute_reply.started": "2021-04-20T17:01:08.612327Z"
    },
    "tags": []
   },
   "outputs": [],
   "source": [
    "# loading packages\n",
    "from IPython.core.display import HTML\n",
    "from IPython.core.display import Image\n",
    "import inflection\n",
    "import warnings\n",
    "import pickle\n",
    "\n",
    "# data manipulation\n",
    "import numpy as np\n",
    "import pandas as pd\n",
    "from datetime import timedelta\n",
    "\n",
    "# data visualization\n",
    "import matplotlib.pyplot as plt\n",
    "import seaborn as sns\n",
    "import matplotlib.ticker as ticker\n",
    "import squarify"
   ]
  },
  {
   "cell_type": "markdown",
   "id": "213452c2",
   "metadata": {
    "tags": []
   },
   "source": [
    "## HELPER FUNCTIONS"
   ]
  },
  {
   "cell_type": "markdown",
   "id": "3eaa8806",
   "metadata": {
    "tags": []
   },
   "source": [
    "### Organization"
   ]
  },
  {
   "cell_type": "code",
   "execution_count": 2,
   "id": "1baf3ffd",
   "metadata": {
    "execution": {
     "iopub.execute_input": "2021-04-20T17:01:09.599431Z",
     "iopub.status.busy": "2021-04-20T17:01:09.599236Z",
     "iopub.status.idle": "2021-04-20T17:01:09.604028Z",
     "shell.execute_reply": "2021-04-20T17:01:09.603241Z",
     "shell.execute_reply.started": "2021-04-20T17:01:09.599405Z"
    },
    "tags": []
   },
   "outputs": [],
   "source": [
    "# snakecase\n",
    "def snakecase(cols):\n",
    "    change_snakecase = lambda x: inflection.underscore(x)\n",
    "    return list(map(change_snakecase, cols))\n",
    "\n",
    "\n",
    "def change_df(data):\n",
    "    return pd.DataFrame(data)\n",
    "\n",
    "\n",
    "# ignoring errors\n",
    "warnings.filterwarnings('ignore')\n",
    "\n",
    "# round\n",
    "pd.options.display.float_format = '{:.3f}'.format"
   ]
  },
  {
   "cell_type": "markdown",
   "id": "f296ccf0",
   "metadata": {
    "tags": []
   },
   "source": [
    "### Graphic"
   ]
  },
  {
   "cell_type": "code",
   "execution_count": 3,
   "id": "893f5192",
   "metadata": {
    "execution": {
     "iopub.execute_input": "2021-04-20T17:01:09.605248Z",
     "iopub.status.busy": "2021-04-20T17:01:09.604991Z",
     "iopub.status.idle": "2021-04-20T17:01:09.626683Z",
     "shell.execute_reply": "2021-04-20T17:01:09.625614Z",
     "shell.execute_reply.started": "2021-04-20T17:01:09.605219Z"
    },
    "tags": []
   },
   "outputs": [
    {
     "name": "stdout",
     "output_type": "stream",
     "text": [
      "Populating the interactive namespace from numpy and matplotlib\n"
     ]
    },
    {
     "data": {
      "text/html": [
       "<style>.container { width:100% !important; }</style>"
      ],
      "text/plain": [
       "<IPython.core.display.HTML object>"
      ]
     },
     "metadata": {},
     "output_type": "display_data"
    }
   ],
   "source": [
    "def jupyter_settings():\n",
    "    %matplotlib inline\n",
    "    %pylab inline\n",
    "    plt.style.use( 'seaborn-pastel' )\n",
    "    plt.rcParams['figure.figsize'] = [25, 12]\n",
    "    plt.rcParams['font.size'] = 24\n",
    "    display( HTML( '<style>.container { width:100% !important; }</style>') )\n",
    "    pd.options.display.max_columns = None\n",
    "    pd.options.display.max_rows = None\n",
    "    pd.set_option( 'display.expand_frame_repr', False )\n",
    "    sns.set()\n",
    "    \n",
    "jupyter_settings()"
   ]
  },
  {
   "cell_type": "markdown",
   "id": "4dfa39c7",
   "metadata": {
    "tags": []
   },
   "source": [
    "### Metric"
   ]
  },
  {
   "cell_type": "code",
   "execution_count": 4,
   "id": "12bcae2d",
   "metadata": {
    "execution": {
     "iopub.execute_input": "2021-04-20T17:01:09.628196Z",
     "iopub.status.busy": "2021-04-20T17:01:09.627910Z",
     "iopub.status.idle": "2021-04-20T17:01:09.639019Z",
     "shell.execute_reply": "2021-04-20T17:01:09.637732Z",
     "shell.execute_reply.started": "2021-04-20T17:01:09.628161Z"
    },
    "tags": []
   },
   "outputs": [],
   "source": [
    "def numerical_metrics(numerical_attributes):\n",
    "    data_mean = pd.DataFrame(numerical_attributes.apply(np.mean)).T\n",
    "    data_median = pd.DataFrame(numerical_attributes.apply(np.median)).T\n",
    "    data_std = pd.DataFrame(numerical_attributes.apply(np.std)).T\n",
    "    data_min = pd.DataFrame(numerical_attributes.apply(min)).T\n",
    "    data_max = pd.DataFrame(numerical_attributes.apply(max)).T\n",
    "    data_range = pd.DataFrame(numerical_attributes.apply(lambda x: x.max() - x.min())).T\n",
    "    data_q1 = pd.DataFrame(numerical_attributes.apply(lambda x: np.quantile(x, .25) )).T\n",
    "    data_q3 = pd.DataFrame(numerical_attributes.apply(lambda x: np.quantile(x, .75) )).T\n",
    "    data_skew = pd.DataFrame(numerical_attributes.apply(lambda x: x.skew())).T\n",
    "    data_kurtosis = pd.DataFrame(numerical_attributes.apply(lambda x: x.kurtosis())).T\n",
    "\n",
    "    num_attributes = pd.concat([data_min,data_max,data_range,data_mean,data_median, data_q1, data_q3,data_std,data_skew,data_kurtosis]).T.reset_index()\n",
    "    num_attributes.columns=['Attributes','Min','Max','Range','Mean','Median','Q1','Q3', 'St deviation','Skewness','Kurtosis']\n",
    "\n",
    "    return num_attributes"
   ]
  },
  {
   "cell_type": "markdown",
   "id": "80956cc7",
   "metadata": {
    "tags": []
   },
   "source": [
    "## DATA"
   ]
  },
  {
   "cell_type": "markdown",
   "id": "8b191b0e",
   "metadata": {},
   "source": [
    "This dataset is avaliable in: https://www.kaggle.com/vik2012kvs/high-value-customers-identification\n",
    "\n",
    "- **Data fields**\n",
    "    - Invoice Number: Unique value from every transaction\n",
    "    - Stock Code Product: Product code\n",
    "    - Description: Product name\n",
    "    - Quantity: The quantities of each product per transaction\n",
    "    - Invoice Date: The day when the transaction was generated\n",
    "    - Unit Price: Product price per unit\n",
    "    - Customer ID: Unique ID to each customer\n",
    "    - Country: Country name\n",
    "    "
   ]
  },
  {
   "cell_type": "code",
   "execution_count": 5,
   "id": "1b300fcc",
   "metadata": {
    "execution": {
     "iopub.execute_input": "2021-04-20T17:01:09.640672Z",
     "iopub.status.busy": "2021-04-20T17:01:09.640356Z",
     "iopub.status.idle": "2021-04-20T17:01:09.650955Z",
     "shell.execute_reply": "2021-04-20T17:01:09.649960Z",
     "shell.execute_reply.started": "2021-04-20T17:01:09.640638Z"
    },
    "tags": []
   },
   "outputs": [],
   "source": [
    "homepath = '/home/gutto/projects/pa005_insiders_clustering/insiders_clustering/' "
   ]
  },
  {
   "cell_type": "code",
   "execution_count": 6,
   "id": "440ba73f",
   "metadata": {
    "execution": {
     "iopub.execute_input": "2021-04-20T17:01:09.652296Z",
     "iopub.status.busy": "2021-04-20T17:01:09.652020Z",
     "iopub.status.idle": "2021-04-20T17:01:10.411082Z",
     "shell.execute_reply": "2021-04-20T17:01:10.410349Z",
     "shell.execute_reply.started": "2021-04-20T17:01:09.652263Z"
    },
    "tags": []
   },
   "outputs": [],
   "source": [
    "df_raw = pd.read_csv(homepath + 'data/raw/Ecommerce.csv', low_memory = False)"
   ]
  },
  {
   "cell_type": "code",
   "execution_count": 7,
   "id": "173e10a5",
   "metadata": {
    "execution": {
     "iopub.execute_input": "2021-04-20T17:01:10.414721Z",
     "iopub.status.busy": "2021-04-20T17:01:10.414460Z",
     "iopub.status.idle": "2021-04-20T17:01:10.631244Z",
     "shell.execute_reply": "2021-04-20T17:01:10.629637Z",
     "shell.execute_reply.started": "2021-04-20T17:01:10.414690Z"
    },
    "tags": []
   },
   "outputs": [],
   "source": [
    "pickle.dump(df_raw, open(homepath + 'data/processed/df_raw.pkl', 'wb'))"
   ]
  },
  {
   "cell_type": "markdown",
   "id": "88ead9a6",
   "metadata": {
    "heading_collapsed": "true",
    "tags": []
   },
   "source": [
    "## 1.0 DATA DESCRIPTION"
   ]
  },
  {
   "cell_type": "markdown",
   "id": "f1221110",
   "metadata": {
    "execution": {
     "iopub.execute_input": "2021-04-06T21:06:45.580032Z",
     "iopub.status.busy": "2021-04-06T21:06:45.579775Z",
     "iopub.status.idle": "2021-04-06T21:06:46.196433Z",
     "shell.execute_reply": "2021-04-06T21:06:46.195650Z",
     "shell.execute_reply.started": "2021-04-06T21:06:45.580003Z"
    },
    "tags": []
   },
   "source": [
    "- **Tasks**\n",
    "    - Dataset Checkpoint\n",
    "    - Check Data\n",
    "    - Rename Columns\n",
    "    - Data Dimensions\n",
    "    - Data Types\n",
    "    - Descriptive Statistical"
   ]
  },
  {
   "cell_type": "markdown",
   "id": "3cbabbdc",
   "metadata": {
    "heading_collapsed": "true",
    "tags": []
   },
   "source": [
    "### 1.1 Dataset Checkpoint"
   ]
  },
  {
   "cell_type": "code",
   "execution_count": 8,
   "id": "8a08dc38",
   "metadata": {
    "execution": {
     "iopub.execute_input": "2021-04-20T17:01:10.633162Z",
     "iopub.status.busy": "2021-04-20T17:01:10.632829Z",
     "iopub.status.idle": "2021-04-20T17:01:10.745030Z",
     "shell.execute_reply": "2021-04-20T17:01:10.744327Z",
     "shell.execute_reply.started": "2021-04-20T17:01:10.633120Z"
    },
    "tags": []
   },
   "outputs": [],
   "source": [
    "df1 = pickle.load(open(homepath + 'data/processed/df_raw.pkl', 'rb'))"
   ]
  },
  {
   "cell_type": "code",
   "execution_count": 9,
   "id": "98d7b59f",
   "metadata": {
    "execution": {
     "iopub.execute_input": "2021-04-20T17:01:10.746185Z",
     "iopub.status.busy": "2021-04-20T17:01:10.745970Z",
     "iopub.status.idle": "2021-04-20T17:01:10.771968Z",
     "shell.execute_reply": "2021-04-20T17:01:10.771155Z",
     "shell.execute_reply.started": "2021-04-20T17:01:10.746157Z"
    },
    "tags": []
   },
   "outputs": [
    {
     "data": {
      "text/html": [
       "<div>\n",
       "<style scoped>\n",
       "    .dataframe tbody tr th:only-of-type {\n",
       "        vertical-align: middle;\n",
       "    }\n",
       "\n",
       "    .dataframe tbody tr th {\n",
       "        vertical-align: top;\n",
       "    }\n",
       "\n",
       "    .dataframe thead th {\n",
       "        text-align: right;\n",
       "    }\n",
       "</style>\n",
       "<table border=\"1\" class=\"dataframe\">\n",
       "  <thead>\n",
       "    <tr style=\"text-align: right;\">\n",
       "      <th></th>\n",
       "      <th>0</th>\n",
       "      <th>1</th>\n",
       "      <th>2</th>\n",
       "      <th>3</th>\n",
       "      <th>4</th>\n",
       "      <th>5</th>\n",
       "      <th>6</th>\n",
       "      <th>7</th>\n",
       "      <th>8</th>\n",
       "      <th>9</th>\n",
       "    </tr>\n",
       "  </thead>\n",
       "  <tbody>\n",
       "    <tr>\n",
       "      <th>InvoiceNo</th>\n",
       "      <td>536365</td>\n",
       "      <td>536365</td>\n",
       "      <td>536365</td>\n",
       "      <td>536365</td>\n",
       "      <td>536365</td>\n",
       "      <td>536365</td>\n",
       "      <td>536365</td>\n",
       "      <td>536366</td>\n",
       "      <td>536366</td>\n",
       "      <td>536367</td>\n",
       "    </tr>\n",
       "    <tr>\n",
       "      <th>StockCode</th>\n",
       "      <td>85123A</td>\n",
       "      <td>71053</td>\n",
       "      <td>84406B</td>\n",
       "      <td>84029G</td>\n",
       "      <td>84029E</td>\n",
       "      <td>22752</td>\n",
       "      <td>21730</td>\n",
       "      <td>22633</td>\n",
       "      <td>22632</td>\n",
       "      <td>84879</td>\n",
       "    </tr>\n",
       "    <tr>\n",
       "      <th>Description</th>\n",
       "      <td>WHITE HANGING HEART T-LIGHT HOLDER</td>\n",
       "      <td>WHITE METAL LANTERN</td>\n",
       "      <td>CREAM CUPID HEARTS COAT HANGER</td>\n",
       "      <td>KNITTED UNION FLAG HOT WATER BOTTLE</td>\n",
       "      <td>RED WOOLLY HOTTIE WHITE HEART.</td>\n",
       "      <td>SET 7 BABUSHKA NESTING BOXES</td>\n",
       "      <td>GLASS STAR FROSTED T-LIGHT HOLDER</td>\n",
       "      <td>HAND WARMER UNION JACK</td>\n",
       "      <td>HAND WARMER RED POLKA DOT</td>\n",
       "      <td>ASSORTED COLOUR BIRD ORNAMENT</td>\n",
       "    </tr>\n",
       "    <tr>\n",
       "      <th>Quantity</th>\n",
       "      <td>6</td>\n",
       "      <td>6</td>\n",
       "      <td>8</td>\n",
       "      <td>6</td>\n",
       "      <td>6</td>\n",
       "      <td>2</td>\n",
       "      <td>6</td>\n",
       "      <td>6</td>\n",
       "      <td>6</td>\n",
       "      <td>32</td>\n",
       "    </tr>\n",
       "    <tr>\n",
       "      <th>InvoiceDate</th>\n",
       "      <td>29-Nov-16</td>\n",
       "      <td>29-Nov-16</td>\n",
       "      <td>29-Nov-16</td>\n",
       "      <td>29-Nov-16</td>\n",
       "      <td>29-Nov-16</td>\n",
       "      <td>29-Nov-16</td>\n",
       "      <td>29-Nov-16</td>\n",
       "      <td>29-Nov-16</td>\n",
       "      <td>29-Nov-16</td>\n",
       "      <td>29-Nov-16</td>\n",
       "    </tr>\n",
       "    <tr>\n",
       "      <th>UnitPrice</th>\n",
       "      <td>2.55</td>\n",
       "      <td>3.39</td>\n",
       "      <td>2.75</td>\n",
       "      <td>3.39</td>\n",
       "      <td>3.39</td>\n",
       "      <td>7.65</td>\n",
       "      <td>4.25</td>\n",
       "      <td>1.85</td>\n",
       "      <td>1.85</td>\n",
       "      <td>1.69</td>\n",
       "    </tr>\n",
       "    <tr>\n",
       "      <th>CustomerID</th>\n",
       "      <td>17850.0</td>\n",
       "      <td>17850.0</td>\n",
       "      <td>17850.0</td>\n",
       "      <td>17850.0</td>\n",
       "      <td>17850.0</td>\n",
       "      <td>17850.0</td>\n",
       "      <td>17850.0</td>\n",
       "      <td>17850.0</td>\n",
       "      <td>17850.0</td>\n",
       "      <td>13047.0</td>\n",
       "    </tr>\n",
       "    <tr>\n",
       "      <th>Country</th>\n",
       "      <td>United Kingdom</td>\n",
       "      <td>United Kingdom</td>\n",
       "      <td>United Kingdom</td>\n",
       "      <td>United Kingdom</td>\n",
       "      <td>United Kingdom</td>\n",
       "      <td>United Kingdom</td>\n",
       "      <td>United Kingdom</td>\n",
       "      <td>United Kingdom</td>\n",
       "      <td>United Kingdom</td>\n",
       "      <td>United Kingdom</td>\n",
       "    </tr>\n",
       "    <tr>\n",
       "      <th>Unnamed: 8</th>\n",
       "      <td>NaN</td>\n",
       "      <td>NaN</td>\n",
       "      <td>NaN</td>\n",
       "      <td>NaN</td>\n",
       "      <td>NaN</td>\n",
       "      <td>NaN</td>\n",
       "      <td>NaN</td>\n",
       "      <td>NaN</td>\n",
       "      <td>NaN</td>\n",
       "      <td>NaN</td>\n",
       "    </tr>\n",
       "  </tbody>\n",
       "</table>\n",
       "</div>"
      ],
      "text/plain": [
       "                                              0                    1                               2                                    3                               4                             5                                  6                       7                          8                              9\n",
       "InvoiceNo                                536365               536365                          536365                               536365                          536365                        536365                             536365                  536366                     536366                         536367\n",
       "StockCode                                85123A                71053                          84406B                               84029G                          84029E                         22752                              21730                   22633                      22632                          84879\n",
       "Description  WHITE HANGING HEART T-LIGHT HOLDER  WHITE METAL LANTERN  CREAM CUPID HEARTS COAT HANGER  KNITTED UNION FLAG HOT WATER BOTTLE  RED WOOLLY HOTTIE WHITE HEART.  SET 7 BABUSHKA NESTING BOXES  GLASS STAR FROSTED T-LIGHT HOLDER  HAND WARMER UNION JACK  HAND WARMER RED POLKA DOT  ASSORTED COLOUR BIRD ORNAMENT\n",
       "Quantity                                      6                    6                               8                                    6                               6                             2                                  6                       6                          6                             32\n",
       "InvoiceDate                           29-Nov-16            29-Nov-16                       29-Nov-16                            29-Nov-16                       29-Nov-16                     29-Nov-16                          29-Nov-16               29-Nov-16                  29-Nov-16                      29-Nov-16\n",
       "UnitPrice                                  2.55                 3.39                            2.75                                 3.39                            3.39                          7.65                               4.25                    1.85                       1.85                           1.69\n",
       "CustomerID                              17850.0              17850.0                         17850.0                              17850.0                         17850.0                       17850.0                            17850.0                 17850.0                    17850.0                        13047.0\n",
       "Country                          United Kingdom       United Kingdom                  United Kingdom                       United Kingdom                  United Kingdom                United Kingdom                     United Kingdom          United Kingdom             United Kingdom                 United Kingdom\n",
       "Unnamed: 8                                  NaN                  NaN                             NaN                                  NaN                             NaN                           NaN                                NaN                     NaN                        NaN                            NaN"
      ]
     },
     "execution_count": 9,
     "metadata": {},
     "output_type": "execute_result"
    }
   ],
   "source": [
    "df1.head(10).T"
   ]
  },
  {
   "cell_type": "markdown",
   "id": "ac662164",
   "metadata": {
    "execution": {
     "iopub.execute_input": "2021-04-06T21:20:07.073990Z",
     "iopub.status.busy": "2021-04-06T21:20:07.073712Z",
     "iopub.status.idle": "2021-04-06T21:20:07.078645Z",
     "shell.execute_reply": "2021-04-06T21:20:07.077665Z",
     "shell.execute_reply.started": "2021-04-06T21:20:07.073958Z"
    },
    "tags": []
   },
   "source": [
    "### 1.2 Check Data"
   ]
  },
  {
   "cell_type": "code",
   "execution_count": 10,
   "id": "bd98376d",
   "metadata": {
    "execution": {
     "iopub.execute_input": "2021-04-20T17:01:10.773282Z",
     "iopub.status.busy": "2021-04-20T17:01:10.773054Z",
     "iopub.status.idle": "2021-04-20T17:01:10.954044Z",
     "shell.execute_reply": "2021-04-20T17:01:10.953264Z",
     "shell.execute_reply.started": "2021-04-20T17:01:10.773253Z"
    },
    "tags": []
   },
   "outputs": [
    {
     "name": "stdout",
     "output_type": "stream",
     "text": [
      "<class 'pandas.core.frame.DataFrame'>\n",
      "RangeIndex: 541909 entries, 0 to 541908\n",
      "Data columns (total 9 columns):\n",
      " #   Column       Non-Null Count   Dtype  \n",
      "---  ------       --------------   -----  \n",
      " 0   InvoiceNo    541909 non-null  object \n",
      " 1   StockCode    541909 non-null  object \n",
      " 2   Description  540455 non-null  object \n",
      " 3   Quantity     541909 non-null  int64  \n",
      " 4   InvoiceDate  541909 non-null  object \n",
      " 5   UnitPrice    541909 non-null  float64\n",
      " 6   CustomerID   406829 non-null  float64\n",
      " 7   Country      541909 non-null  object \n",
      " 8   Unnamed: 8   0 non-null       float64\n",
      "dtypes: float64(3), int64(1), object(5)\n",
      "memory usage: 37.2+ MB\n"
     ]
    }
   ],
   "source": [
    "df1.info()"
   ]
  },
  {
   "cell_type": "markdown",
   "id": "9081999e",
   "metadata": {},
   "source": [
    "All the lines in the Unnamed: 8 are null, because of this, I will drop this column later on the NA step."
   ]
  },
  {
   "cell_type": "markdown",
   "id": "9432480f",
   "metadata": {
    "tags": []
   },
   "source": [
    "#### 1.2.1 Check NA"
   ]
  },
  {
   "cell_type": "code",
   "execution_count": 11,
   "id": "efe77da7",
   "metadata": {
    "execution": {
     "iopub.execute_input": "2021-04-20T17:01:10.955150Z",
     "iopub.status.busy": "2021-04-20T17:01:10.954930Z",
     "iopub.status.idle": "2021-04-20T17:01:11.277625Z",
     "shell.execute_reply": "2021-04-20T17:01:11.276920Z",
     "shell.execute_reply.started": "2021-04-20T17:01:10.955121Z"
    },
    "tags": []
   },
   "outputs": [
    {
     "data": {
      "text/html": [
       "<div>\n",
       "<style scoped>\n",
       "    .dataframe tbody tr th:only-of-type {\n",
       "        vertical-align: middle;\n",
       "    }\n",
       "\n",
       "    .dataframe tbody tr th {\n",
       "        vertical-align: top;\n",
       "    }\n",
       "\n",
       "    .dataframe thead th {\n",
       "        text-align: right;\n",
       "    }\n",
       "</style>\n",
       "<table border=\"1\" class=\"dataframe\">\n",
       "  <thead>\n",
       "    <tr style=\"text-align: right;\">\n",
       "      <th></th>\n",
       "      <th>Sum of NA</th>\n",
       "      <th>% NA</th>\n",
       "    </tr>\n",
       "  </thead>\n",
       "  <tbody>\n",
       "    <tr>\n",
       "      <th>InvoiceNo</th>\n",
       "      <td>0</td>\n",
       "      <td>0.000</td>\n",
       "    </tr>\n",
       "    <tr>\n",
       "      <th>StockCode</th>\n",
       "      <td>0</td>\n",
       "      <td>0.000</td>\n",
       "    </tr>\n",
       "    <tr>\n",
       "      <th>Description</th>\n",
       "      <td>1454</td>\n",
       "      <td>0.003</td>\n",
       "    </tr>\n",
       "    <tr>\n",
       "      <th>Quantity</th>\n",
       "      <td>0</td>\n",
       "      <td>0.000</td>\n",
       "    </tr>\n",
       "    <tr>\n",
       "      <th>InvoiceDate</th>\n",
       "      <td>0</td>\n",
       "      <td>0.000</td>\n",
       "    </tr>\n",
       "    <tr>\n",
       "      <th>UnitPrice</th>\n",
       "      <td>0</td>\n",
       "      <td>0.000</td>\n",
       "    </tr>\n",
       "    <tr>\n",
       "      <th>CustomerID</th>\n",
       "      <td>135080</td>\n",
       "      <td>0.249</td>\n",
       "    </tr>\n",
       "    <tr>\n",
       "      <th>Country</th>\n",
       "      <td>0</td>\n",
       "      <td>0.000</td>\n",
       "    </tr>\n",
       "    <tr>\n",
       "      <th>Unnamed: 8</th>\n",
       "      <td>541909</td>\n",
       "      <td>1.000</td>\n",
       "    </tr>\n",
       "  </tbody>\n",
       "</table>\n",
       "</div>"
      ],
      "text/plain": [
       "             Sum of NA  % NA\n",
       "InvoiceNo            0 0.000\n",
       "StockCode            0 0.000\n",
       "Description       1454 0.003\n",
       "Quantity             0 0.000\n",
       "InvoiceDate          0 0.000\n",
       "UnitPrice            0 0.000\n",
       "CustomerID      135080 0.249\n",
       "Country              0 0.000\n",
       "Unnamed: 8      541909 1.000"
      ]
     },
     "execution_count": 11,
     "metadata": {},
     "output_type": "execute_result"
    }
   ],
   "source": [
    "change_df({'Sum of NA': df1.isna().sum(), '% NA': df1.isna().sum()/df1.shape[0]})"
   ]
  },
  {
   "cell_type": "markdown",
   "id": "48165d71",
   "metadata": {},
   "source": [
    "The unnamed: 8 is empty in all rows, so I will drop that"
   ]
  },
  {
   "cell_type": "code",
   "execution_count": 12,
   "id": "4891cc71",
   "metadata": {
    "execution": {
     "iopub.execute_input": "2021-04-20T17:01:11.279018Z",
     "iopub.status.busy": "2021-04-20T17:01:11.278701Z",
     "iopub.status.idle": "2021-04-20T17:01:11.311533Z",
     "shell.execute_reply": "2021-04-20T17:01:11.310658Z",
     "shell.execute_reply.started": "2021-04-20T17:01:11.278975Z"
    },
    "tags": []
   },
   "outputs": [],
   "source": [
    "df1.drop(['Unnamed: 8'], axis=1, inplace=True)"
   ]
  },
  {
   "cell_type": "markdown",
   "id": "28f8ba26-53de-4572-8367-c854e52caf07",
   "metadata": {},
   "source": [
    "In this cycle, I'll drop the rows with NA and see the impact."
   ]
  },
  {
   "cell_type": "code",
   "execution_count": 13,
   "id": "ee7dda24-6ca4-43f4-9135-b69dc1c01320",
   "metadata": {
    "execution": {
     "iopub.execute_input": "2021-04-20T17:01:11.312827Z",
     "iopub.status.busy": "2021-04-20T17:01:11.312607Z",
     "iopub.status.idle": "2021-04-20T17:01:11.416498Z",
     "shell.execute_reply": "2021-04-20T17:01:11.415489Z",
     "shell.execute_reply.started": "2021-04-20T17:01:11.312800Z"
    },
    "tags": []
   },
   "outputs": [
    {
     "name": "stdout",
     "output_type": "stream",
     "text": [
      "Removed data: 0.24926694334288602\n"
     ]
    }
   ],
   "source": [
    "df1 = df1.dropna(subset=['Description', 'CustomerID'])\n",
    "print(f'Removed data: {1 - df1.shape[0]/df_raw.shape[0]}')"
   ]
  },
  {
   "cell_type": "code",
   "execution_count": 14,
   "id": "7d6ef495-fec2-4339-bf36-fb15292d4c81",
   "metadata": {
    "execution": {
     "iopub.execute_input": "2021-04-20T17:01:11.418152Z",
     "iopub.status.busy": "2021-04-20T17:01:11.417618Z",
     "iopub.status.idle": "2021-04-20T17:01:11.663301Z",
     "shell.execute_reply": "2021-04-20T17:01:11.662697Z",
     "shell.execute_reply.started": "2021-04-20T17:01:11.418108Z"
    },
    "tags": []
   },
   "outputs": [
    {
     "data": {
      "text/html": [
       "<div>\n",
       "<style scoped>\n",
       "    .dataframe tbody tr th:only-of-type {\n",
       "        vertical-align: middle;\n",
       "    }\n",
       "\n",
       "    .dataframe tbody tr th {\n",
       "        vertical-align: top;\n",
       "    }\n",
       "\n",
       "    .dataframe thead th {\n",
       "        text-align: right;\n",
       "    }\n",
       "</style>\n",
       "<table border=\"1\" class=\"dataframe\">\n",
       "  <thead>\n",
       "    <tr style=\"text-align: right;\">\n",
       "      <th></th>\n",
       "      <th>Sum of NA</th>\n",
       "      <th>% NA</th>\n",
       "    </tr>\n",
       "  </thead>\n",
       "  <tbody>\n",
       "    <tr>\n",
       "      <th>InvoiceNo</th>\n",
       "      <td>0</td>\n",
       "      <td>0.000</td>\n",
       "    </tr>\n",
       "    <tr>\n",
       "      <th>StockCode</th>\n",
       "      <td>0</td>\n",
       "      <td>0.000</td>\n",
       "    </tr>\n",
       "    <tr>\n",
       "      <th>Description</th>\n",
       "      <td>0</td>\n",
       "      <td>0.000</td>\n",
       "    </tr>\n",
       "    <tr>\n",
       "      <th>Quantity</th>\n",
       "      <td>0</td>\n",
       "      <td>0.000</td>\n",
       "    </tr>\n",
       "    <tr>\n",
       "      <th>InvoiceDate</th>\n",
       "      <td>0</td>\n",
       "      <td>0.000</td>\n",
       "    </tr>\n",
       "    <tr>\n",
       "      <th>UnitPrice</th>\n",
       "      <td>0</td>\n",
       "      <td>0.000</td>\n",
       "    </tr>\n",
       "    <tr>\n",
       "      <th>CustomerID</th>\n",
       "      <td>0</td>\n",
       "      <td>0.000</td>\n",
       "    </tr>\n",
       "    <tr>\n",
       "      <th>Country</th>\n",
       "      <td>0</td>\n",
       "      <td>0.000</td>\n",
       "    </tr>\n",
       "  </tbody>\n",
       "</table>\n",
       "</div>"
      ],
      "text/plain": [
       "             Sum of NA  % NA\n",
       "InvoiceNo            0 0.000\n",
       "StockCode            0 0.000\n",
       "Description          0 0.000\n",
       "Quantity             0 0.000\n",
       "InvoiceDate          0 0.000\n",
       "UnitPrice            0 0.000\n",
       "CustomerID           0 0.000\n",
       "Country              0 0.000"
      ]
     },
     "execution_count": 14,
     "metadata": {},
     "output_type": "execute_result"
    }
   ],
   "source": [
    "change_df({'Sum of NA': df1.isna().sum(), '% NA': df1.isna().sum()/df1.shape[0]})"
   ]
  },
  {
   "cell_type": "markdown",
   "id": "4fc0d86b",
   "metadata": {
    "tags": []
   },
   "source": [
    "#### 1.2.2 Unique values"
   ]
  },
  {
   "cell_type": "code",
   "execution_count": 15,
   "id": "6b5ac03f",
   "metadata": {
    "execution": {
     "iopub.execute_input": "2021-04-20T17:01:11.665029Z",
     "iopub.status.busy": "2021-04-20T17:01:11.664676Z",
     "iopub.status.idle": "2021-04-20T17:01:11.771428Z",
     "shell.execute_reply": "2021-04-20T17:01:11.770741Z",
     "shell.execute_reply.started": "2021-04-20T17:01:11.664982Z"
    },
    "tags": []
   },
   "outputs": [
    {
     "name": "stdout",
     "output_type": "stream",
     "text": [
      "22190 unique invoice numbers.\n",
      "3684 diferent unique stock codes.\n",
      "3896 unique products descriptions.\n",
      "4372 unique customers.\n"
     ]
    }
   ],
   "source": [
    "print(f'{len(df1[\"InvoiceNo\"].unique())} unique invoice numbers.')\n",
    "print(f'{len(df1[\"StockCode\"].unique())} diferent unique stock codes.')\n",
    "print(f'{len(df1[\"Description\"].unique())} unique products descriptions.')\n",
    "print(f'{len(df1[\"CustomerID\"].unique())} unique customers.')"
   ]
  },
  {
   "cell_type": "markdown",
   "id": "fb051273",
   "metadata": {
    "tags": []
   },
   "source": [
    "#### 1.2.3 Duplicated rows"
   ]
  },
  {
   "cell_type": "code",
   "execution_count": 16,
   "id": "e8d26016",
   "metadata": {
    "execution": {
     "iopub.execute_input": "2021-04-20T17:01:11.773128Z",
     "iopub.status.busy": "2021-04-20T17:01:11.772706Z",
     "iopub.status.idle": "2021-04-20T17:01:12.010446Z",
     "shell.execute_reply": "2021-04-20T17:01:12.009764Z",
     "shell.execute_reply.started": "2021-04-20T17:01:11.773079Z"
    },
    "tags": []
   },
   "outputs": [],
   "source": [
    "df1.drop_duplicates(inplace = True)"
   ]
  },
  {
   "cell_type": "markdown",
   "id": "c031718d",
   "metadata": {
    "tags": []
   },
   "source": [
    "### 1.3 Organizing Columns"
   ]
  },
  {
   "cell_type": "code",
   "execution_count": 17,
   "id": "8b06044f",
   "metadata": {
    "execution": {
     "iopub.execute_input": "2021-04-20T17:01:12.011585Z",
     "iopub.status.busy": "2021-04-20T17:01:12.011381Z",
     "iopub.status.idle": "2021-04-20T17:01:12.016535Z",
     "shell.execute_reply": "2021-04-20T17:01:12.015036Z",
     "shell.execute_reply.started": "2021-04-20T17:01:12.011558Z"
    },
    "tags": []
   },
   "outputs": [],
   "source": [
    "# rename columns\n",
    "cols_old = df1.columns\n",
    "\n",
    "# using the snakecase type\n",
    "cols_new = snakecase(cols_old)\n",
    "df1.columns = cols_new"
   ]
  },
  {
   "cell_type": "code",
   "execution_count": 18,
   "id": "c2025876",
   "metadata": {
    "execution": {
     "iopub.execute_input": "2021-04-20T17:01:12.018451Z",
     "iopub.status.busy": "2021-04-20T17:01:12.018072Z",
     "iopub.status.idle": "2021-04-20T17:01:12.026448Z",
     "shell.execute_reply": "2021-04-20T17:01:12.025560Z",
     "shell.execute_reply.started": "2021-04-20T17:01:12.018402Z"
    },
    "tags": []
   },
   "outputs": [
    {
     "data": {
      "text/plain": [
       "Index(['invoice_no', 'stock_code', 'description', 'quantity', 'invoice_date',\n",
       "       'unit_price', 'customer_id', 'country'],\n",
       "      dtype='object')"
      ]
     },
     "execution_count": 18,
     "metadata": {},
     "output_type": "execute_result"
    }
   ],
   "source": [
    "df1.columns"
   ]
  },
  {
   "cell_type": "code",
   "execution_count": 19,
   "id": "210e75ab",
   "metadata": {
    "execution": {
     "iopub.execute_input": "2021-04-20T17:01:12.028194Z",
     "iopub.status.busy": "2021-04-20T17:01:12.027772Z",
     "iopub.status.idle": "2021-04-20T17:01:12.071310Z",
     "shell.execute_reply": "2021-04-20T17:01:12.070305Z",
     "shell.execute_reply.started": "2021-04-20T17:01:12.028137Z"
    },
    "tags": []
   },
   "outputs": [],
   "source": [
    "df1 = df1[['customer_id', 'country', 'invoice_date', 'invoice_no','stock_code', 'description', 'unit_price', 'quantity']]"
   ]
  },
  {
   "cell_type": "code",
   "execution_count": 20,
   "id": "c6c9a4d9",
   "metadata": {
    "execution": {
     "iopub.execute_input": "2021-04-20T17:01:12.073369Z",
     "iopub.status.busy": "2021-04-20T17:01:12.072976Z",
     "iopub.status.idle": "2021-04-20T17:01:12.096736Z",
     "shell.execute_reply": "2021-04-20T17:01:12.095784Z",
     "shell.execute_reply.started": "2021-04-20T17:01:12.073317Z"
    },
    "tags": []
   },
   "outputs": [
    {
     "data": {
      "text/html": [
       "<div>\n",
       "<style scoped>\n",
       "    .dataframe tbody tr th:only-of-type {\n",
       "        vertical-align: middle;\n",
       "    }\n",
       "\n",
       "    .dataframe tbody tr th {\n",
       "        vertical-align: top;\n",
       "    }\n",
       "\n",
       "    .dataframe thead th {\n",
       "        text-align: right;\n",
       "    }\n",
       "</style>\n",
       "<table border=\"1\" class=\"dataframe\">\n",
       "  <thead>\n",
       "    <tr style=\"text-align: right;\">\n",
       "      <th></th>\n",
       "      <th>0</th>\n",
       "      <th>1</th>\n",
       "      <th>2</th>\n",
       "      <th>3</th>\n",
       "      <th>4</th>\n",
       "    </tr>\n",
       "  </thead>\n",
       "  <tbody>\n",
       "    <tr>\n",
       "      <th>customer_id</th>\n",
       "      <td>17850.0</td>\n",
       "      <td>17850.0</td>\n",
       "      <td>17850.0</td>\n",
       "      <td>17850.0</td>\n",
       "      <td>17850.0</td>\n",
       "    </tr>\n",
       "    <tr>\n",
       "      <th>country</th>\n",
       "      <td>United Kingdom</td>\n",
       "      <td>United Kingdom</td>\n",
       "      <td>United Kingdom</td>\n",
       "      <td>United Kingdom</td>\n",
       "      <td>United Kingdom</td>\n",
       "    </tr>\n",
       "    <tr>\n",
       "      <th>invoice_date</th>\n",
       "      <td>29-Nov-16</td>\n",
       "      <td>29-Nov-16</td>\n",
       "      <td>29-Nov-16</td>\n",
       "      <td>29-Nov-16</td>\n",
       "      <td>29-Nov-16</td>\n",
       "    </tr>\n",
       "    <tr>\n",
       "      <th>invoice_no</th>\n",
       "      <td>536365</td>\n",
       "      <td>536365</td>\n",
       "      <td>536365</td>\n",
       "      <td>536365</td>\n",
       "      <td>536365</td>\n",
       "    </tr>\n",
       "    <tr>\n",
       "      <th>stock_code</th>\n",
       "      <td>85123A</td>\n",
       "      <td>71053</td>\n",
       "      <td>84406B</td>\n",
       "      <td>84029G</td>\n",
       "      <td>84029E</td>\n",
       "    </tr>\n",
       "    <tr>\n",
       "      <th>description</th>\n",
       "      <td>WHITE HANGING HEART T-LIGHT HOLDER</td>\n",
       "      <td>WHITE METAL LANTERN</td>\n",
       "      <td>CREAM CUPID HEARTS COAT HANGER</td>\n",
       "      <td>KNITTED UNION FLAG HOT WATER BOTTLE</td>\n",
       "      <td>RED WOOLLY HOTTIE WHITE HEART.</td>\n",
       "    </tr>\n",
       "    <tr>\n",
       "      <th>unit_price</th>\n",
       "      <td>2.55</td>\n",
       "      <td>3.39</td>\n",
       "      <td>2.75</td>\n",
       "      <td>3.39</td>\n",
       "      <td>3.39</td>\n",
       "    </tr>\n",
       "    <tr>\n",
       "      <th>quantity</th>\n",
       "      <td>6</td>\n",
       "      <td>6</td>\n",
       "      <td>8</td>\n",
       "      <td>6</td>\n",
       "      <td>6</td>\n",
       "    </tr>\n",
       "  </tbody>\n",
       "</table>\n",
       "</div>"
      ],
      "text/plain": [
       "                                               0                    1                               2                                    3                               4\n",
       "customer_id                              17850.0              17850.0                         17850.0                              17850.0                         17850.0\n",
       "country                           United Kingdom       United Kingdom                  United Kingdom                       United Kingdom                  United Kingdom\n",
       "invoice_date                           29-Nov-16            29-Nov-16                       29-Nov-16                            29-Nov-16                       29-Nov-16\n",
       "invoice_no                                536365               536365                          536365                               536365                          536365\n",
       "stock_code                                85123A                71053                          84406B                               84029G                          84029E\n",
       "description   WHITE HANGING HEART T-LIGHT HOLDER  WHITE METAL LANTERN  CREAM CUPID HEARTS COAT HANGER  KNITTED UNION FLAG HOT WATER BOTTLE  RED WOOLLY HOTTIE WHITE HEART.\n",
       "unit_price                                  2.55                 3.39                            2.75                                 3.39                            3.39\n",
       "quantity                                       6                    6                               8                                    6                               6"
      ]
     },
     "execution_count": 20,
     "metadata": {},
     "output_type": "execute_result"
    }
   ],
   "source": [
    "df1.head().T"
   ]
  },
  {
   "cell_type": "markdown",
   "id": "cf34faf8",
   "metadata": {
    "tags": []
   },
   "source": [
    "### 1.4 Data Dimensions"
   ]
  },
  {
   "cell_type": "code",
   "execution_count": 21,
   "id": "5fd67896",
   "metadata": {
    "execution": {
     "iopub.execute_input": "2021-04-20T17:01:12.098563Z",
     "iopub.status.busy": "2021-04-20T17:01:12.098208Z",
     "iopub.status.idle": "2021-04-20T17:01:12.104309Z",
     "shell.execute_reply": "2021-04-20T17:01:12.103391Z",
     "shell.execute_reply.started": "2021-04-20T17:01:12.098518Z"
    },
    "tags": []
   },
   "outputs": [
    {
     "name": "stdout",
     "output_type": "stream",
     "text": [
      "Number of rows: 401603 \n",
      "Number of columns: 8\n"
     ]
    }
   ],
   "source": [
    "print(f'Number of rows: {df1.shape[0]} \\nNumber of columns: {df1.shape[1]}')"
   ]
  },
  {
   "cell_type": "markdown",
   "id": "006749ac",
   "metadata": {
    "tags": []
   },
   "source": [
    "### 1.5 Data Types"
   ]
  },
  {
   "cell_type": "code",
   "execution_count": 22,
   "id": "2292082a",
   "metadata": {
    "execution": {
     "iopub.execute_input": "2021-04-20T17:01:12.106163Z",
     "iopub.status.busy": "2021-04-20T17:01:12.105847Z",
     "iopub.status.idle": "2021-04-20T17:01:12.122409Z",
     "shell.execute_reply": "2021-04-20T17:01:12.121197Z",
     "shell.execute_reply.started": "2021-04-20T17:01:12.106128Z"
    },
    "tags": []
   },
   "outputs": [
    {
     "data": {
      "text/plain": [
       "customer_id     float64\n",
       "country          object\n",
       "invoice_date     object\n",
       "invoice_no       object\n",
       "stock_code       object\n",
       "description      object\n",
       "unit_price      float64\n",
       "quantity          int64\n",
       "dtype: object"
      ]
     },
     "execution_count": 22,
     "metadata": {},
     "output_type": "execute_result"
    }
   ],
   "source": [
    "df1.dtypes"
   ]
  },
  {
   "cell_type": "markdown",
   "id": "889dc6da",
   "metadata": {},
   "source": [
    "I've found some weird values in invoice_no column, some rows has a letter, like: C536479"
   ]
  },
  {
   "cell_type": "markdown",
   "id": "cb2f1525",
   "metadata": {},
   "source": [
    "1. `invoice_date`: Need to be converted from object to datetime64"
   ]
  },
  {
   "cell_type": "code",
   "execution_count": 23,
   "id": "7a3f6379",
   "metadata": {
    "execution": {
     "iopub.execute_input": "2021-04-20T17:01:12.123865Z",
     "iopub.status.busy": "2021-04-20T17:01:12.123579Z",
     "iopub.status.idle": "2021-04-20T17:01:12.324836Z",
     "shell.execute_reply": "2021-04-20T17:01:12.323788Z",
     "shell.execute_reply.started": "2021-04-20T17:01:12.123830Z"
    },
    "tags": []
   },
   "outputs": [],
   "source": [
    "df1['invoice_date'] = pd.to_datetime(df1['invoice_date'])"
   ]
  },
  {
   "cell_type": "markdown",
   "id": "6911aaac",
   "metadata": {},
   "source": [
    "2. `invoice_no`: Need to be converted from object to int64\n",
    "\n",
    "There are 6 numbers in the invoice_no and, sometimes, 1 letter, always before the numbers."
   ]
  },
  {
   "cell_type": "code",
   "execution_count": 24,
   "id": "9692acf2",
   "metadata": {
    "execution": {
     "iopub.execute_input": "2021-04-20T17:01:12.326801Z",
     "iopub.status.busy": "2021-04-20T17:01:12.326377Z",
     "iopub.status.idle": "2021-04-20T17:01:12.446288Z",
     "shell.execute_reply": "2021-04-20T17:01:12.445251Z",
     "shell.execute_reply.started": "2021-04-20T17:01:12.326748Z"
    },
    "tags": []
   },
   "outputs": [],
   "source": [
    "df1['invoice_number'] = df1['invoice_no'].apply(lambda x: x if len(x) == 6\n",
    "                                                          else x[1:])"
   ]
  },
  {
   "cell_type": "code",
   "execution_count": 25,
   "id": "a05aadc4",
   "metadata": {
    "execution": {
     "iopub.execute_input": "2021-04-20T17:01:12.453093Z",
     "iopub.status.busy": "2021-04-20T17:01:12.452821Z",
     "iopub.status.idle": "2021-04-20T17:01:12.566253Z",
     "shell.execute_reply": "2021-04-20T17:01:12.565230Z",
     "shell.execute_reply.started": "2021-04-20T17:01:12.453060Z"
    },
    "tags": []
   },
   "outputs": [],
   "source": [
    "df1['invoice_letter'] = df1['invoice_no'].apply(lambda x: 'no_letter' if len(x) == 6\n",
    "                                                          else x[0])"
   ]
  },
  {
   "cell_type": "code",
   "execution_count": 26,
   "id": "93b0e69e",
   "metadata": {
    "execution": {
     "iopub.execute_input": "2021-04-20T17:01:12.568342Z",
     "iopub.status.busy": "2021-04-20T17:01:12.568024Z",
     "iopub.status.idle": "2021-04-20T17:01:12.650493Z",
     "shell.execute_reply": "2021-04-20T17:01:12.649595Z",
     "shell.execute_reply.started": "2021-04-20T17:01:12.568307Z"
    },
    "tags": []
   },
   "outputs": [
    {
     "data": {
      "text/html": [
       "<div>\n",
       "<style scoped>\n",
       "    .dataframe tbody tr th:only-of-type {\n",
       "        vertical-align: middle;\n",
       "    }\n",
       "\n",
       "    .dataframe tbody tr th {\n",
       "        vertical-align: top;\n",
       "    }\n",
       "\n",
       "    .dataframe thead th {\n",
       "        text-align: right;\n",
       "    }\n",
       "</style>\n",
       "<table border=\"1\" class=\"dataframe\">\n",
       "  <thead>\n",
       "    <tr style=\"text-align: right;\">\n",
       "      <th></th>\n",
       "      <th>customer_id</th>\n",
       "      <th>country</th>\n",
       "      <th>invoice_date</th>\n",
       "      <th>invoice_no</th>\n",
       "      <th>stock_code</th>\n",
       "      <th>description</th>\n",
       "      <th>unit_price</th>\n",
       "      <th>quantity</th>\n",
       "      <th>invoice_number</th>\n",
       "      <th>invoice_letter</th>\n",
       "    </tr>\n",
       "  </thead>\n",
       "  <tbody>\n",
       "    <tr>\n",
       "      <th>363998</th>\n",
       "      <td>13397.000</td>\n",
       "      <td>United Kingdom</td>\n",
       "      <td>2017-09-26</td>\n",
       "      <td>568594</td>\n",
       "      <td>23343</td>\n",
       "      <td>JUMBO BAG VINTAGE CHRISTMAS</td>\n",
       "      <td>2.080</td>\n",
       "      <td>10</td>\n",
       "      <td>568594</td>\n",
       "      <td>no_letter</td>\n",
       "    </tr>\n",
       "    <tr>\n",
       "      <th>13236</th>\n",
       "      <td>17320.000</td>\n",
       "      <td>United Kingdom</td>\n",
       "      <td>2016-12-04</td>\n",
       "      <td>537428</td>\n",
       "      <td>21912</td>\n",
       "      <td>VINTAGE SNAKES &amp; LADDERS</td>\n",
       "      <td>3.750</td>\n",
       "      <td>3</td>\n",
       "      <td>537428</td>\n",
       "      <td>no_letter</td>\n",
       "    </tr>\n",
       "    <tr>\n",
       "      <th>20007</th>\n",
       "      <td>14932.000</td>\n",
       "      <td>Channel Islands</td>\n",
       "      <td>2016-12-07</td>\n",
       "      <td>538002</td>\n",
       "      <td>21587</td>\n",
       "      <td>COSY HOUR GIANT TUBE MATCHES</td>\n",
       "      <td>2.550</td>\n",
       "      <td>12</td>\n",
       "      <td>538002</td>\n",
       "      <td>no_letter</td>\n",
       "    </tr>\n",
       "    <tr>\n",
       "      <th>314311</th>\n",
       "      <td>13644.000</td>\n",
       "      <td>United Kingdom</td>\n",
       "      <td>2017-08-24</td>\n",
       "      <td>564630</td>\n",
       "      <td>21803</td>\n",
       "      <td>CHRISTMAS TREE STAR DECORATION</td>\n",
       "      <td>0.420</td>\n",
       "      <td>36</td>\n",
       "      <td>564630</td>\n",
       "      <td>no_letter</td>\n",
       "    </tr>\n",
       "    <tr>\n",
       "      <th>93160</th>\n",
       "      <td>15382.000</td>\n",
       "      <td>United Kingdom</td>\n",
       "      <td>2017-02-15</td>\n",
       "      <td>544278</td>\n",
       "      <td>22526</td>\n",
       "      <td>WHEELBARROW FOR CHILDREN</td>\n",
       "      <td>12.750</td>\n",
       "      <td>1</td>\n",
       "      <td>544278</td>\n",
       "      <td>no_letter</td>\n",
       "    </tr>\n",
       "  </tbody>\n",
       "</table>\n",
       "</div>"
      ],
      "text/plain": [
       "        customer_id          country invoice_date invoice_no stock_code                     description  unit_price  quantity invoice_number invoice_letter\n",
       "363998    13397.000   United Kingdom   2017-09-26     568594      23343    JUMBO BAG VINTAGE CHRISTMAS        2.080        10         568594      no_letter\n",
       "13236     17320.000   United Kingdom   2016-12-04     537428      21912        VINTAGE SNAKES & LADDERS       3.750         3         537428      no_letter\n",
       "20007     14932.000  Channel Islands   2016-12-07     538002      21587    COSY HOUR GIANT TUBE MATCHES       2.550        12         538002      no_letter\n",
       "314311    13644.000   United Kingdom   2017-08-24     564630      21803  CHRISTMAS TREE STAR DECORATION       0.420        36         564630      no_letter\n",
       "93160     15382.000   United Kingdom   2017-02-15     544278      22526       WHEELBARROW FOR CHILDREN       12.750         1         544278      no_letter"
      ]
     },
     "execution_count": 26,
     "metadata": {},
     "output_type": "execute_result"
    }
   ],
   "source": [
    "df1.sample(5)"
   ]
  },
  {
   "cell_type": "code",
   "execution_count": 27,
   "id": "9f7dd234",
   "metadata": {
    "execution": {
     "iopub.execute_input": "2021-04-20T17:01:12.651887Z",
     "iopub.status.busy": "2021-04-20T17:01:12.651621Z",
     "iopub.status.idle": "2021-04-20T17:01:12.736367Z",
     "shell.execute_reply": "2021-04-20T17:01:12.735089Z",
     "shell.execute_reply.started": "2021-04-20T17:01:12.651853Z"
    },
    "tags": []
   },
   "outputs": [],
   "source": [
    "df1['invoice_number'] = df1['invoice_number'].astype(int64)"
   ]
  },
  {
   "cell_type": "code",
   "execution_count": 28,
   "id": "a9c7db1d",
   "metadata": {
    "execution": {
     "iopub.execute_input": "2021-04-20T17:01:12.738859Z",
     "iopub.status.busy": "2021-04-20T17:01:12.738154Z",
     "iopub.status.idle": "2021-04-20T17:01:12.749799Z",
     "shell.execute_reply": "2021-04-20T17:01:12.748559Z",
     "shell.execute_reply.started": "2021-04-20T17:01:12.738804Z"
    },
    "tags": []
   },
   "outputs": [
    {
     "data": {
      "text/plain": [
       "customer_id              float64\n",
       "country                   object\n",
       "invoice_date      datetime64[ns]\n",
       "invoice_no                object\n",
       "stock_code                object\n",
       "description               object\n",
       "unit_price               float64\n",
       "quantity                   int64\n",
       "invoice_number             int64\n",
       "invoice_letter            object\n",
       "dtype: object"
      ]
     },
     "execution_count": 28,
     "metadata": {},
     "output_type": "execute_result"
    }
   ],
   "source": [
    "df1.dtypes"
   ]
  },
  {
   "cell_type": "markdown",
   "id": "73910363",
   "metadata": {
    "tags": []
   },
   "source": [
    "### 1.6 Descriptive Statistics"
   ]
  },
  {
   "cell_type": "markdown",
   "id": "1906badb",
   "metadata": {
    "tags": []
   },
   "source": [
    "#### 1.6.1 Numerical Attributes"
   ]
  },
  {
   "cell_type": "markdown",
   "id": "02a258e9",
   "metadata": {},
   "source": [
    "- Central tendency\n",
    "  - average \n",
    "  - median\n",
    "---\n",
    "\n",
    "- Dispersion \n",
    "  - standard deviation: tell us the variation, for example, if the median is 350 and the std is 100, there times that the total 350 + 100 and times that the total is 350 - 100;\n",
    "  \n",
    "  - min: min value of all the data;\n",
    "  \n",
    "  - max: max value of all the data;\n",
    "  \n",
    "  - range: difference between min and max;\n",
    "  \n",
    "  - skewness: tell us how shifted our graph is.\n",
    "  \n",
    "  - kurtosis: tell us how close our distribution is to a normal distribution."
   ]
  },
  {
   "cell_type": "code",
   "execution_count": 29,
   "id": "37d421e9",
   "metadata": {
    "execution": {
     "iopub.execute_input": "2021-04-20T17:01:12.752100Z",
     "iopub.status.busy": "2021-04-20T17:01:12.751643Z",
     "iopub.status.idle": "2021-04-20T17:01:12.773257Z",
     "shell.execute_reply": "2021-04-20T17:01:12.772497Z",
     "shell.execute_reply.started": "2021-04-20T17:01:12.752053Z"
    },
    "tags": []
   },
   "outputs": [],
   "source": [
    "num_attributes = df1.select_dtypes(include=['int64', 'float64'])\n",
    "num_attributes = num_attributes.drop(columns=['customer_id', 'invoice_number'])\n",
    "num_cols = num_attributes.columns.tolist()"
   ]
  },
  {
   "cell_type": "code",
   "execution_count": 30,
   "id": "734175bd",
   "metadata": {
    "execution": {
     "iopub.execute_input": "2021-04-20T17:01:12.774422Z",
     "iopub.status.busy": "2021-04-20T17:01:12.774181Z",
     "iopub.status.idle": "2021-04-20T17:01:13.098879Z",
     "shell.execute_reply": "2021-04-20T17:01:13.098016Z",
     "shell.execute_reply.started": "2021-04-20T17:01:12.774390Z"
    },
    "tags": []
   },
   "outputs": [
    {
     "data": {
      "text/html": [
       "<div>\n",
       "<style scoped>\n",
       "    .dataframe tbody tr th:only-of-type {\n",
       "        vertical-align: middle;\n",
       "    }\n",
       "\n",
       "    .dataframe tbody tr th {\n",
       "        vertical-align: top;\n",
       "    }\n",
       "\n",
       "    .dataframe thead th {\n",
       "        text-align: right;\n",
       "    }\n",
       "</style>\n",
       "<table border=\"1\" class=\"dataframe\">\n",
       "  <thead>\n",
       "    <tr style=\"text-align: right;\">\n",
       "      <th></th>\n",
       "      <th>Attributes</th>\n",
       "      <th>Min</th>\n",
       "      <th>Max</th>\n",
       "      <th>Range</th>\n",
       "      <th>Mean</th>\n",
       "      <th>Median</th>\n",
       "      <th>Q1</th>\n",
       "      <th>Q3</th>\n",
       "      <th>St deviation</th>\n",
       "      <th>Skewness</th>\n",
       "      <th>Kurtosis</th>\n",
       "    </tr>\n",
       "  </thead>\n",
       "  <tbody>\n",
       "    <tr>\n",
       "      <th>0</th>\n",
       "      <td>unit_price</td>\n",
       "      <td>0.000</td>\n",
       "      <td>38970.000</td>\n",
       "      <td>38970.000</td>\n",
       "      <td>3.474</td>\n",
       "      <td>1.950</td>\n",
       "      <td>1.250</td>\n",
       "      <td>3.750</td>\n",
       "      <td>69.764</td>\n",
       "      <td>449.316</td>\n",
       "      <td>243760.343</td>\n",
       "    </tr>\n",
       "    <tr>\n",
       "      <th>1</th>\n",
       "      <td>quantity</td>\n",
       "      <td>-80995.000</td>\n",
       "      <td>80995.000</td>\n",
       "      <td>161990.000</td>\n",
       "      <td>12.183</td>\n",
       "      <td>5.000</td>\n",
       "      <td>2.000</td>\n",
       "      <td>12.000</td>\n",
       "      <td>250.283</td>\n",
       "      <td>0.180</td>\n",
       "      <td>93140.043</td>\n",
       "    </tr>\n",
       "  </tbody>\n",
       "</table>\n",
       "</div>"
      ],
      "text/plain": [
       "   Attributes        Min       Max      Range   Mean  Median    Q1     Q3  St deviation  Skewness   Kurtosis\n",
       "0  unit_price      0.000 38970.000  38970.000  3.474   1.950 1.250  3.750        69.764   449.316 243760.343\n",
       "1    quantity -80995.000 80995.000 161990.000 12.183   5.000 2.000 12.000       250.283     0.180  93140.043"
      ]
     },
     "execution_count": 30,
     "metadata": {},
     "output_type": "execute_result"
    }
   ],
   "source": [
    "num_attributes_result = numerical_metrics(num_attributes[num_cols])\n",
    "num_attributes_result"
   ]
  },
  {
   "cell_type": "markdown",
   "id": "bf4678d9",
   "metadata": {
    "tags": []
   },
   "source": [
    "##### 1.6.1.1 Numerical Attributes Outliers"
   ]
  },
  {
   "cell_type": "code",
   "execution_count": 31,
   "id": "795f256e",
   "metadata": {
    "execution": {
     "iopub.execute_input": "2021-04-20T17:01:13.099983Z",
     "iopub.status.busy": "2021-04-20T17:01:13.099753Z",
     "iopub.status.idle": "2021-04-20T17:01:14.031618Z",
     "shell.execute_reply": "2021-04-20T17:01:14.030935Z",
     "shell.execute_reply.started": "2021-04-20T17:01:13.099954Z"
    },
    "tags": []
   },
   "outputs": [
    {
     "data": {
      "image/png": "[encoded data removed]",
      "text/plain": [
       "<Figure size 1800x864 with 2 Axes>"
      ]
     },
     "metadata": {},
     "output_type": "display_data"
    }
   ],
   "source": [
    "# creating subplots\n",
    "fig, (ax1, ax2) = plt.subplots(2, 1)\n",
    "\n",
    "ax = sns.boxplot(df1['unit_price'], ax = ax1);\n",
    "ax.set_xlabel('Unit Price', fontsize = 12);\n",
    "ax = sns.boxplot(df1['quantity'], ax = ax2);\n",
    "ax.set_xlabel('Quantity', fontsize = 12);\n",
    "\n",
    "#saving figure\n",
    "plt.savefig(homepath + 'reports/figures/num_attributes_outliers.png')"
   ]
  },
  {
   "cell_type": "markdown",
   "id": "594bea34",
   "metadata": {
    "tags": []
   },
   "source": [
    "#### 1.6.2 Categorical Attributes"
   ]
  },
  {
   "cell_type": "code",
   "execution_count": 32,
   "id": "25b67d5f",
   "metadata": {
    "execution": {
     "iopub.execute_input": "2021-04-20T17:01:14.032690Z",
     "iopub.status.busy": "2021-04-20T17:01:14.032494Z",
     "iopub.status.idle": "2021-04-20T17:01:14.064860Z",
     "shell.execute_reply": "2021-04-20T17:01:14.063909Z",
     "shell.execute_reply.started": "2021-04-20T17:01:14.032665Z"
    },
    "tags": []
   },
   "outputs": [],
   "source": [
    "cat_attributes = df1.select_dtypes(include=['object'])\n",
    "cat_attributes = cat_attributes.drop(columns=['invoice_no', 'description'])\n",
    "cat_cols = cat_attributes.columns.tolist()"
   ]
  },
  {
   "cell_type": "markdown",
   "id": "6a946be0",
   "metadata": {
    "tags": []
   },
   "source": [
    "`country`:"
   ]
  },
  {
   "cell_type": "code",
   "execution_count": 33,
   "id": "b9720c67",
   "metadata": {
    "execution": {
     "iopub.execute_input": "2021-04-20T17:01:14.066333Z",
     "iopub.status.busy": "2021-04-20T17:01:14.066095Z",
     "iopub.status.idle": "2021-04-20T17:01:18.285832Z",
     "shell.execute_reply": "2021-04-20T17:01:18.285207Z",
     "shell.execute_reply.started": "2021-04-20T17:01:14.066305Z"
    },
    "tags": []
   },
   "outputs": [
    {
     "data": {
      "image/png": "[encoded data removed]",
      "text/plain": [
       "<Figure size 1800x864 with 1 Axes>"
      ]
     },
     "metadata": {},
     "output_type": "display_data"
    }
   ],
   "source": [
    "ax = sns.countplot(x = 'country', data = cat_attributes, palette = 'pastel', order = cat_attributes['country'].value_counts().index)\n",
    "plt.xticks(rotation = 90);\n",
    "\n",
    "# saving figure\n",
    "plt.savefig(homepath + 'reports/figures/country_count_uk.png')"
   ]
  },
  {
   "cell_type": "code",
   "execution_count": 34,
   "id": "e2f784cf",
   "metadata": {
    "execution": {
     "iopub.execute_input": "2021-04-20T17:01:18.286740Z",
     "iopub.status.busy": "2021-04-20T17:01:18.286568Z",
     "iopub.status.idle": "2021-04-20T17:01:19.283220Z",
     "shell.execute_reply": "2021-04-20T17:01:19.282585Z",
     "shell.execute_reply.started": "2021-04-20T17:01:18.286716Z"
    },
    "tags": []
   },
   "outputs": [
    {
     "data": {
      "image/png": "[encoded data removed]",
      "text/plain": [
       "<Figure size 1800x864 with 1 Axes>"
      ]
     },
     "metadata": {},
     "output_type": "display_data"
    }
   ],
   "source": [
    "aux1 = cat_attributes[cat_attributes['country'] != 'United Kingdom']\n",
    "aux2 = aux1[aux1['country'] != 'Unspecified']\n",
    "ax = sns.countplot(y = 'country', data = aux2, palette = 'Set2', order = aux2['country'].value_counts().index)\n",
    "\n",
    "# saving figure\n",
    "plt.savefig(homepath + 'reports/figures/country_count.png')"
   ]
  },
  {
   "cell_type": "markdown",
   "id": "f9508976",
   "metadata": {
    "tags": []
   },
   "source": [
    "#### 1.6.3 Date Attributes"
   ]
  },
  {
   "cell_type": "code",
   "execution_count": 35,
   "id": "a121f47c",
   "metadata": {
    "execution": {
     "iopub.execute_input": "2021-04-20T17:01:19.284220Z",
     "iopub.status.busy": "2021-04-20T17:01:19.284022Z",
     "iopub.status.idle": "2021-04-20T17:01:20.124072Z",
     "shell.execute_reply": "2021-04-20T17:01:20.123453Z",
     "shell.execute_reply.started": "2021-04-20T17:01:19.284190Z"
    },
    "tags": []
   },
   "outputs": [
    {
     "data": {
      "image/png": "[encoded data removed]",
      "text/plain": [
       "<Figure size 1800x864 with 1 Axes>"
      ]
     },
     "metadata": {},
     "output_type": "display_data"
    }
   ],
   "source": [
    "ax = sns.histplot(data = df1, x = 'invoice_date',bins = 30, alpha = 0.5);\n",
    "plt.xticks(rotation = 45)\n",
    "ax.xaxis.set_major_locator(ticker.LinearLocator(numticks = 30))\n",
    "\n",
    "# saving figure\n",
    "plt.savefig(homepath + 'reports/figures/countplot_date.png')"
   ]
  },
  {
   "cell_type": "markdown",
   "id": "07e0f398",
   "metadata": {
    "tags": []
   },
   "source": [
    "### 1.7 Save State"
   ]
  },
  {
   "cell_type": "code",
   "execution_count": 36,
   "id": "00fbda7a",
   "metadata": {
    "execution": {
     "iopub.execute_input": "2021-04-20T17:01:20.125145Z",
     "iopub.status.busy": "2021-04-20T17:01:20.124926Z",
     "iopub.status.idle": "2021-04-20T17:01:20.283376Z",
     "shell.execute_reply": "2021-04-20T17:01:20.282647Z",
     "shell.execute_reply.started": "2021-04-20T17:01:20.125118Z"
    }
   },
   "outputs": [],
   "source": [
    "pickle.dump(df1, open(homepath + 'data/processed/df1.pkl', 'wb'))"
   ]
  },
  {
   "cell_type": "markdown",
   "id": "acdfa2d9",
   "metadata": {
    "tags": []
   },
   "source": [
    "## 2.0 FEATURE ENGINEERING"
   ]
  },
  {
   "cell_type": "markdown",
   "id": "024bb497-59ab-4c1b-9531-386dcace6a51",
   "metadata": {},
   "source": [
    "- **Tasks**\n",
    "    - Dataset Checkpoint\n",
    "    - Mind Map\n",
    "    - Hypothesis\n",
    "    - Feature Engineering to Validation"
   ]
  },
  {
   "cell_type": "markdown",
   "id": "c57a23ed",
   "metadata": {
    "tags": []
   },
   "source": [
    "### 2.1 Dataset Checkpoint"
   ]
  },
  {
   "cell_type": "code",
   "execution_count": 37,
   "id": "78e39916",
   "metadata": {
    "execution": {
     "iopub.execute_input": "2021-04-20T17:01:20.284355Z",
     "iopub.status.busy": "2021-04-20T17:01:20.284179Z",
     "iopub.status.idle": "2021-04-20T17:01:20.339878Z",
     "shell.execute_reply": "2021-04-20T17:01:20.338723Z",
     "shell.execute_reply.started": "2021-04-20T17:01:20.284332Z"
    }
   },
   "outputs": [],
   "source": [
    "df2 = pickle.load(open(homepath + 'data/processed/df1.pkl', 'rb'))"
   ]
  },
  {
   "cell_type": "markdown",
   "id": "9d154743-6797-42bc-b377-e250592903c2",
   "metadata": {
    "tags": []
   },
   "source": [
    "### 2.2 Mind Map"
   ]
  },
  {
   "cell_type": "code",
   "execution_count": 38,
   "id": "2520f3aa",
   "metadata": {
    "execution": {
     "iopub.execute_input": "2021-04-20T17:01:20.341593Z",
     "iopub.status.busy": "2021-04-20T17:01:20.341257Z",
     "iopub.status.idle": "2021-04-20T17:01:20.352306Z",
     "shell.execute_reply": "2021-04-20T17:01:20.351228Z",
     "shell.execute_reply.started": "2021-04-20T17:01:20.341555Z"
    },
    "tags": []
   },
   "outputs": [
    {
     "data": {
      "image/png": "[encoded data removed]",
      "text/plain": [
       "<IPython.core.display.Image object>"
      ]
     },
     "execution_count": 38,
     "metadata": {},
     "output_type": "execute_result"
    }
   ],
   "source": [
    "Image(homepath + 'reports/figures/mind_map.png')"
   ]
  },
  {
   "cell_type": "markdown",
   "id": "63c373f0-6f09-4498-99c2-9dfa0bc2e151",
   "metadata": {
    "tags": []
   },
   "source": [
    "### 2.3 Creating Features"
   ]
  },
  {
   "cell_type": "markdown",
   "id": "d3a3b569-ecd2-4bcc-a9f5-d08f3577269b",
   "metadata": {
    "heading_collapsed": "true",
    "tags": []
   },
   "source": [
    "#### 2.3.2 Creating time features"
   ]
  },
  {
   "cell_type": "code",
   "execution_count": 39,
   "id": "cf1f2ca9-21ed-484a-a444-6ac15fdc10fe",
   "metadata": {
    "execution": {
     "iopub.execute_input": "2021-04-20T17:01:20.354399Z",
     "iopub.status.busy": "2021-04-20T17:01:20.353923Z",
     "iopub.status.idle": "2021-04-20T17:01:20.486206Z",
     "shell.execute_reply": "2021-04-20T17:01:20.485420Z",
     "shell.execute_reply.started": "2021-04-20T17:01:20.354329Z"
    },
    "tags": []
   },
   "outputs": [],
   "source": [
    "# year\n",
    "df2['invoice_year'] = df2['invoice_date'].dt.year\n",
    "\n",
    "# month\n",
    "df2['invoice_month'] = df2['invoice_date'].dt.month\n",
    "\n",
    "# weekday\n",
    "df2['invoice_day_week'] = df2['invoice_date'].dt.dayofweek"
   ]
  },
  {
   "cell_type": "markdown",
   "id": "21920f78-13e8-4c83-bfd0-2b2d2b36db1e",
   "metadata": {
    "tags": []
   },
   "source": [
    "#### 2.3.1 RFM"
   ]
  },
  {
   "cell_type": "code",
   "execution_count": 40,
   "id": "3c334f86",
   "metadata": {
    "execution": {
     "iopub.execute_input": "2021-04-20T17:01:20.487470Z",
     "iopub.status.busy": "2021-04-20T17:01:20.487162Z",
     "iopub.status.idle": "2021-04-20T17:01:20.495348Z",
     "shell.execute_reply": "2021-04-20T17:01:20.494525Z",
     "shell.execute_reply.started": "2021-04-20T17:01:20.487431Z"
    },
    "tags": []
   },
   "outputs": [],
   "source": [
    "# Creating sale_price\n",
    "df2['sale_price'] = df2['quantity'] * df2['unit_price']"
   ]
  },
  {
   "cell_type": "code",
   "execution_count": 41,
   "id": "28e7de10",
   "metadata": {
    "execution": {
     "iopub.execute_input": "2021-04-20T17:01:20.496831Z",
     "iopub.status.busy": "2021-04-20T17:01:20.496569Z",
     "iopub.status.idle": "2021-04-20T17:01:20.517447Z",
     "shell.execute_reply": "2021-04-20T17:01:20.516060Z",
     "shell.execute_reply.started": "2021-04-20T17:01:20.496799Z"
    },
    "tags": []
   },
   "outputs": [
    {
     "data": {
      "text/plain": [
       "Timestamp('2017-12-08 00:00:00')"
      ]
     },
     "execution_count": 41,
     "metadata": {},
     "output_type": "execute_result"
    }
   ],
   "source": [
    "# Create snapshot date\n",
    "snapshot_date = df2['invoice_date'].max() + timedelta(days=1)\n",
    "snapshot_date"
   ]
  },
  {
   "cell_type": "code",
   "execution_count": 42,
   "id": "139c06b9",
   "metadata": {
    "execution": {
     "iopub.execute_input": "2021-04-20T17:01:20.519531Z",
     "iopub.status.busy": "2021-04-20T17:01:20.519037Z",
     "iopub.status.idle": "2021-04-20T17:01:21.240760Z",
     "shell.execute_reply": "2021-04-20T17:01:21.240072Z",
     "shell.execute_reply.started": "2021-04-20T17:01:20.519477Z"
    },
    "tags": []
   },
   "outputs": [],
   "source": [
    "df2_rfm = df2.groupby(['customer_id']).agg({\n",
    "        'invoice_date': lambda x: (snapshot_date - x.max()).days,\n",
    "        'invoice_number': 'count',\n",
    "        'sale_price': 'sum'})\n",
    "\n",
    "df2_rfm.rename(columns={'invoice_date': 'recency',\n",
    "                         'invoice_number': 'frequency',\n",
    "                         'sale_price': 'monetary'}, inplace=True)\n",
    "\n",
    "numerical_metrics(df2_rfm).T"
   ]
  },
  {
   "cell_type": "markdown",
   "id": "3b67acf4-8c6b-45e1-b654-fb1259d3125f",
   "metadata": {
    "tags": []
   },
   "source": [
    "##### 2.3.1.1 RFM distribution"
   ]
  },
  {
   "cell_type": "code",
   "execution_count": 44,
   "id": "f7236515-51f8-4460-9d17-7eced4ee528b",
   "metadata": {
    "execution": {
     "iopub.execute_input": "2021-04-20T17:01:21.272950Z",
     "iopub.status.busy": "2021-04-20T17:01:21.272603Z",
     "iopub.status.idle": "2021-04-20T17:01:21.950507Z",
     "shell.execute_reply": "2021-04-20T17:01:21.949405Z",
     "shell.execute_reply.started": "2021-04-20T17:01:21.272908Z"
    }
   },
   "outputs": [
    {
     "ename": "KeyError",
     "evalue": "'recency'",
     "output_type": "error",
     "traceback": [
      "\u001b[0;31m---------------------------------------------------------------------------\u001b[0m",
      "\u001b[0;31mKeyError\u001b[0m                                  Traceback (most recent call last)",
      "\u001b[0;32m~/.pyenv/versions/3.9.1/envs/pa005/lib/python3.9/site-packages/pandas/core/indexes/base.py\u001b[0m in \u001b[0;36mget_loc\u001b[0;34m(self, key, method, tolerance)\u001b[0m\n\u001b[1;32m   3079\u001b[0m             \u001b[0;32mtry\u001b[0m\u001b[0;34m:\u001b[0m\u001b[0;34m\u001b[0m\u001b[0;34m\u001b[0m\u001b[0m\n\u001b[0;32m-> 3080\u001b[0;31m                 \u001b[0;32mreturn\u001b[0m \u001b[0mself\u001b[0m\u001b[0;34m.\u001b[0m\u001b[0m_engine\u001b[0m\u001b[0;34m.\u001b[0m\u001b[0mget_loc\u001b[0m\u001b[0;34m(\u001b[0m\u001b[0mcasted_key\u001b[0m\u001b[0;34m)\u001b[0m\u001b[0;34m\u001b[0m\u001b[0;34m\u001b[0m\u001b[0m\n\u001b[0m\u001b[1;32m   3081\u001b[0m             \u001b[0;32mexcept\u001b[0m \u001b[0mKeyError\u001b[0m \u001b[0;32mas\u001b[0m \u001b[0merr\u001b[0m\u001b[0;34m:\u001b[0m\u001b[0;34m\u001b[0m\u001b[0;34m\u001b[0m\u001b[0m\n",
      "\u001b[0;32mpandas/_libs/index.pyx\u001b[0m in \u001b[0;36mpandas._libs.index.IndexEngine.get_loc\u001b[0;34m()\u001b[0m\n",
      "\u001b[0;32mpandas/_libs/index.pyx\u001b[0m in \u001b[0;36mpandas._libs.index.IndexEngine.get_loc\u001b[0;34m()\u001b[0m\n",
      "\u001b[0;32mpandas/_libs/hashtable_class_helper.pxi\u001b[0m in \u001b[0;36mpandas._libs.hashtable.PyObjectHashTable.get_item\u001b[0;34m()\u001b[0m\n",
      "\u001b[0;32mpandas/_libs/hashtable_class_helper.pxi\u001b[0m in \u001b[0;36mpandas._libs.hashtable.PyObjectHashTable.get_item\u001b[0;34m()\u001b[0m\n",
      "\u001b[0;31mKeyError\u001b[0m: 'recency'",
      "\nThe above exception was the direct cause of the following exception:\n",
      "\u001b[0;31mKeyError\u001b[0m                                  Traceback (most recent call last)",
      "\u001b[0;32m<ipython-input-44-73436b522673>\u001b[0m in \u001b[0;36m<module>\u001b[0;34m\u001b[0m\n\u001b[1;32m      3\u001b[0m \u001b[0mfig\u001b[0m\u001b[0;34m.\u001b[0m\u001b[0msuptitle\u001b[0m\u001b[0;34m(\u001b[0m\u001b[0;34m'RFM'\u001b[0m\u001b[0;34m,\u001b[0m \u001b[0mfontsize\u001b[0m\u001b[0;34m=\u001b[0m\u001b[0;36m16\u001b[0m\u001b[0;34m)\u001b[0m\u001b[0;34m\u001b[0m\u001b[0;34m\u001b[0m\u001b[0m\n\u001b[1;32m      4\u001b[0m \u001b[0;34m\u001b[0m\u001b[0m\n\u001b[0;32m----> 5\u001b[0;31m \u001b[0max\u001b[0m \u001b[0;34m=\u001b[0m \u001b[0msns\u001b[0m\u001b[0;34m.\u001b[0m\u001b[0mdistplot\u001b[0m\u001b[0;34m(\u001b[0m\u001b[0mdf2_rfm\u001b[0m\u001b[0;34m[\u001b[0m\u001b[0;34m'recency'\u001b[0m\u001b[0;34m]\u001b[0m\u001b[0;34m,\u001b[0m \u001b[0max\u001b[0m \u001b[0;34m=\u001b[0m \u001b[0max1\u001b[0m\u001b[0;34m)\u001b[0m\u001b[0;34m\u001b[0m\u001b[0;34m\u001b[0m\u001b[0m\n\u001b[0m\u001b[1;32m      6\u001b[0m \u001b[0max\u001b[0m \u001b[0;34m=\u001b[0m \u001b[0msns\u001b[0m\u001b[0;34m.\u001b[0m\u001b[0mdistplot\u001b[0m\u001b[0;34m(\u001b[0m\u001b[0mdf2_rfm\u001b[0m\u001b[0;34m[\u001b[0m\u001b[0;34m'frequency'\u001b[0m\u001b[0;34m]\u001b[0m\u001b[0;34m,\u001b[0m \u001b[0max\u001b[0m \u001b[0;34m=\u001b[0m \u001b[0max2\u001b[0m\u001b[0;34m)\u001b[0m\u001b[0;34m\u001b[0m\u001b[0;34m\u001b[0m\u001b[0m\n\u001b[1;32m      7\u001b[0m \u001b[0max\u001b[0m \u001b[0;34m=\u001b[0m \u001b[0msns\u001b[0m\u001b[0;34m.\u001b[0m\u001b[0mdistplot\u001b[0m\u001b[0;34m(\u001b[0m\u001b[0mdf2_rfm\u001b[0m\u001b[0;34m[\u001b[0m\u001b[0;34m'monetary'\u001b[0m\u001b[0;34m]\u001b[0m\u001b[0;34m,\u001b[0m \u001b[0max\u001b[0m \u001b[0;34m=\u001b[0m \u001b[0max3\u001b[0m\u001b[0;34m)\u001b[0m\u001b[0;34m\u001b[0m\u001b[0;34m\u001b[0m\u001b[0m\n",
      "\u001b[0;32m~/.pyenv/versions/3.9.1/envs/pa005/lib/python3.9/site-packages/pandas/core/frame.py\u001b[0m in \u001b[0;36m__getitem__\u001b[0;34m(self, key)\u001b[0m\n\u001b[1;32m   3022\u001b[0m             \u001b[0;32mif\u001b[0m \u001b[0mself\u001b[0m\u001b[0;34m.\u001b[0m\u001b[0mcolumns\u001b[0m\u001b[0;34m.\u001b[0m\u001b[0mnlevels\u001b[0m \u001b[0;34m>\u001b[0m \u001b[0;36m1\u001b[0m\u001b[0;34m:\u001b[0m\u001b[0;34m\u001b[0m\u001b[0;34m\u001b[0m\u001b[0m\n\u001b[1;32m   3023\u001b[0m                 \u001b[0;32mreturn\u001b[0m \u001b[0mself\u001b[0m\u001b[0;34m.\u001b[0m\u001b[0m_getitem_multilevel\u001b[0m\u001b[0;34m(\u001b[0m\u001b[0mkey\u001b[0m\u001b[0;34m)\u001b[0m\u001b[0;34m\u001b[0m\u001b[0;34m\u001b[0m\u001b[0m\n\u001b[0;32m-> 3024\u001b[0;31m             \u001b[0mindexer\u001b[0m \u001b[0;34m=\u001b[0m \u001b[0mself\u001b[0m\u001b[0;34m.\u001b[0m\u001b[0mcolumns\u001b[0m\u001b[0;34m.\u001b[0m\u001b[0mget_loc\u001b[0m\u001b[0;34m(\u001b[0m\u001b[0mkey\u001b[0m\u001b[0;34m)\u001b[0m\u001b[0;34m\u001b[0m\u001b[0;34m\u001b[0m\u001b[0m\n\u001b[0m\u001b[1;32m   3025\u001b[0m             \u001b[0;32mif\u001b[0m \u001b[0mis_integer\u001b[0m\u001b[0;34m(\u001b[0m\u001b[0mindexer\u001b[0m\u001b[0;34m)\u001b[0m\u001b[0;34m:\u001b[0m\u001b[0;34m\u001b[0m\u001b[0;34m\u001b[0m\u001b[0m\n\u001b[1;32m   3026\u001b[0m                 \u001b[0mindexer\u001b[0m \u001b[0;34m=\u001b[0m \u001b[0;34m[\u001b[0m\u001b[0mindexer\u001b[0m\u001b[0;34m]\u001b[0m\u001b[0;34m\u001b[0m\u001b[0;34m\u001b[0m\u001b[0m\n",
      "\u001b[0;32m~/.pyenv/versions/3.9.1/envs/pa005/lib/python3.9/site-packages/pandas/core/indexes/base.py\u001b[0m in \u001b[0;36mget_loc\u001b[0;34m(self, key, method, tolerance)\u001b[0m\n\u001b[1;32m   3080\u001b[0m                 \u001b[0;32mreturn\u001b[0m \u001b[0mself\u001b[0m\u001b[0;34m.\u001b[0m\u001b[0m_engine\u001b[0m\u001b[0;34m.\u001b[0m\u001b[0mget_loc\u001b[0m\u001b[0;34m(\u001b[0m\u001b[0mcasted_key\u001b[0m\u001b[0;34m)\u001b[0m\u001b[0;34m\u001b[0m\u001b[0;34m\u001b[0m\u001b[0m\n\u001b[1;32m   3081\u001b[0m             \u001b[0;32mexcept\u001b[0m \u001b[0mKeyError\u001b[0m \u001b[0;32mas\u001b[0m \u001b[0merr\u001b[0m\u001b[0;34m:\u001b[0m\u001b[0;34m\u001b[0m\u001b[0;34m\u001b[0m\u001b[0m\n\u001b[0;32m-> 3082\u001b[0;31m                 \u001b[0;32mraise\u001b[0m \u001b[0mKeyError\u001b[0m\u001b[0;34m(\u001b[0m\u001b[0mkey\u001b[0m\u001b[0;34m)\u001b[0m \u001b[0;32mfrom\u001b[0m \u001b[0merr\u001b[0m\u001b[0;34m\u001b[0m\u001b[0;34m\u001b[0m\u001b[0m\n\u001b[0m\u001b[1;32m   3083\u001b[0m \u001b[0;34m\u001b[0m\u001b[0m\n\u001b[1;32m   3084\u001b[0m         \u001b[0;32mif\u001b[0m \u001b[0mtolerance\u001b[0m \u001b[0;32mis\u001b[0m \u001b[0;32mnot\u001b[0m \u001b[0;32mNone\u001b[0m\u001b[0;34m:\u001b[0m\u001b[0;34m\u001b[0m\u001b[0;34m\u001b[0m\u001b[0m\n",
      "\u001b[0;31mKeyError\u001b[0m: 'recency'"
     ]
    },
    {
     "data": {
      "image/png": "[encoded data removed]",
      "text/plain": [
       "<Figure size 1800x864 with 3 Axes>"
      ]
     },
     "metadata": {},
     "output_type": "display_data"
    }
   ],
   "source": [
    "430\t14.488\t23.935\t0.059\t6336.697\t164.053\t3820.274\t64.547# creating subplots\n",
    "fig, (ax1, ax2, ax3) = plt.subplots(3, 1)\n",
    "fig.suptitle('RFM', fontsize=16)\n",
    "\n",
    "ax = sns.distplot(df2_rfm['recency'], ax = ax1)\n",
    "ax = sns.distplot(df2_rfm['frequency'], ax = ax2)\n",
    "ax = sns.distplot(df2_rfm['monetary'], ax = ax3)\n",
    "\n",
    "# saving figure\n",
    "plt.savefig(homepath + 'reports/figures/rfm.png')"
   ]
  },
  {
   "cell_type": "markdown",
   "id": "1e6f3c24-219f-4edd-839f-7fbeb399c568",
   "metadata": {
    "tags": []
   },
   "source": [
    "##### 2.3.1.2 RFM score"
   ]
  },
  {
   "cell_type": "code",
   "execution_count": null,
   "id": "6bef10cc-24ff-44fe-a022-a1781ba4aa89",
   "metadata": {
    "execution": {
     "iopub.status.busy": "2021-04-20T17:01:21.951330Z",
     "iopub.status.idle": "2021-04-20T17:01:21.951641Z",
     "shell.execute_reply": "2021-04-20T17:01:21.951488Z"
    },
    "tags": []
   },
   "outputs": [],
   "source": [
    "#creating a score\n",
    "df2_rfm['recency_score'] = df2_rfm['recency'].apply(lambda x: 5 if x <= 30 else\n",
    "                                   4 if x > 30 and x <= 60 else\n",
    "                                   3 if x > 60 and x <= 90 else\n",
    "                                   2 if x > 90 and x <= 120 else 1)\n",
    "\n",
    "df2_rfm['frequency_score'] = df2_rfm['frequency'].apply(lambda x: 5 if x >= 500 else\n",
    "                                   4 if x < 500 and x >= 125 else\n",
    "                                   3 if x < 125 and x >= 75 else\n",
    "                                   2 if x < 75 and x >= 50 else 1)\n",
    "\n",
    "df2_rfm['monetary_score'] = df2_rfm['monetary'].apply(lambda x: 5 if x >= 8000 else\n",
    "                                   4 if x < 8000 and x >= 2000 else\n",
    "                                   3 if x < 2000 and x >= 1000 else\n",
    "                                   2 if x < 1000 and x >= 500 else 1)\n",
    "df2_rfm['rfm_score'] = (df2_rfm['recency_score'] + df2_rfm['frequency_score'] + df2_rfm['monetary_score'])/3\n",
    "\n",
    "df2_rfm['rfm_level'] = df2_rfm['rfm_score'].apply(lambda x: 'Tier S' if x == 5 else\n",
    "                                   'Champions' if x < 5 and x >= 4 else\n",
    "                                   'Loyal' if x < 4 and x >= 3 else\n",
    "                                   'They have potential' if x < 3 and x >= 2 else 'Need a push')\n",
    "\n",
    "numerical_metrics(df2_rfm[['recency', 'frequency', 'monetary', 'recency_score', 'frequency_score', 'monetary_score']]).T"
   ]
  },
  {
   "cell_type": "code",
   "execution_count": null,
   "id": "6ce2c984-755a-4ea7-ae85-f4b2f1033a1f",
   "metadata": {
    "execution": {
     "iopub.status.busy": "2021-04-20T17:01:21.952374Z",
     "iopub.status.idle": "2021-04-20T17:01:21.952677Z",
     "shell.execute_reply": "2021-04-20T17:01:21.952532Z"
    },
    "tags": []
   },
   "outputs": [],
   "source": [
    "df2_rfm.sample(5)"
   ]
  },
  {
   "cell_type": "code",
   "execution_count": null,
   "id": "5de09218-e6ad-4acf-ba84-ca6e939cf3e4",
   "metadata": {
    "execution": {
     "iopub.status.busy": "2021-04-20T17:01:21.953707Z",
     "iopub.status.idle": "2021-04-20T17:01:21.954053Z",
     "shell.execute_reply": "2021-04-20T17:01:21.953869Z"
    },
    "tags": []
   },
   "outputs": [],
   "source": [
    "# verifying levels\n",
    "rfm_level_plt = df2_rfm.groupby('rfm_level').agg({\n",
    "    'recency': 'mean',\n",
    "    'frequency': 'mean',\n",
    "    'monetary': ['mean', 'count']\n",
    "})\n",
    "rfm_level_plt.columns = ['recency_mean', 'frequency_mean', 'monetary_mean', 'count']\n",
    "rfm_level_plt.reset_index()"
   ]
  },
  {
   "cell_type": "markdown",
   "id": "a39415fb-ae2e-4737-acde-c776c62065a6",
   "metadata": {
    "tags": []
   },
   "source": [
    "##### 2.3.1.3 Treemap"
   ]
  },
  {
   "cell_type": "code",
   "execution_count": null,
   "id": "22850a40-5be1-43e5-b54d-c9fa867950c3",
   "metadata": {
    "execution": {
     "iopub.status.busy": "2021-04-20T17:01:21.954900Z",
     "iopub.status.idle": "2021-04-20T17:01:21.955282Z",
     "shell.execute_reply": "2021-04-20T17:01:21.955116Z"
    },
    "tags": []
   },
   "outputs": [],
   "source": [
    "sizes = rfm_level_plt['count']\n",
    "label = rfm_level_plt['count'].index\n",
    "color = plt.cm.RdBu(np.random.rand(len(sizes)))\n",
    "\n",
    "# treemap\n",
    "rfm_level = squarify.plot(sizes = sizes, label = label, color = color,\n",
    "                          pad = True, alpha = 0.7, text_kwargs = {'rotation' : 90, 'fontsize' : 25});\n",
    "plt.axis('off');\n",
    "plt.tight_layout();\n",
    "plt.title('RFM Treemap', fontsize = 40)\n",
    "\n",
    "# saving figure\n",
    "plt.savefig(homepath + 'reports/figures/rfm_treemap.png')"
   ]
  },
  {
   "cell_type": "markdown",
   "id": "4182a6bd-fcf7-422b-95e7-766716b44492",
   "metadata": {},
   "source": [
    "###"
   ]
  },
  {
   "cell_type": "markdown",
   "id": "fef60e4f-6295-4182-9ec9-4ccaf79e6a89",
   "metadata": {
    "heading_collapsed": "true",
    "tags": []
   },
   "source": [
    "### 2.4 Hypothesis "
   ]
  },
  {
   "cell_type": "code",
   "execution_count": null,
   "id": "c3996afd-bfe5-40db-bb93-c005cf5a986b",
   "metadata": {},
   "outputs": [],
   "source": []
  },
  {
   "cell_type": "code",
   "execution_count": null,
   "id": "406b892f-c73b-486c-bf69-0dd9830f8cbf",
   "metadata": {},
   "outputs": [],
   "source": []
  },
  {
   "cell_type": "code",
   "execution_count": null,
   "id": "47c88562-2ceb-4ac4-8cf8-4fc435913b95",
   "metadata": {},
   "outputs": [],
   "source": []
  },
  {
   "cell_type": "code",
   "execution_count": null,
   "id": "578f8a50-0d62-4e51-906f-72052666bd35",
   "metadata": {},
   "outputs": [],
   "source": []
  },
  {
   "cell_type": "code",
   "execution_count": null,
   "id": "a21fb7c1-6ddc-452b-9b60-d0c2fab037d2",
   "metadata": {},
   "outputs": [],
   "source": []
  },
  {
   "cell_type": "markdown",
   "id": "6f990fae",
   "metadata": {
    "tags": []
   },
   "source": [
    "### 2.5 Save State"
   ]
  },
  {
   "cell_type": "code",
   "execution_count": null,
   "id": "701e5a8c",
   "metadata": {
    "execution": {
     "iopub.status.busy": "2021-04-20T17:01:21.956261Z",
     "iopub.status.idle": "2021-04-20T17:01:21.956602Z",
     "shell.execute_reply": "2021-04-20T17:01:21.956430Z"
    }
   },
   "outputs": [],
   "source": [
    "pickle.dump(df2, open(homepath + 'data/processed/df2.pkl', 'wb'))"
   ]
  },
  {
   "cell_type": "markdown",
   "id": "31f16daa",
   "metadata": {
    "tags": []
   },
   "source": [
    "## 3.0 VARIABLE FILTERING"
   ]
  },
  {
   "cell_type": "markdown",
   "id": "a97cf125",
   "metadata": {
    "tags": []
   },
   "source": [
    "### 3.1 Dataset Checkpoint"
   ]
  },
  {
   "cell_type": "code",
   "execution_count": null,
   "id": "75c41007",
   "metadata": {
    "execution": {
     "iopub.status.busy": "2021-04-20T17:01:21.957328Z",
     "iopub.status.idle": "2021-04-20T17:01:21.957627Z",
     "shell.execute_reply": "2021-04-20T17:01:21.957480Z"
    }
   },
   "outputs": [],
   "source": [
    "df3 = pickle.load(open(homepath + 'data/processed/df2.pkl', 'rb'))"
   ]
  },
  {
   "cell_type": "code",
   "execution_count": null,
   "id": "e74fdde6",
   "metadata": {},
   "outputs": [],
   "source": []
  },
  {
   "cell_type": "markdown",
   "id": "00a5cd16",
   "metadata": {
    "tags": []
   },
   "source": [
    "### 3. Save State"
   ]
  },
  {
   "cell_type": "code",
   "execution_count": null,
   "id": "1d6fb8c2",
   "metadata": {
    "execution": {
     "iopub.status.busy": "2021-04-20T17:01:21.958499Z",
     "iopub.status.idle": "2021-04-20T17:01:21.958803Z",
     "shell.execute_reply": "2021-04-20T17:01:21.958652Z"
    }
   },
   "outputs": [],
   "source": [
    "pickle.dump(df3, open(homepath + 'data/processed/df3.pkl', 'wb'))"
   ]
  },
  {
   "cell_type": "markdown",
   "id": "bf399e53",
   "metadata": {
    "tags": []
   },
   "source": [
    "## 4.0 EXPLORATORY DATA ANALYSIS"
   ]
  },
  {
   "cell_type": "markdown",
   "id": "c56cbe7a",
   "metadata": {
    "tags": []
   },
   "source": [
    "### 4.1 Dataset Checkpoint"
   ]
  },
  {
   "cell_type": "code",
   "execution_count": null,
   "id": "40cca4d4",
   "metadata": {
    "execution": {
     "iopub.status.busy": "2021-04-20T17:01:21.961260Z",
     "iopub.status.idle": "2021-04-20T17:01:21.961903Z",
     "shell.execute_reply": "2021-04-20T17:01:21.961583Z"
    }
   },
   "outputs": [],
   "source": [
    "df4 = pickle.load(open(homepath + 'data/processed/df3.pkl', 'rb'))"
   ]
  },
  {
   "cell_type": "code",
   "execution_count": null,
   "id": "a1ce5190",
   "metadata": {},
   "outputs": [],
   "source": []
  },
  {
   "cell_type": "code",
   "execution_count": null,
   "id": "bb45fd3b",
   "metadata": {},
   "outputs": [],
   "source": []
  },
  {
   "cell_type": "code",
   "execution_count": null,
   "id": "2f869cd6",
   "metadata": {},
   "outputs": [],
   "source": []
  },
  {
   "cell_type": "code",
   "execution_count": null,
   "id": "89aac612",
   "metadata": {},
   "outputs": [],
   "source": []
  },
  {
   "cell_type": "code",
   "execution_count": null,
   "id": "7d439ad8",
   "metadata": {},
   "outputs": [],
   "source": []
  },
  {
   "cell_type": "code",
   "execution_count": null,
   "id": "66e1038d",
   "metadata": {},
   "outputs": [],
   "source": []
  },
  {
   "cell_type": "code",
   "execution_count": null,
   "id": "7639dd72",
   "metadata": {},
   "outputs": [],
   "source": []
  },
  {
   "cell_type": "code",
   "execution_count": null,
   "id": "51501792",
   "metadata": {},
   "outputs": [],
   "source": []
  },
  {
   "cell_type": "code",
   "execution_count": null,
   "id": "b758b9e6",
   "metadata": {},
   "outputs": [],
   "source": []
  },
  {
   "cell_type": "markdown",
   "id": "e8aab10e",
   "metadata": {
    "heading_collapsed": "true",
    "tags": []
   },
   "source": [
    "### 4. Save State"
   ]
  },
  {
   "cell_type": "code",
   "execution_count": null,
   "id": "ffe84057",
   "metadata": {
    "execution": {
     "iopub.status.busy": "2021-04-20T17:01:21.963680Z",
     "iopub.status.idle": "2021-04-20T17:01:21.964450Z",
     "shell.execute_reply": "2021-04-20T17:01:21.964064Z"
    }
   },
   "outputs": [],
   "source": [
    "pickle.dump(df4, open(homepath + 'data/processed/df4.pkl', 'wb'))"
   ]
  },
  {
   "cell_type": "code",
   "execution_count": null,
   "id": "b5d4da05",
   "metadata": {},
   "outputs": [],
   "source": []
  },
  {
   "cell_type": "code",
   "execution_count": null,
   "id": "464593cb",
   "metadata": {},
   "outputs": [],
   "source": []
  },
  {
   "cell_type": "code",
   "execution_count": null,
   "id": "1159459f",
   "metadata": {},
   "outputs": [],
   "source": []
  },
  {
   "cell_type": "code",
   "execution_count": null,
   "id": "fbe306de",
   "metadata": {},
   "outputs": [],
   "source": []
  },
  {
   "cell_type": "code",
   "execution_count": null,
   "id": "2627ab02",
   "metadata": {},
   "outputs": [],
   "source": []
  },
  {
   "cell_type": "code",
   "execution_count": null,
   "id": "8421d9f8",
   "metadata": {},
   "outputs": [],
   "source": []
  },
  {
   "cell_type": "code",
   "execution_count": null,
   "id": "273e510e",
   "metadata": {},
   "outputs": [],
   "source": []
  },
  {
   "cell_type": "code",
   "execution_count": null,
   "id": "2b891d04",
   "metadata": {},
   "outputs": [],
   "source": []
  },
  {
   "cell_type": "markdown",
   "id": "595967f3",
   "metadata": {
    "heading_collapsed": "true",
    "tags": []
   },
   "source": [
    "## 5.0 DATA PREPARATION"
   ]
  },
  {
   "cell_type": "markdown",
   "id": "94508f67",
   "metadata": {
    "heading_collapsed": "true",
    "tags": []
   },
   "source": [
    "### 5.1 Dataset Checkpoint"
   ]
  },
  {
   "cell_type": "code",
   "execution_count": null,
   "id": "f4beb739",
   "metadata": {
    "execution": {
     "iopub.status.busy": "2021-04-20T17:01:21.966021Z",
     "iopub.status.idle": "2021-04-20T17:01:21.966660Z",
     "shell.execute_reply": "2021-04-20T17:01:21.966368Z"
    }
   },
   "outputs": [],
   "source": [
    "df5 = pickle.load(open(homepath + 'data/processed/df4.pkl', 'rb'))"
   ]
  },
  {
   "cell_type": "code",
   "execution_count": null,
   "id": "56bf3c16",
   "metadata": {},
   "outputs": [],
   "source": []
  },
  {
   "cell_type": "markdown",
   "id": "6ff6779a",
   "metadata": {
    "heading_collapsed": "true",
    "tags": []
   },
   "source": [
    "### 5. Save State"
   ]
  },
  {
   "cell_type": "code",
   "execution_count": null,
   "id": "cde681d8",
   "metadata": {
    "execution": {
     "iopub.status.busy": "2021-04-20T17:01:21.968299Z",
     "iopub.status.idle": "2021-04-20T17:01:21.968891Z",
     "shell.execute_reply": "2021-04-20T17:01:21.968606Z"
    }
   },
   "outputs": [],
   "source": [
    "pickle.dump(df5, open(homepath + 'data/processed/df5.pkl', 'wb'))"
   ]
  },
  {
   "cell_type": "markdown",
   "id": "2e3a0828",
   "metadata": {
    "tags": []
   },
   "source": [
    "## 6.0 FEATURE SELECTION"
   ]
  },
  {
   "cell_type": "markdown",
   "id": "375b35f3",
   "metadata": {
    "heading_collapsed": "true",
    "tags": []
   },
   "source": [
    "### 6.1 Dataset Checkpoint"
   ]
  },
  {
   "cell_type": "code",
   "execution_count": null,
   "id": "8a8cfa03",
   "metadata": {
    "execution": {
     "iopub.status.busy": "2021-04-20T17:01:21.970789Z",
     "iopub.status.idle": "2021-04-20T17:01:21.971363Z",
     "shell.execute_reply": "2021-04-20T17:01:21.971077Z"
    },
    "tags": []
   },
   "outputs": [],
   "source": [
    "df6 = pickle.load(open(homepath + 'data/processed/df5.pkl', 'rb'))"
   ]
  },
  {
   "cell_type": "code",
   "execution_count": null,
   "id": "13a56683",
   "metadata": {},
   "outputs": [],
   "source": []
  },
  {
   "cell_type": "markdown",
   "id": "888a263b",
   "metadata": {
    "tags": []
   },
   "source": [
    "## 7.0 MACHINE LEARNING MODELS"
   ]
  },
  {
   "cell_type": "code",
   "execution_count": null,
   "id": "ae5ad6f1",
   "metadata": {},
   "outputs": [],
   "source": []
  },
  {
   "cell_type": "code",
   "execution_count": null,
   "id": "461bd150",
   "metadata": {},
   "outputs": [],
   "source": []
  },
  {
   "cell_type": "code",
   "execution_count": null,
   "id": "29614f93",
   "metadata": {},
   "outputs": [],
   "source": []
  },
  {
   "cell_type": "markdown",
   "id": "12e9205e",
   "metadata": {
    "heading_collapsed": "true",
    "tags": []
   },
   "source": [
    "## 8.0 HYPERPARAMETER FINE TUNING"
   ]
  },
  {
   "cell_type": "code",
   "execution_count": null,
   "id": "3328b98d",
   "metadata": {},
   "outputs": [],
   "source": []
  },
  {
   "cell_type": "code",
   "execution_count": null,
   "id": "d3add102",
   "metadata": {},
   "outputs": [],
   "source": []
  },
  {
   "cell_type": "code",
   "execution_count": null,
   "id": "8ddb5146",
   "metadata": {},
   "outputs": [],
   "source": []
  },
  {
   "cell_type": "markdown",
   "id": "51e29ab7",
   "metadata": {
    "heading_collapsed": "true",
    "tags": []
   },
   "source": [
    "## 9.0 ERROR INTERPRETATION"
   ]
  },
  {
   "cell_type": "code",
   "execution_count": null,
   "id": "50beb5bd",
   "metadata": {},
   "outputs": [],
   "source": []
  },
  {
   "cell_type": "code",
   "execution_count": null,
   "id": "562f5cbe",
   "metadata": {},
   "outputs": [],
   "source": []
  },
  {
   "cell_type": "code",
   "execution_count": null,
   "id": "be5ae874",
   "metadata": {},
   "outputs": [],
   "source": []
  },
  {
   "cell_type": "code",
   "execution_count": null,
   "id": "ab7c3fb8",
   "metadata": {},
   "outputs": [],
   "source": []
  },
  {
   "cell_type": "code",
   "execution_count": null,
   "id": "fefcd6cb",
   "metadata": {},
   "outputs": [],
   "source": []
  },
  {
   "cell_type": "markdown",
   "id": "e3d310bc",
   "metadata": {
    "tags": []
   },
   "source": [
    "## 10.0 DEPLOY"
   ]
  },
  {
   "cell_type": "code",
   "execution_count": null,
   "id": "292faaff",
   "metadata": {},
   "outputs": [],
   "source": []
  },
  {
   "cell_type": "code",
   "execution_count": null,
   "id": "ef1664ed",
   "metadata": {},
   "outputs": [],
   "source": []
  },
  {
   "cell_type": "code",
   "execution_count": null,
   "id": "fb3e222d",
   "metadata": {},
   "outputs": [],
   "source": []
  },
  {
   "cell_type": "code",
   "execution_count": null,
   "id": "250c0bf4",
   "metadata": {},
   "outputs": [],
   "source": []
  }
 ],
 "metadata": {
  "kernelspec": {
   "display_name": "Python 3",
   "language": "python",
   "name": "python3"
  },
  "language_info": {
   "codemirror_mode": {
    "name": "ipython",
    "version": 3
   },
   "file_extension": ".py",
   "mimetype": "text/x-python",
   "name": "python",
   "nbconvert_exporter": "python",
   "pygments_lexer": "ipython3",
   "version": "3.9.2"
  }
 },
 "nbformat": 4,
 "nbformat_minor": 5
}
